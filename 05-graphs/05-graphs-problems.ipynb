{
  "cells": [
    {
      "cell_type": "markdown",
      "source": [
        "# Number of Islands\n",
        "\n",
        "Given an `m x n` 2D binary grid `grid` which represents a map of `'1'`s (land) and `'0'`s (water), return the number of islands.\n",
        "\n",
        "An **island** is surrounded by water and is formed by connecting adjacent lands horizontally or vertically. You may assume all four edges of the grid are all surrounded by water.\n",
        "\n",
        "# Examples:\n",
        "\n",
        "```\n",
        "Input: grid = [\n",
        "  [\"1\",\"1\",\"1\",\"1\",\"0\"],\n",
        "  [\"1\",\"1\",\"0\",\"1\",\"0\"],\n",
        "  [\"1\",\"1\",\"0\",\"0\",\"0\"],\n",
        "  [\"0\",\"0\",\"0\",\"0\",\"0\"]\n",
        "]\n",
        "Output: 1\n",
        "```\n",
        "\n",
        "```\n",
        "Input: grid = [\n",
        "  [\"1\",\"1\",\"0\",\"0\",\"0\"],\n",
        "  [\"1\",\"1\",\"0\",\"0\",\"0\"],\n",
        "  [\"0\",\"0\",\"1\",\"0\",\"0\"],\n",
        "  [\"0\",\"0\",\"0\",\"1\",\"1\"]\n",
        "]\n",
        "Output: 3\n",
        "```\n",
        "\n"
      ],
      "metadata": {}
    },
    {
      "cell_type": "markdown",
      "source": [
        "# Las N reinas\n",
        "\n",
        "Imagina que tienes un tablero $N\\times N$  $N \\geq 4$, Y tu quieres posicionar $N$ reinas de forma tal que:\n",
        "\n",
        "- Todas se ataquen entre si\n",
        "- Ninguna se ataque entre si\n",
        "\n",
        "\n",
        "Decir si es posible y dar una configuracion en cada caso (si es posible).\n"
      ],
      "metadata": {}
    },
    {
      "cell_type": "code",
      "execution_count": null,
      "source": [
        "print(' Solution here ')"
      ],
      "outputs": [],
      "metadata": {}
    },
    {
      "cell_type": "markdown",
      "source": [
        "# Exercise: Word Search\n",
        "\n",
        "Given an `m x n` grid of characters board and a string `word`, return `true` if `word` exists in the grid.\n",
        "\n",
        "The word can be constructed from letters of sequentially adjacent cells, where adjacent cells are horizontally or vertically neighboring. The same letter cell may not be used more than once.\n",
        "\n",
        "## Examples:\n",
        "\n",
        "<center>\n",
        "\n",
        "![''](../img/word1.jpg)\n",
        "\n",
        "</center>\n",
        "\n",
        "```\n",
        "Input: \n",
        "    board = [[\"A\",\"B\",\"C\",\"E\"],[\"S\",\"F\",\"C\",\"S\"],[\"A\",\"D\",\"E\",\"E\"]]\n",
        "    word  = \"ABCCED\"\n",
        "    word  = \"EEEEEEE\"\n",
        "Output: true\n",
        "```\n",
        "\n",
        "\n",
        "<center>\n",
        "\n",
        "![''](../img/word2.jpg)\n",
        "\n",
        "</center>\n",
        "\n",
        "```\n",
        "Input: \n",
        "    board = [[\"A\",\"B\",\"C\",\"E\"],[\"S\",\"F\",\"C\",\"S\"],[\"A\",\"D\",\"E\",\"E\"]]\n",
        "    word  = \"SEE\"\n",
        "Output: true\n",
        "```\n",
        "\n",
        "\n",
        "<center>\n",
        "\n",
        "![''](../img/word3.jpg)\n",
        "\n",
        "</center>\n",
        "\n",
        "```\n",
        "Input: \n",
        "    board = [[\"A\",\"B\",\"C\",\"E\"],[\"S\",\"F\",\"C\",\"S\"],[\"A\",\"D\",\"E\",\"E\"]]\n",
        "    word  = \"ABCB\"\n",
        "Output: true\n",
        "```\n"
      ],
      "metadata": {}
    },
    {
      "cell_type": "code",
      "execution_count": 2,
      "source": [
        "print(' Solution here ')"
      ],
      "outputs": [
        {
          "output_type": "stream",
          "name": "stdout",
          "text": [
            " Solution here \n"
          ]
        }
      ],
      "metadata": {}
    },
    {
      "cell_type": "markdown",
      "source": [
        "# Exercise:  Trust groups\n",
        "\n",
        "The personnel department of Association of Cookie Monsters (ACM) has noticed\n",
        "that the productivity of various work groups in the company is not as good as it\n",
        "could be. \n",
        "\n",
        "They have interviewed the employees in the affected groups and they\n",
        "have detected the root of the problem: trust (or, rather, the lack thereof).\n",
        "\n",
        "Some employees do not trust the rest of the group, and this is decreasing their motivation\n",
        "and happiness. The personnel department wants to solve this problem, and has\n",
        "decided to reorganize the groups so that they are stable, i.e., they are formed by\n",
        "people who trust each other. \n",
        "\n",
        "They have asked the employees, and they know the people each employee trusts directly. Moreover, \n",
        "if employee A trusts employee B and employee B trusts employee C, then employee A will trust employee C. And\n",
        "obviously, each employee trusts himself.\n",
        "\n",
        "They want to create as few groups as\n",
        "possible to reduce administration overhead (they also do not want to work too\n",
        "hard).\n",
        "\n",
        "With this information they have contacted you, and asked you to write a\n",
        "program that \u001cnds the minimum number of stable groups that can be created.\n"
      ],
      "metadata": {}
    },
    {
      "cell_type": "code",
      "execution_count": 1,
      "source": [
        "\n",
        "test_grid = [\n",
        "  [\"1\",\"1\",\"0\",\"0\",\"0\"],\n",
        "  [\"1\",\"1\",\"0\",\"0\",\"0\"],\n",
        "  [\"0\",\"0\",\"1\",\"0\",\"0\"],\n",
        "  [\"0\",\"0\",\"0\",\"1\",\"1\"]\n",
        "]\n"
      ],
      "outputs": [],
      "metadata": {}
    }
  ],
  "metadata": {
    "orig_nbformat": 4,
    "language_info": {
      "name": "python",
      "version": "3.9.7",
      "mimetype": "text/x-python",
      "codemirror_mode": {
        "name": "ipython",
        "version": 3
      },
      "pygments_lexer": "ipython3",
      "nbconvert_exporter": "python",
      "file_extension": ".py"
    },
    "kernelspec": {
      "name": "python3",
      "display_name": "Python 3.9.7 64-bit"
    },
    "interpreter": {
      "hash": "e7370f93d1d0cde622a1f8e1c04877d8463912d04d973331ad4851f04de6915a"
    }
  },
  "nbformat": 4,
  "nbformat_minor": 2
}