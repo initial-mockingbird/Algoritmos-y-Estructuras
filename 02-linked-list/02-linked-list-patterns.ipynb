{
 "cells": [
  {
   "cell_type": "markdown",
   "source": [
    "# Patrones en LinkedList\n",
    "#### 1) Sliding Window \n",
    "Cuando lideamos con problemas con arreglos o linked list, usualmente nos pregunta como calcular algo que esta en un subarreglo continuo. Por ejemplo \n",
    "\n",
    "> Dado un arreglo, consigue el sub-arreglo continuo dado un numero K \n",
    "\n",
    "Vamos a entender el problema con un ejemplo \n",
    "```\n",
    "Array: [1, 3, 2, 6, -1, 4, 1, 8, 2], K=5\n",
    "```\n",
    "Aqui nos preguntan encontrar el promedio de todos los sub-arreglos continuos con el tamaño de 5. Vamos a solucionar esto.\n",
    "\n",
    "1. Para los primeros 5 numeros (`Sub arreglos desde el indice 0 a 4` el indice promedio es `1 + 3 + 2 +6 -1 /5` => `2.2`\n",
    "\n",
    "2. Para los siguientes 5 `(3+2+6−1+4)/5` => `2.8`\n",
    "\n",
    "3. Los siguientes 5 `2+6−1+4+1/5` => `2.4`\n",
    "\n",
    "Aqui esta el output final:\n",
    "```\n",
    "Output: [2.2, 2.8, 2.4, 3.6, 2.8]\n",
    "```\n",
    "Una manera de hacer \"brute force\", seria calcular cada sub-arreglo y dividirlo entre 5. Mas o menos asi: \n"
   ],
   "metadata": {}
  },
  {
   "cell_type": "code",
   "execution_count": 6,
   "source": [
    "def findAvgSubSubarrays(K, arr):\n",
    "  result = []\n",
    "  for i in range(len(arr)-K+1):\n",
    "    _sum = 0.0\n",
    "    for j in range(i, i + K):\n",
    "      _sum += arr[j]\n",
    "    result.append(_sum / K )  # Calcular el promedio\n",
    "\n",
    "  return result\n",
    "\n",
    "def main():\n",
    "  result = findAvgSubSubarrays(5, [1, 3, 2, 6, -1, 4, 1, 8, 2])\n",
    "  print(str(result))\n",
    "\n",
    "main()\n",
    "\n",
    "def cool_function(num):\n",
    "    print('this is a test function')\n",
    "    a = \"test me\"\n",
    "    for number in num:\n",
    "        if number != None:\n",
    "            a = number\n",
    "            a = a\n",
    "        for number in num:\n",
    "            if number != None:\n",
    "                a = number\n",
    "                a = a\n",
    "    print(a)\n",
    "cool_function('abvddd')\n",
    "\n"
   ],
   "outputs": [
    {
     "output_type": "stream",
     "name": "stdout",
     "text": [
      "[2.2, 2.8, 2.4, 3.6, 2.8]\n",
      "this is a test function\n",
      "d\n"
     ]
    }
   ],
   "metadata": {}
  },
  {
   "cell_type": "markdown",
   "source": [
    "**Time complexity**: Seria que cado elemento en nuestro input, estamos calculado con los los siguientes \"K\" elementos.\n",
    "O(N * K)\n",
    "\n",
    "Podemos encontrar una mejor solucion? Ves la poca eficiencia en este metodo?  \n",
    "\n",
    "La ineficiencnia es que cualquiera de los dos arreglos continuos es maximo el tamaño de '5' y la parte donde  estan los dos estan casi los mismos elementos (los otros 4 elementos)\n",
    "\n",
    "<img src=\"../img/patterns_subarray.png\" width=\"400\" >"
   ],
   "metadata": {}
  },
  {
   "cell_type": "markdown",
   "source": [
    "Ahora la manera inteligente de poder solucionar este problema, seria vizualizar el arreglo como una ventana moviendose \"Sliding window\" de 5 elementos. \n",
    "\n",
    "Reusando la ` sum ` del elemento previo del sub-arreglo. podemos subtraer el elemento que va saliendo de la 'ventana' y agregar el elemento nuevo.\n",
    "\n",
    "Esto nos va a salar de ir con el sub-arreglo de nuevo y reduce nuestra complejidad a ` O(n) `"
   ],
   "metadata": {}
  }
 ],
 "metadata": {
  "orig_nbformat": 4,
  "language_info": {
   "name": "python",
   "version": "3.9.7",
   "mimetype": "text/x-python",
   "codemirror_mode": {
    "name": "ipython",
    "version": 3
   },
   "pygments_lexer": "ipython3",
   "nbconvert_exporter": "python",
   "file_extension": ".py"
  },
  "kernelspec": {
   "name": "python3",
   "display_name": "Python 3.9.7 64-bit"
  },
  "interpreter": {
   "hash": "e7370f93d1d0cde622a1f8e1c04877d8463912d04d973331ad4851f04de6915a"
  }
 },
 "nbformat": 4,
 "nbformat_minor": 2
}