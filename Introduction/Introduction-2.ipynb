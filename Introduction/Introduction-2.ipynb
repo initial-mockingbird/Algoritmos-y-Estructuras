{
 "cells": [
  {
   "cell_type": "code",
   "execution_count": null,
   "source": [
    "# Autor: Daniel Pinto\r\n",
    "# Introduccion a la notacion asintotica parte 2\r\n",
    "# Fecha: 2021/09/23 YYYY/MM/DD\r\n",
    "from typing import List, TypeVar, Tuple, Any, Callable\r\n",
    "from hypothesis import given, strategies as st\r\n",
    "from IPython.display import Markdown, display\r\n",
    "\r\n",
    "def display_(s : str) -> None:\r\n",
    "    '''\r\n",
    "    A way to display strings with markdown \r\n",
    "    in jupyter.\r\n",
    "    '''\r\n",
    "    display(\r\n",
    "        Markdown(s)\r\n",
    "    )\r\n",
    "\r\n",
    "\r\n",
    "SUCCESS_COLOR = '#4BB543'\r\n",
    "ERROR_COLOR   = '#B00020'\r\n",
    "\r\n",
    "def color_text(s : str, color : str =SUCCESS_COLOR ) -> str:\r\n",
    "    return f\"<span style='color:{color}'> {s} </span>.\"\r\n",
    "\r\n",
    "\r\n",
    "a      = TypeVar('a')\r\n",
    "b      = TypeVar('b')\r\n",
    "c      = TypeVar('c')"
   ],
   "outputs": [],
   "metadata": {}
  },
  {
   "cell_type": "markdown",
   "source": [
    "# Recursividad y el teorema maestro\r\n",
    "\r\n",
    "Hasta ahora tenemos una forma de calcular la complejidad de algoritmos simples que usen una combinacion de las estructuras de control basicas: loops, condicionales y breaks, sin embargo muchos de los algoritmos que veremos se representan facilmente de forma recursiva, y seria conveniente tener una forma de estimar su complejidad."
   ],
   "metadata": {}
  }
 ],
 "metadata": {
  "orig_nbformat": 4,
  "language_info": {
   "name": "python"
  }
 },
 "nbformat": 4,
 "nbformat_minor": 2
}