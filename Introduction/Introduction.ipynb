{
 "cells": [
  {
   "cell_type": "code",
   "execution_count": 1,
   "source": [
    "# Autor: Daniel Pinto\r\n",
    "# Introduccion a la notacion asintotica\r\n",
    "# Fecha: 2021/09/23 YYYY/MM/DD\r\n",
    "from typing import List, TypeVar, Tuple, Any, Callable\r\n",
    "from hypothesis import given, strategies as st\r\n",
    "from IPython.display import Markdown, display\r\n",
    "\r\n",
    "def display_(s : str) -> None:\r\n",
    "    '''\r\n",
    "    A way to display strings with markdown \r\n",
    "    in jupyter.\r\n",
    "    '''\r\n",
    "    display(\r\n",
    "        Markdown(s)\r\n",
    "    )\r\n",
    "\r\n",
    "\r\n",
    "SUCCESS_COLOR = '#4BB543'\r\n",
    "ERROR_COLOR   = '#B00020'\r\n",
    "\r\n",
    "def color_text(s : str, color : str =SUCCESS_COLOR ) -> str:\r\n",
    "    return f\"<span style='color:{color}'> {s} </span>.\"\r\n",
    "\r\n",
    "\r\n",
    "a      = TypeVar('a')\r\n",
    "b      = TypeVar('b')\r\n",
    "c      = TypeVar('c')"
   ],
   "outputs": [],
   "metadata": {}
  },
  {
   "cell_type": "markdown",
   "source": [
    "# Big $O$ notation\r\n",
    "\r\n",
    "\r\n",
    "- Es una forma de calcular el **numero de operaciones** que un algoritmo realiza\r\n",
    "  \r\n",
    "- Analiza el numero de operaciones en **el peor de los casos**\r\n",
    "  \r\n",
    "- En caso de que el peor de los casos se ejecute en la misma cantidad de operaciones que en el mejor de los casos, lo llamamos $\\Theta$ (theta)\r\n",
    "notation.\r\n",
    "\r\n",
    "- Tambien existe el _average case complexity_ para estudiar el caso promedio, pero este es sorprendentemente dificil de calcular (por cuestion de probabilidades: como se distribuye la data?)\r\n",
    "\r\n",
    "- Muchas veces es referido como _time complexity_, sin embargo algoritmos con complejidades superiores **no siempre son mas lentos** que algoritmos con complejidades inferiores\r\n",
    "  \r\n",
    "- Asi que, aunque es una buena herramienta para estimar que puede ser mas eficiente, **benchmarking** siempre sera necesario."
   ],
   "metadata": {}
  },
  {
   "cell_type": "markdown",
   "source": [
    "# Un ejemplo basico: `for loops`\r\n",
    "\r\n",
    "Consideremos el siguiente script de python que suma los primeros `n` numeros:"
   ],
   "metadata": {}
  },
  {
   "cell_type": "code",
   "execution_count": null,
   "source": [
    "# Algoritmo a.\r\n",
    "def suma() -> None:\r\n",
    "    n     = 10\r\n",
    "    sum_n = 0\r\n",
    "\r\n",
    "    for i in range(n):\r\n",
    "        sum_n = sum_n + i\r\n",
    "\r\n",
    "    display_(f\"La suma de los primeros ${n}$ numeros es: ${sum_n}$\")\r\n",
    "\r\n",
    "if __name__==\"__main__\":\r\n",
    "    suma()\r\n"
   ],
   "outputs": [],
   "metadata": {}
  },
  {
   "cell_type": "markdown",
   "source": [
    "Notemos que la funcion main realiza:\r\n",
    "\r\n",
    "\r\n",
    "```python\r\n",
    "# Algoritmo a.\r\n",
    "def main():\r\n",
    "    n     = 10                                  <- 1\r\n",
    "    sum_n = 0                                   <- 2\r\n",
    "\r\n",
    "    for i in range(n):                          <- n +2\r\n",
    "        sum_n = sum_n + i                       <- n + n + 2 = 2n+2\r\n",
    "\r\n",
    "    print(\r\n",
    "        f\"La suma de los primeros {n} numeros es: {sum_n}\" <- 2n+3\r\n",
    "        )\r\n",
    "\r\n",
    "if __name__==\"__main__\":\r\n",
    "    main()\r\n",
    "\r\n",
    "```\r\n",
    "\r\n",
    "$2n+3$ operaciones, por lo tanto su complejidad en tiempo es de: $O(2n+3)$"
   ],
   "metadata": {}
  },
  {
   "cell_type": "markdown",
   "source": [
    "\r\n",
    "Si adicionalmente quisieramos calcular tanto la suma como el producto:"
   ],
   "metadata": {}
  },
  {
   "cell_type": "code",
   "execution_count": null,
   "source": [
    "# Algoritmo b.\r\n",
    "def suma_producto() -> None:\r\n",
    "    n      = 10                                  #<- 1\r\n",
    "    sum_n  = 0                                   #<- 2\r\n",
    "    prod_n = 1                                   #<- 3\r\n",
    "\r\n",
    "    for i in range(1,n):                         #<- n +3\r\n",
    "        sum_n  = sum_n  + i                      #<- n + n + 3  = 2n+3\r\n",
    "        prod_n = prod_n * i                      #<- 2n + 3 + n = 3n+3\r\n",
    "\r\n",
    "    display_(\r\n",
    "        f\"La suma de los primeros ${n}$ numeros es: ${sum_n}$\" #<- 3n+4\r\n",
    "        )\r\n",
    "    \r\n",
    "    display_(\r\n",
    "        f\"El producto de los primeros ${n}$ numeros es: ${prod_n}$\" #<- 3n+5\r\n",
    "        )\r\n",
    "\r\n",
    "\r\n",
    "if __name__==\"__main__\":\r\n",
    "    suma_producto()\r\n"
   ],
   "outputs": [],
   "metadata": {}
  },
  {
   "cell_type": "markdown",
   "source": [
    "En este caso, la complejidad es $O(3n+5)$"
   ],
   "metadata": {}
  },
  {
   "cell_type": "markdown",
   "source": [
    "\r\n",
    "# Comparando funciones bajo la notacion $O$\r\n",
    "\r\n",
    "Finisimo, ya tenemos como sacar la complejidad de algoritmos simples con ciclos, y no solo eso, sino sabemos contar exactamente cuantas operaciones hacen. Sin embargo, hay una pregunta interesante que surge una vez ya sabemos el numero de pasos: cual algoritmo se comporta mejor?\r\n",
    "\r\n",
    "\r\n",
    "En el caso anterior, parece ser que el `Algoritmo a.` tiene una menor complejidad que el `Algoritmo b.`, lo cual parece razonable, pero que pasa si tengo dos algoritmos con complejidades: $O_1 = O(n+1)$ y $O_2 = O(n+2)$? Es un poco exagerado decir que el primer algoritmo es mejor ya que hace solo 1 operacion mas, si esa operacion es un o-logico (`||`) la diferencia en tiempo es **menor** a un ciclo de cpu, basicamente poseen el mismo tiempo. Por lo tanto, necesitamos introducir algunas nociones para determinar esto."
   ],
   "metadata": {}
  },
  {
   "cell_type": "markdown",
   "source": [
    "# La matematica del asunto\r\n",
    "\r\n",
    "Sean $f(n)$ y $g(n)$ dos funciones, entonces decimos que $f$ _domina asintoticamente a_ $g$ si y solo si:\r\n",
    "\r\n",
    "\r\n",
    "$$\r\n",
    "\\lim_{n \\rightarrow \\infty} \\dfrac{g(n)}{f(n)} = k, \\ k \\in \\mathbb{R}\r\n",
    "$$\r\n",
    "\r\n",
    "En nuestro ejemplo anterior:\r\n",
    "\r\n",
    "$$\r\n",
    "\\lim_{n \\rightarrow \\infty} \\dfrac{2n+3}{3n+5} = \\dfrac{2}{3} \\in \\mathbb{R}\r\n",
    "$$\r\n",
    "\r\n",
    "\r\n",
    "Esto se traduce a: $O(g(n)) = O(f(n))$, es importante resaltar que este operador **no** es simetrico, por ejemplo, sea $f(n) = n^2$ y sea $g(n) = n$, entonces:\r\n",
    "\r\n",
    "$$\r\n",
    "\\lim_{n \\rightarrow \\infty} \\dfrac{n}{n^2} = 0 \\in \\mathbb{R}\r\n",
    "$$\r\n",
    "\r\n",
    "Es decir: $O(n) = O(n^2)$, pero:\r\n",
    "\r\n",
    "$$\r\n",
    "\\lim_{n \\rightarrow \\infty} \\dfrac{n^2}{n} = \\infty \\not \\in \\mathbb{R}\r\n",
    "$$\r\n",
    "\r\n",
    "Por lo tanto: $O(n^2) \\not = O(n)$"
   ],
   "metadata": {}
  },
  {
   "cell_type": "markdown",
   "source": [
    "\r\n",
    "# Jerarquia Asintoticas y Propiedades:\r\n",
    "\r\n",
    "### Jerarquia:\r\n",
    "\r\n",
    "\r\n",
    "<center>\r\n",
    "\r\n",
    "|    Nombre   \t|    Notacion    \t|\r\n",
    "|:-----------:\t|:--------------:\t|\r\n",
    "| Constante   \t| $O(1)$         \t|\r\n",
    "| Log-Log     \t| $O(log(log(n)$ \t|\r\n",
    "| Logaritmico \t| $O(log(n))$    \t|\r\n",
    "| Lineal      \t| $O(n)$         \t|\r\n",
    "| Lineal-Log  \t| $O(n\\ log(n))$  \t|\r\n",
    "| Cuadratico  \t| $O(n^2)$       \t|\r\n",
    "| Cubico      \t| $O(n^3)$       \t|\r\n",
    "| Polinomico  \t| $O(poly(n))$   \t|\r\n",
    "| Exponencial \t| $O(2^n)$       \t|\r\n",
    "| Factorial   \t| $O(n!)$        \t|\r\n",
    "\r\n",
    "</center>\r\n",
    "\r\n",
    "\r\n",
    "### Propiedades:\r\n",
    "\r\n",
    "- $O(k \\ f(n)) = O(f(n))$\r\n",
    "  \r\n",
    "- $O(f(n) + g(n)) = O(max \\ f(n) \\ g(n))$\r\n",
    "  \r\n",
    "- $O(f(n) * g(n)) = O(f(n)) * O(g(n))$\r\n"
   ],
   "metadata": {}
  },
  {
   "cell_type": "markdown",
   "source": [
    "# Ejercicio: Suma de matrices\r\n",
    "\r\n",
    "\r\n",
    "Analicemos la complejidad de un algoritmo para sumar matrices:"
   ],
   "metadata": {}
  },
  {
   "cell_type": "code",
   "execution_count": null,
   "source": [
    "# Por simplicidad definiremos una matriz como una lista de listas\r\n",
    "Matrix    = List[List[a]]\r\n",
    "\r\n",
    "def sum_matrix(M : Matrix[float], N : Matrix[float], size : Tuple[int,int] ) -> Matrix[float] :\r\n",
    "    (n,m) = size\r\n",
    "    res  : Matrix[float]  = [[0 for _ in range(m)] for _ in range(n)]\r\n",
    "\r\n",
    "    # Para cada indice: 0<= i < #rows\r\n",
    "    for i in range(n):\r\n",
    "        # Para cada indice: 0<=j < #cols\r\n",
    "        for j in range(m):\r\n",
    "            res[i][j] = M[i][j] + N[i][j]\r\n",
    "    return res\r\n",
    "\r\n",
    "def print_num_matrix(M : Matrix[float]) -> None:\r\n",
    "    '''\r\n",
    "    Dada una matriz de numeros\r\n",
    "    la impre de manera bonita con los numeros\r\n",
    "    alineados a la derecha.\r\n",
    "    '''\r\n",
    "    maxNum : float = max(\r\n",
    "            list(\r\n",
    "            map (lambda row: max(row),M)\r\n",
    "            )\r\n",
    "        )\r\n",
    "    \r\n",
    "    digits : int = len(str(maxNum))\r\n",
    "\r\n",
    "    for row in M:\r\n",
    "        print(list(map(lambda n: f\"{n:>{digits}}\"  ,row)))\r\n",
    "\r\n",
    "\r\n",
    "if __name__==\"__main__\":\r\n",
    "    N : Matrix[float] = [ [0,1,2]\r\n",
    "                        , [3,4,5]\r\n",
    "                        , [6,7,8]\r\n",
    "                        ]\r\n",
    "\r\n",
    "    M : Matrix[float] = [ [ 2, 4, 6]\r\n",
    "                        , [ 8,10,12]\r\n",
    "                        , [14,16,18]\r\n",
    "                        ]\r\n",
    "\r\n",
    "    display_(\"$N+M$ is:\")\r\n",
    "    print_num_matrix(sum_matrix(N,M,(3,3)))\r\n"
   ],
   "outputs": [],
   "metadata": {}
  },
  {
   "cell_type": "markdown",
   "source": [
    "Cual es la complejidad si:\r\n",
    "\r\n",
    "1. $N=M$?\r\n",
    "2. $N \\not = M$?"
   ],
   "metadata": {}
  },
  {
   "cell_type": "markdown",
   "source": [
    "# Ejercicio: Insertion Sort\r\n",
    "\r\n",
    "Sacado de: [geeks for geeks](https://www.geeksforgeeks.org/insertion-sort/)\r\n",
    "\r\n",
    "Insertion sort funciona de la siguiente manera:\r\n",
    "\r\n",
    "1. Iterate from `arr[1]` to `arr[n]` over the array. \r\n",
    "2. Compare the current element (key) to its predecessor. \r\n",
    "3. If the key element is smaller than its predecessor, compare it to the elements before. Move the greater elements one position up to make space for the swapped element.\r\n",
    "\r\n",
    "Ejemplo:\r\n",
    "\r\n",
    "<center>\r\n",
    "\r\n",
    "![Insertion Sort Example](./Images/insertionsort.png)\r\n",
    "\r\n",
    "</center>"
   ],
   "metadata": {}
  },
  {
   "cell_type": "code",
   "execution_count": null,
   "source": [
    "# Insertion Sort implementation\r\n",
    "\r\n",
    "def insertionSort(xs : List[Any]) -> None:\r\n",
    "    print(xs)\r\n",
    "    pass\r\n",
    "\r\n",
    "\r\n",
    "def insertionSort_(xs : List[Any]) -> None:\r\n",
    "    '''\r\n",
    "    Insertion sort pero en vez de buscar hacia atras, buscamos hacia adelante.\r\n",
    "    '''\r\n",
    "    n : int = len(xs)\r\n",
    "\r\n",
    "    def move_range(i : int, j: int) -> None:\r\n",
    "        aux = xs[i]\r\n",
    "        for h in range(i,j):\r\n",
    "            xs[h+1],aux = aux, xs[h+1]\r\n",
    "\r\n",
    "    for i in range(1,n):\r\n",
    "        x = xs[i]\r\n",
    "        for j in range(n):\r\n",
    "            if x <= xs[j]:\r\n",
    "                move_range(j,i)\r\n",
    "                xs[j] = x\r\n",
    "                break\r\n",
    "    \r\n",
    "\r\n",
    "def insertionSort__(xs : List[Any]) -> None:\r\n",
    "    '''\r\n",
    "    Insertion Sort as in portrayed in the definition.\r\n",
    "    '''\r\n",
    "    n : int = len(xs)\r\n",
    "\r\n",
    "    def move_range(a : int, b: int) -> None:\r\n",
    "        aux = xs[a]\r\n",
    "        for h in range(a,b):\r\n",
    "            xs[h+1],aux = aux, xs[h+1]\r\n",
    "\r\n",
    "    def find_index(j : int,x : Any) -> int:\r\n",
    "        for i in range(j+1):\r\n",
    "            if x > xs[b-i]:\r\n",
    "                return b - i + 1\r\n",
    "        return 0\r\n",
    "\r\n",
    "    for b in range(1,n):\r\n",
    "        x = xs[b]\r\n",
    "        a : int = find_index(b,x)\r\n",
    "        move_range(a,b)\r\n",
    "        xs[a] = x\r\n",
    "\r\n",
    "def is_sorted_test(sort : Callable[[List[int]], None]) -> None:\r\n",
    "    '''\r\n",
    "    Dada una funcion para sortear un arreglo in place, determina si es correcta\r\n",
    "    verificando el invariante:\r\n",
    "\r\n",
    "    \r\n",
    "     \r\n",
    "    '''\r\n",
    "    @given(ys = st.lists(st.integers()))\r\n",
    "    def _is_sorted_test(ys : Any):\r\n",
    "        xs : List[int] = list(ys)\r\n",
    "        n  : int       = len(xs)\r\n",
    "        sort(xs)\r\n",
    "\r\n",
    "        \r\n",
    "        # A tuple is generated as the one you provided, with the corresponding\r\n",
    "        # types in those positions.\r\n",
    "        for i in range(n):\r\n",
    "            if i == (n-1):\r\n",
    "                return\r\n",
    "            try:\r\n",
    "                assert(xs[i] <= xs[i+1])\r\n",
    "            except Exception as e:\r\n",
    "                display_( color_text(\"Test Failed!\",color=ERROR_COLOR) + \"<br><br>\" +\r\n",
    "                    f\"El elemento en el indice ${i}$: ${xs[i]}$<br>\" + \r\n",
    "                    f\"es mayor que el elementl en el indice ${i+1}$: ${xs[i+1]}$\"\r\n",
    "                    \r\n",
    "                    )\r\n",
    "                return\r\n",
    "        \r\n",
    "        display_(color_text(\"Test Success!\",color=SUCCESS_COLOR))\r\n",
    "\r\n",
    "    _is_sorted_test()\r\n",
    "\r\n",
    "if __name__==\"__main__\":\r\n",
    "    xs = [4,3,2,10,12,1,5,6]\r\n",
    "    insertionSort(xs)\r\n",
    "    print(xs)\r\n",
    "    def void(xs : Any) -> None:\r\n",
    "        return \r\n",
    "    is_sorted_test(void)\r\n"
   ],
   "outputs": [],
   "metadata": {}
  },
  {
   "cell_type": "markdown",
   "source": [
    "Como calculamos la complejidad? Hay que pensar cual es el *peor escenario*:\r\n",
    "\r\n",
    "\r\n",
    "Consideremos la lista: `[4,3,2,1]`...\r\n",
    "\r\n",
    "Matematicamente:\r\n",
    "\r\n",
    "< Historia de Euler >\r\n",
    "$$\r\n",
    "2 \\cdot \\sum_{i=1}^{n} i = ?\r\n",
    "$$\r\n",
    "\r\n",
    "\r\n"
   ],
   "metadata": {}
  },
  {
   "cell_type": "markdown",
   "source": [
    "# Ejercicio: Product Array\r\n",
    "\r\n",
    "\r\n",
    "Given an array `arr[]` of n integers, construct a Product Array `prod[]` (of same size) such that `prod[i]` is equal to the product of all the elements of `arr[]` except `arr[i]`. (Solve it without division operator for extra points!!!).\r\n",
    "\r\n",
    "\r\n",
    "Ejemplo:\r\n",
    "\r\n",
    "```\r\n",
    "Input:  arr[]   = {10, 3, 5, 6, 2}\r\n",
    "Output: prod[]  = {180, 600, 360, 300, 900}\r\n",
    "```\r\n",
    "\r\n"
   ],
   "metadata": {}
  },
  {
   "cell_type": "code",
   "execution_count": null,
   "source": [
    "def noDiv(xs : List[float]) -> List[float]:\r\n",
    "    n   : int   = len(xs)\r\n",
    "    acc_pre : float = 1\r\n",
    "    acc_suf : float = 1\r\n",
    "    prefix  : List[float] = [1 for _ in range(n)] \r\n",
    "    suffix  : List[float] = [1 for _ in range(n)]\r\n",
    "    res     : List[float] = [1 for _ in range(n)]\r\n",
    "    for i in range(n):\r\n",
    "        prefix[i] = acc_pre\r\n",
    "        acc_pre  *= xs[i]\r\n",
    "\r\n",
    "        suffix[n-i-1] = acc_suf\r\n",
    "        acc_suf    *= xs[n-i-1]\r\n",
    "\r\n",
    "\r\n",
    "    for i in range(n):\r\n",
    "        res[i] = prefix[i] * suffix[i]\r\n",
    "    \r\n",
    "    return res\r\n",
    "\r\n",
    "\r\n",
    "if __name__==\"__main__\":\r\n",
    "    arr : List[float] = [10,3,5,6,2]\r\n",
    "    print(f\"The result is: {noDiv(arr)}\")\r\n"
   ],
   "outputs": [],
   "metadata": {}
  },
  {
   "cell_type": "markdown",
   "source": [
    "# Tarea: Sum Array\r\n",
    "\r\n",
    "Given an array of integers `nums` and an integer `target`, return indices of the two numbers such that they add up to `target`.\r\n",
    "\r\n",
    "You may assume that each input would have *at least one solution*, and you may not use the same element twice.\r\n",
    "\r\n",
    "You can return the answer in any order.\r\n",
    "\r\n",
    "Ejemplo:\r\n",
    "\r\n",
    "```\r\n",
    "Input: nums = [2,7,11,15], target = 9\r\n",
    "Output: [0,1]\r\n",
    "Output: Because nums[0] + nums[1] == 9, we return [0, 1].\r\n",
    "```"
   ],
   "metadata": {}
  },
  {
   "cell_type": "code",
   "execution_count": null,
   "source": [
    "#Solucion\r\n",
    "def sum_array(xs : List[int], target : int) -> Tuple[int,int]:\r\n",
    "    arrayLength = len(xs)\r\n",
    "    for number in range(arrayLength):\r\n",
    "        for nestedNumber in range(arrayLength):\r\n",
    "            if xs[number] + xs[nestedNumber] == target:\r\n",
    "                return (number,nestedNumber)\r\n",
    "    return (0,0)\r\n",
    "    # Re-hacer con dic\r\n",
    "\r\n",
    "@given(ys = st.lists(st.integers()), xy = st.lists(elements=st.integers(), unique=True, min_size=2, max_size=2))\r\n",
    "def sum_array_test(ys : Any, xy : Any):\r\n",
    "    from random import shuffle\r\n",
    "\r\n",
    "    xs : List[int] = list(ys)\r\n",
    "    x  : int       = int(xy[0])\r\n",
    "    y  : int       = int(xy[1]) \r\n",
    "\r\n",
    "    xs.append(x)\r\n",
    "    xs.append(y)\r\n",
    "    shuffle(xs)\r\n",
    "\r\n",
    "    (i,j) = sum_array(xs,x+y)\r\n",
    "    \r\n",
    "    sol_i = xs.index(x)\r\n",
    "    sol_j = xs.index(y)\r\n",
    "\r\n",
    "    try:\r\n",
    "        assert(xs[i] + xs[j] == x+y)\r\n",
    "    except Exception:\r\n",
    "        display_(\r\n",
    "            f\"{color_text('Test Failed!',color=ERROR_COLOR)}<br>\"  +\r\n",
    "            f\"For the array: <br> `{xs}`<br>\"\r\n",
    "            f\"And target: <br> `{x+y}` <br>\"\r\n",
    "            f\"The elements:<br>\"\r\n",
    "            f\"`xs[{sol_i}] + xs[{sol_j}] = {x+y}` <br>\"\r\n",
    "            f\"Yields the solution. <br> your answer: <br>\"\r\n",
    "            f\"`xs[{i}] + xs[{j}] = {xs[i] + xs[j]}` <br>\"\r\n",
    "            )\r\n",
    "        return \r\n",
    "    \r\n",
    "    display_(color_text(\"Test successful!\"))\r\n",
    "\r\n",
    "\r\n",
    "if __name__==\"__main__\":\r\n",
    "    sum_array_test()\r\n"
   ],
   "outputs": [],
   "metadata": {}
  },
  {
   "cell_type": "markdown",
   "source": [
    "# Tarea:  String Pattern Matching\r\n",
    "\r\n",
    "Given a string `Text` and a pattern `pattern`, tells whether the `pattern` appears in `Text` as a substring:\r\n",
    "\r\n",
    "\r\n",
    "Ejemplo:\r\n",
    "\r\n",
    "\r\n",
    "```\r\n",
    "Input: text = \"dfghabbadlkfgj, pattern = abba\r\n",
    "Output: True\r\n",
    "Output: Becasue text = dfgh + abba + lkfgj\r\n",
    "```"
   ],
   "metadata": {}
  },
  {
   "cell_type": "code",
   "execution_count": 15,
   "source": [
    "# Solucion\r\n",
    "def SPM(Text : str, pattern : str) -> bool:\r\n",
    "    patternLength = len(pattern)\r\n",
    "    textLength = len(Text)\r\n",
    "\r\n",
    "    # Le resto la longitud del \"patten\" para que no recorra todo el texto\r\n",
    "    for letterIndex in range(textLength - patternLength):\r\n",
    "        matchedLetters = 0\r\n",
    "\r\n",
    "        # Ciclo que correrara hasta que \"matchedLetters\" supere la longitud del \"pattern\"\r\n",
    "        while(matchedLetters < patternLength):\r\n",
    "            # Si matchletter + el indice no coincide con el indice del pattern rompemos\r\n",
    "            if (Text[letterIndex + matchedLetters] != pattern[matchedLetters]):\r\n",
    "                break\r\n",
    "            matchedLetters = matchedLetters + 1\r\n",
    " \r\n",
    "        # Si al terminar el for loop no tienen la misma longitud 💀\r\n",
    "        if (matchedLetters == patternLength):\r\n",
    "            return True\r\n",
    "    return False\r\n",
    "\r\n",
    "def SPM_test():\r\n",
    "    from string import ascii_lowercase as _lcs\r\n",
    "    from string import ascii_uppercase as _ucs\r\n",
    "    lcs = _lcs\r\n",
    "    ucs = _ucs\r\n",
    "    @given(text1 = st.text(alphabet=lcs, min_size=50),no_match1 = st.text(alphabet=ucs, min_size=1, max_size=20), pad1 = st.text(alphabet=lcs, min_size=5, max_size=20))\r\n",
    "    def _SPM_test(text1 : Any, no_match1 : Any, pad1 : Any):\r\n",
    "        from random import randrange\r\n",
    "\r\n",
    "        bold = '\\x1b[1;31m'\r\n",
    "        end  = '\\x1b[0m'\r\n",
    "        text : str = str(text1)\r\n",
    "        n    : int = len(text)\r\n",
    "        \r\n",
    "        i : int = randrange(0,n)\r\n",
    "        while ((j:= randrange(0,n)) == i ):\r\n",
    "            pass\r\n",
    "\r\n",
    "        i,j = min(i,j), max(i,j)\r\n",
    "        match : str = text[i:j]\r\n",
    "        no_match : str = str(pad1) + str(no_match1) + str(pad1)\r\n",
    "        \r\n",
    "\r\n",
    "        try:\r\n",
    "            assert(SPM(text,no_match) == False)\r\n",
    "        except Exception:\r\n",
    "            display_(\"------------------------------------------------------------ <br>\" +\r\n",
    "            f\"{color_text('Test Failed!',color=ERROR_COLOR)}<br>\"  +\r\n",
    "            f\"The pattern: <br>\" +\r\n",
    "            f\"`{no_match}` <br>\" +\r\n",
    "            f\"Should not match the text:<br>\" +\r\n",
    "            f\"`{text}`<br>\" +\r\n",
    "            \"------------------------------------------------------------ <br>\"\r\n",
    "            )\r\n",
    "            return \r\n",
    "        try:\r\n",
    "            assert(SPM(text,match) == True)\r\n",
    "        except Exception:\r\n",
    "            display_(\"------------------------------------------------------------ <br>\" + \r\n",
    "            f\"{color_text('Test Failed!',color=ERROR_COLOR)}<br>\"  +\r\n",
    "            f\"The pattern:<br>\" +\r\n",
    "            f\"`{match}` <br>\" +\r\n",
    "            f\"Should match the text: <br>\" +\r\n",
    "            f\"`{text}` <br>\" +\r\n",
    "            f\"Begin position: `{i}` <br>\" +\r\n",
    "            f\"End position: `{j}` <br>\" + \r\n",
    "            \"------------------------------------------------------------<br>\"\r\n",
    "            )\r\n",
    "            return         \r\n",
    "        \r\n",
    "        \r\n",
    "        display_(f\"{color_text('Test Success!')}\" )\r\n",
    "\r\n",
    "    _SPM_test()\r\n",
    "\r\n",
    "if __name__==\"__main__\":\r\n",
    "    SPM_test()"
   ],
   "outputs": [
    {
     "output_type": "display_data",
     "data": {
      "text/markdown": [
       "<span style='color:#4BB543'> Test Success! </span>."
      ],
      "text/plain": [
       "<IPython.core.display.Markdown object>"
      ]
     },
     "metadata": {}
    },
    {
     "output_type": "display_data",
     "data": {
      "text/markdown": [
       "<span style='color:#4BB543'> Test Success! </span>."
      ],
      "text/plain": [
       "<IPython.core.display.Markdown object>"
      ]
     },
     "metadata": {}
    },
    {
     "output_type": "display_data",
     "data": {
      "text/markdown": [
       "<span style='color:#4BB543'> Test Success! </span>."
      ],
      "text/plain": [
       "<IPython.core.display.Markdown object>"
      ]
     },
     "metadata": {}
    },
    {
     "output_type": "display_data",
     "data": {
      "text/markdown": [
       "<span style='color:#4BB543'> Test Success! </span>."
      ],
      "text/plain": [
       "<IPython.core.display.Markdown object>"
      ]
     },
     "metadata": {}
    },
    {
     "output_type": "display_data",
     "data": {
      "text/markdown": [
       "<span style='color:#4BB543'> Test Success! </span>."
      ],
      "text/plain": [
       "<IPython.core.display.Markdown object>"
      ]
     },
     "metadata": {}
    },
    {
     "output_type": "display_data",
     "data": {
      "text/markdown": [
       "<span style='color:#4BB543'> Test Success! </span>."
      ],
      "text/plain": [
       "<IPython.core.display.Markdown object>"
      ]
     },
     "metadata": {}
    },
    {
     "output_type": "display_data",
     "data": {
      "text/markdown": [
       "<span style='color:#4BB543'> Test Success! </span>."
      ],
      "text/plain": [
       "<IPython.core.display.Markdown object>"
      ]
     },
     "metadata": {}
    },
    {
     "output_type": "display_data",
     "data": {
      "text/markdown": [
       "<span style='color:#4BB543'> Test Success! </span>."
      ],
      "text/plain": [
       "<IPython.core.display.Markdown object>"
      ]
     },
     "metadata": {}
    },
    {
     "output_type": "display_data",
     "data": {
      "text/markdown": [
       "<span style='color:#4BB543'> Test Success! </span>."
      ],
      "text/plain": [
       "<IPython.core.display.Markdown object>"
      ]
     },
     "metadata": {}
    },
    {
     "output_type": "display_data",
     "data": {
      "text/markdown": [
       "<span style='color:#4BB543'> Test Success! </span>."
      ],
      "text/plain": [
       "<IPython.core.display.Markdown object>"
      ]
     },
     "metadata": {}
    },
    {
     "output_type": "display_data",
     "data": {
      "text/markdown": [
       "<span style='color:#4BB543'> Test Success! </span>."
      ],
      "text/plain": [
       "<IPython.core.display.Markdown object>"
      ]
     },
     "metadata": {}
    },
    {
     "output_type": "display_data",
     "data": {
      "text/markdown": [
       "<span style='color:#4BB543'> Test Success! </span>."
      ],
      "text/plain": [
       "<IPython.core.display.Markdown object>"
      ]
     },
     "metadata": {}
    },
    {
     "output_type": "display_data",
     "data": {
      "text/markdown": [
       "<span style='color:#4BB543'> Test Success! </span>."
      ],
      "text/plain": [
       "<IPython.core.display.Markdown object>"
      ]
     },
     "metadata": {}
    },
    {
     "output_type": "display_data",
     "data": {
      "text/markdown": [
       "<span style='color:#4BB543'> Test Success! </span>."
      ],
      "text/plain": [
       "<IPython.core.display.Markdown object>"
      ]
     },
     "metadata": {}
    },
    {
     "output_type": "display_data",
     "data": {
      "text/markdown": [
       "<span style='color:#4BB543'> Test Success! </span>."
      ],
      "text/plain": [
       "<IPython.core.display.Markdown object>"
      ]
     },
     "metadata": {}
    },
    {
     "output_type": "display_data",
     "data": {
      "text/markdown": [
       "<span style='color:#4BB543'> Test Success! </span>."
      ],
      "text/plain": [
       "<IPython.core.display.Markdown object>"
      ]
     },
     "metadata": {}
    },
    {
     "output_type": "display_data",
     "data": {
      "text/markdown": [
       "<span style='color:#4BB543'> Test Success! </span>."
      ],
      "text/plain": [
       "<IPython.core.display.Markdown object>"
      ]
     },
     "metadata": {}
    },
    {
     "output_type": "display_data",
     "data": {
      "text/markdown": [
       "<span style='color:#4BB543'> Test Success! </span>."
      ],
      "text/plain": [
       "<IPython.core.display.Markdown object>"
      ]
     },
     "metadata": {}
    },
    {
     "output_type": "display_data",
     "data": {
      "text/markdown": [
       "<span style='color:#4BB543'> Test Success! </span>."
      ],
      "text/plain": [
       "<IPython.core.display.Markdown object>"
      ]
     },
     "metadata": {}
    },
    {
     "output_type": "display_data",
     "data": {
      "text/markdown": [
       "<span style='color:#4BB543'> Test Success! </span>."
      ],
      "text/plain": [
       "<IPython.core.display.Markdown object>"
      ]
     },
     "metadata": {}
    },
    {
     "output_type": "display_data",
     "data": {
      "text/markdown": [
       "<span style='color:#4BB543'> Test Success! </span>."
      ],
      "text/plain": [
       "<IPython.core.display.Markdown object>"
      ]
     },
     "metadata": {}
    },
    {
     "output_type": "display_data",
     "data": {
      "text/markdown": [
       "<span style='color:#4BB543'> Test Success! </span>."
      ],
      "text/plain": [
       "<IPython.core.display.Markdown object>"
      ]
     },
     "metadata": {}
    },
    {
     "output_type": "display_data",
     "data": {
      "text/markdown": [
       "<span style='color:#4BB543'> Test Success! </span>."
      ],
      "text/plain": [
       "<IPython.core.display.Markdown object>"
      ]
     },
     "metadata": {}
    },
    {
     "output_type": "display_data",
     "data": {
      "text/markdown": [
       "<span style='color:#4BB543'> Test Success! </span>."
      ],
      "text/plain": [
       "<IPython.core.display.Markdown object>"
      ]
     },
     "metadata": {}
    },
    {
     "output_type": "display_data",
     "data": {
      "text/markdown": [
       "<span style='color:#4BB543'> Test Success! </span>."
      ],
      "text/plain": [
       "<IPython.core.display.Markdown object>"
      ]
     },
     "metadata": {}
    },
    {
     "output_type": "display_data",
     "data": {
      "text/markdown": [
       "<span style='color:#4BB543'> Test Success! </span>."
      ],
      "text/plain": [
       "<IPython.core.display.Markdown object>"
      ]
     },
     "metadata": {}
    },
    {
     "output_type": "display_data",
     "data": {
      "text/markdown": [
       "<span style='color:#4BB543'> Test Success! </span>."
      ],
      "text/plain": [
       "<IPython.core.display.Markdown object>"
      ]
     },
     "metadata": {}
    },
    {
     "output_type": "display_data",
     "data": {
      "text/markdown": [
       "<span style='color:#4BB543'> Test Success! </span>."
      ],
      "text/plain": [
       "<IPython.core.display.Markdown object>"
      ]
     },
     "metadata": {}
    },
    {
     "output_type": "display_data",
     "data": {
      "text/markdown": [
       "<span style='color:#4BB543'> Test Success! </span>."
      ],
      "text/plain": [
       "<IPython.core.display.Markdown object>"
      ]
     },
     "metadata": {}
    },
    {
     "output_type": "display_data",
     "data": {
      "text/markdown": [
       "<span style='color:#4BB543'> Test Success! </span>."
      ],
      "text/plain": [
       "<IPython.core.display.Markdown object>"
      ]
     },
     "metadata": {}
    },
    {
     "output_type": "display_data",
     "data": {
      "text/markdown": [
       "<span style='color:#4BB543'> Test Success! </span>."
      ],
      "text/plain": [
       "<IPython.core.display.Markdown object>"
      ]
     },
     "metadata": {}
    },
    {
     "output_type": "display_data",
     "data": {
      "text/markdown": [
       "<span style='color:#4BB543'> Test Success! </span>."
      ],
      "text/plain": [
       "<IPython.core.display.Markdown object>"
      ]
     },
     "metadata": {}
    },
    {
     "output_type": "display_data",
     "data": {
      "text/markdown": [
       "<span style='color:#4BB543'> Test Success! </span>."
      ],
      "text/plain": [
       "<IPython.core.display.Markdown object>"
      ]
     },
     "metadata": {}
    },
    {
     "output_type": "display_data",
     "data": {
      "text/markdown": [
       "<span style='color:#4BB543'> Test Success! </span>."
      ],
      "text/plain": [
       "<IPython.core.display.Markdown object>"
      ]
     },
     "metadata": {}
    },
    {
     "output_type": "display_data",
     "data": {
      "text/markdown": [
       "<span style='color:#4BB543'> Test Success! </span>."
      ],
      "text/plain": [
       "<IPython.core.display.Markdown object>"
      ]
     },
     "metadata": {}
    },
    {
     "output_type": "display_data",
     "data": {
      "text/markdown": [
       "<span style='color:#4BB543'> Test Success! </span>."
      ],
      "text/plain": [
       "<IPython.core.display.Markdown object>"
      ]
     },
     "metadata": {}
    },
    {
     "output_type": "display_data",
     "data": {
      "text/markdown": [
       "<span style='color:#4BB543'> Test Success! </span>."
      ],
      "text/plain": [
       "<IPython.core.display.Markdown object>"
      ]
     },
     "metadata": {}
    },
    {
     "output_type": "display_data",
     "data": {
      "text/markdown": [
       "<span style='color:#4BB543'> Test Success! </span>."
      ],
      "text/plain": [
       "<IPython.core.display.Markdown object>"
      ]
     },
     "metadata": {}
    },
    {
     "output_type": "display_data",
     "data": {
      "text/markdown": [
       "<span style='color:#4BB543'> Test Success! </span>."
      ],
      "text/plain": [
       "<IPython.core.display.Markdown object>"
      ]
     },
     "metadata": {}
    },
    {
     "output_type": "display_data",
     "data": {
      "text/markdown": [
       "<span style='color:#4BB543'> Test Success! </span>."
      ],
      "text/plain": [
       "<IPython.core.display.Markdown object>"
      ]
     },
     "metadata": {}
    },
    {
     "output_type": "display_data",
     "data": {
      "text/markdown": [
       "<span style='color:#4BB543'> Test Success! </span>."
      ],
      "text/plain": [
       "<IPython.core.display.Markdown object>"
      ]
     },
     "metadata": {}
    },
    {
     "output_type": "display_data",
     "data": {
      "text/markdown": [
       "<span style='color:#4BB543'> Test Success! </span>."
      ],
      "text/plain": [
       "<IPython.core.display.Markdown object>"
      ]
     },
     "metadata": {}
    },
    {
     "output_type": "display_data",
     "data": {
      "text/markdown": [
       "<span style='color:#4BB543'> Test Success! </span>."
      ],
      "text/plain": [
       "<IPython.core.display.Markdown object>"
      ]
     },
     "metadata": {}
    },
    {
     "output_type": "display_data",
     "data": {
      "text/markdown": [
       "<span style='color:#4BB543'> Test Success! </span>."
      ],
      "text/plain": [
       "<IPython.core.display.Markdown object>"
      ]
     },
     "metadata": {}
    },
    {
     "output_type": "display_data",
     "data": {
      "text/markdown": [
       "<span style='color:#4BB543'> Test Success! </span>."
      ],
      "text/plain": [
       "<IPython.core.display.Markdown object>"
      ]
     },
     "metadata": {}
    },
    {
     "output_type": "display_data",
     "data": {
      "text/markdown": [
       "<span style='color:#4BB543'> Test Success! </span>."
      ],
      "text/plain": [
       "<IPython.core.display.Markdown object>"
      ]
     },
     "metadata": {}
    },
    {
     "output_type": "display_data",
     "data": {
      "text/markdown": [
       "<span style='color:#4BB543'> Test Success! </span>."
      ],
      "text/plain": [
       "<IPython.core.display.Markdown object>"
      ]
     },
     "metadata": {}
    },
    {
     "output_type": "display_data",
     "data": {
      "text/markdown": [
       "<span style='color:#4BB543'> Test Success! </span>."
      ],
      "text/plain": [
       "<IPython.core.display.Markdown object>"
      ]
     },
     "metadata": {}
    },
    {
     "output_type": "display_data",
     "data": {
      "text/markdown": [
       "<span style='color:#4BB543'> Test Success! </span>."
      ],
      "text/plain": [
       "<IPython.core.display.Markdown object>"
      ]
     },
     "metadata": {}
    },
    {
     "output_type": "display_data",
     "data": {
      "text/markdown": [
       "<span style='color:#4BB543'> Test Success! </span>."
      ],
      "text/plain": [
       "<IPython.core.display.Markdown object>"
      ]
     },
     "metadata": {}
    },
    {
     "output_type": "display_data",
     "data": {
      "text/markdown": [
       "<span style='color:#4BB543'> Test Success! </span>."
      ],
      "text/plain": [
       "<IPython.core.display.Markdown object>"
      ]
     },
     "metadata": {}
    },
    {
     "output_type": "display_data",
     "data": {
      "text/markdown": [
       "<span style='color:#4BB543'> Test Success! </span>."
      ],
      "text/plain": [
       "<IPython.core.display.Markdown object>"
      ]
     },
     "metadata": {}
    },
    {
     "output_type": "display_data",
     "data": {
      "text/markdown": [
       "<span style='color:#4BB543'> Test Success! </span>."
      ],
      "text/plain": [
       "<IPython.core.display.Markdown object>"
      ]
     },
     "metadata": {}
    },
    {
     "output_type": "display_data",
     "data": {
      "text/markdown": [
       "<span style='color:#4BB543'> Test Success! </span>."
      ],
      "text/plain": [
       "<IPython.core.display.Markdown object>"
      ]
     },
     "metadata": {}
    },
    {
     "output_type": "display_data",
     "data": {
      "text/markdown": [
       "<span style='color:#4BB543'> Test Success! </span>."
      ],
      "text/plain": [
       "<IPython.core.display.Markdown object>"
      ]
     },
     "metadata": {}
    },
    {
     "output_type": "display_data",
     "data": {
      "text/markdown": [
       "<span style='color:#4BB543'> Test Success! </span>."
      ],
      "text/plain": [
       "<IPython.core.display.Markdown object>"
      ]
     },
     "metadata": {}
    },
    {
     "output_type": "display_data",
     "data": {
      "text/markdown": [
       "<span style='color:#4BB543'> Test Success! </span>."
      ],
      "text/plain": [
       "<IPython.core.display.Markdown object>"
      ]
     },
     "metadata": {}
    },
    {
     "output_type": "display_data",
     "data": {
      "text/markdown": [
       "<span style='color:#4BB543'> Test Success! </span>."
      ],
      "text/plain": [
       "<IPython.core.display.Markdown object>"
      ]
     },
     "metadata": {}
    },
    {
     "output_type": "display_data",
     "data": {
      "text/markdown": [
       "<span style='color:#4BB543'> Test Success! </span>."
      ],
      "text/plain": [
       "<IPython.core.display.Markdown object>"
      ]
     },
     "metadata": {}
    },
    {
     "output_type": "display_data",
     "data": {
      "text/markdown": [
       "<span style='color:#4BB543'> Test Success! </span>."
      ],
      "text/plain": [
       "<IPython.core.display.Markdown object>"
      ]
     },
     "metadata": {}
    },
    {
     "output_type": "display_data",
     "data": {
      "text/markdown": [
       "<span style='color:#4BB543'> Test Success! </span>."
      ],
      "text/plain": [
       "<IPython.core.display.Markdown object>"
      ]
     },
     "metadata": {}
    },
    {
     "output_type": "display_data",
     "data": {
      "text/markdown": [
       "<span style='color:#4BB543'> Test Success! </span>."
      ],
      "text/plain": [
       "<IPython.core.display.Markdown object>"
      ]
     },
     "metadata": {}
    },
    {
     "output_type": "display_data",
     "data": {
      "text/markdown": [
       "<span style='color:#4BB543'> Test Success! </span>."
      ],
      "text/plain": [
       "<IPython.core.display.Markdown object>"
      ]
     },
     "metadata": {}
    },
    {
     "output_type": "display_data",
     "data": {
      "text/markdown": [
       "<span style='color:#4BB543'> Test Success! </span>."
      ],
      "text/plain": [
       "<IPython.core.display.Markdown object>"
      ]
     },
     "metadata": {}
    },
    {
     "output_type": "display_data",
     "data": {
      "text/markdown": [
       "<span style='color:#4BB543'> Test Success! </span>."
      ],
      "text/plain": [
       "<IPython.core.display.Markdown object>"
      ]
     },
     "metadata": {}
    },
    {
     "output_type": "display_data",
     "data": {
      "text/markdown": [
       "<span style='color:#4BB543'> Test Success! </span>."
      ],
      "text/plain": [
       "<IPython.core.display.Markdown object>"
      ]
     },
     "metadata": {}
    },
    {
     "output_type": "display_data",
     "data": {
      "text/markdown": [
       "<span style='color:#4BB543'> Test Success! </span>."
      ],
      "text/plain": [
       "<IPython.core.display.Markdown object>"
      ]
     },
     "metadata": {}
    },
    {
     "output_type": "display_data",
     "data": {
      "text/markdown": [
       "<span style='color:#4BB543'> Test Success! </span>."
      ],
      "text/plain": [
       "<IPython.core.display.Markdown object>"
      ]
     },
     "metadata": {}
    },
    {
     "output_type": "display_data",
     "data": {
      "text/markdown": [
       "<span style='color:#4BB543'> Test Success! </span>."
      ],
      "text/plain": [
       "<IPython.core.display.Markdown object>"
      ]
     },
     "metadata": {}
    },
    {
     "output_type": "display_data",
     "data": {
      "text/markdown": [
       "<span style='color:#4BB543'> Test Success! </span>."
      ],
      "text/plain": [
       "<IPython.core.display.Markdown object>"
      ]
     },
     "metadata": {}
    },
    {
     "output_type": "display_data",
     "data": {
      "text/markdown": [
       "<span style='color:#4BB543'> Test Success! </span>."
      ],
      "text/plain": [
       "<IPython.core.display.Markdown object>"
      ]
     },
     "metadata": {}
    },
    {
     "output_type": "display_data",
     "data": {
      "text/markdown": [
       "<span style='color:#4BB543'> Test Success! </span>."
      ],
      "text/plain": [
       "<IPython.core.display.Markdown object>"
      ]
     },
     "metadata": {}
    },
    {
     "output_type": "display_data",
     "data": {
      "text/markdown": [
       "<span style='color:#4BB543'> Test Success! </span>."
      ],
      "text/plain": [
       "<IPython.core.display.Markdown object>"
      ]
     },
     "metadata": {}
    },
    {
     "output_type": "display_data",
     "data": {
      "text/markdown": [
       "<span style='color:#4BB543'> Test Success! </span>."
      ],
      "text/plain": [
       "<IPython.core.display.Markdown object>"
      ]
     },
     "metadata": {}
    },
    {
     "output_type": "display_data",
     "data": {
      "text/markdown": [
       "<span style='color:#4BB543'> Test Success! </span>."
      ],
      "text/plain": [
       "<IPython.core.display.Markdown object>"
      ]
     },
     "metadata": {}
    },
    {
     "output_type": "display_data",
     "data": {
      "text/markdown": [
       "<span style='color:#4BB543'> Test Success! </span>."
      ],
      "text/plain": [
       "<IPython.core.display.Markdown object>"
      ]
     },
     "metadata": {}
    },
    {
     "output_type": "display_data",
     "data": {
      "text/markdown": [
       "<span style='color:#4BB543'> Test Success! </span>."
      ],
      "text/plain": [
       "<IPython.core.display.Markdown object>"
      ]
     },
     "metadata": {}
    },
    {
     "output_type": "display_data",
     "data": {
      "text/markdown": [
       "<span style='color:#4BB543'> Test Success! </span>."
      ],
      "text/plain": [
       "<IPython.core.display.Markdown object>"
      ]
     },
     "metadata": {}
    },
    {
     "output_type": "display_data",
     "data": {
      "text/markdown": [
       "<span style='color:#4BB543'> Test Success! </span>."
      ],
      "text/plain": [
       "<IPython.core.display.Markdown object>"
      ]
     },
     "metadata": {}
    },
    {
     "output_type": "display_data",
     "data": {
      "text/markdown": [
       "<span style='color:#4BB543'> Test Success! </span>."
      ],
      "text/plain": [
       "<IPython.core.display.Markdown object>"
      ]
     },
     "metadata": {}
    },
    {
     "output_type": "display_data",
     "data": {
      "text/markdown": [
       "<span style='color:#4BB543'> Test Success! </span>."
      ],
      "text/plain": [
       "<IPython.core.display.Markdown object>"
      ]
     },
     "metadata": {}
    },
    {
     "output_type": "display_data",
     "data": {
      "text/markdown": [
       "<span style='color:#4BB543'> Test Success! </span>."
      ],
      "text/plain": [
       "<IPython.core.display.Markdown object>"
      ]
     },
     "metadata": {}
    },
    {
     "output_type": "display_data",
     "data": {
      "text/markdown": [
       "<span style='color:#4BB543'> Test Success! </span>."
      ],
      "text/plain": [
       "<IPython.core.display.Markdown object>"
      ]
     },
     "metadata": {}
    },
    {
     "output_type": "display_data",
     "data": {
      "text/markdown": [
       "<span style='color:#4BB543'> Test Success! </span>."
      ],
      "text/plain": [
       "<IPython.core.display.Markdown object>"
      ]
     },
     "metadata": {}
    },
    {
     "output_type": "display_data",
     "data": {
      "text/markdown": [
       "<span style='color:#4BB543'> Test Success! </span>."
      ],
      "text/plain": [
       "<IPython.core.display.Markdown object>"
      ]
     },
     "metadata": {}
    },
    {
     "output_type": "display_data",
     "data": {
      "text/markdown": [
       "<span style='color:#4BB543'> Test Success! </span>."
      ],
      "text/plain": [
       "<IPython.core.display.Markdown object>"
      ]
     },
     "metadata": {}
    },
    {
     "output_type": "display_data",
     "data": {
      "text/markdown": [
       "<span style='color:#4BB543'> Test Success! </span>."
      ],
      "text/plain": [
       "<IPython.core.display.Markdown object>"
      ]
     },
     "metadata": {}
    },
    {
     "output_type": "display_data",
     "data": {
      "text/markdown": [
       "<span style='color:#4BB543'> Test Success! </span>."
      ],
      "text/plain": [
       "<IPython.core.display.Markdown object>"
      ]
     },
     "metadata": {}
    },
    {
     "output_type": "display_data",
     "data": {
      "text/markdown": [
       "<span style='color:#4BB543'> Test Success! </span>."
      ],
      "text/plain": [
       "<IPython.core.display.Markdown object>"
      ]
     },
     "metadata": {}
    },
    {
     "output_type": "display_data",
     "data": {
      "text/markdown": [
       "<span style='color:#4BB543'> Test Success! </span>."
      ],
      "text/plain": [
       "<IPython.core.display.Markdown object>"
      ]
     },
     "metadata": {}
    },
    {
     "output_type": "display_data",
     "data": {
      "text/markdown": [
       "<span style='color:#4BB543'> Test Success! </span>."
      ],
      "text/plain": [
       "<IPython.core.display.Markdown object>"
      ]
     },
     "metadata": {}
    },
    {
     "output_type": "display_data",
     "data": {
      "text/markdown": [
       "<span style='color:#4BB543'> Test Success! </span>."
      ],
      "text/plain": [
       "<IPython.core.display.Markdown object>"
      ]
     },
     "metadata": {}
    },
    {
     "output_type": "display_data",
     "data": {
      "text/markdown": [
       "<span style='color:#4BB543'> Test Success! </span>."
      ],
      "text/plain": [
       "<IPython.core.display.Markdown object>"
      ]
     },
     "metadata": {}
    },
    {
     "output_type": "display_data",
     "data": {
      "text/markdown": [
       "<span style='color:#4BB543'> Test Success! </span>."
      ],
      "text/plain": [
       "<IPython.core.display.Markdown object>"
      ]
     },
     "metadata": {}
    },
    {
     "output_type": "display_data",
     "data": {
      "text/markdown": [
       "<span style='color:#4BB543'> Test Success! </span>."
      ],
      "text/plain": [
       "<IPython.core.display.Markdown object>"
      ]
     },
     "metadata": {}
    },
    {
     "output_type": "display_data",
     "data": {
      "text/markdown": [
       "<span style='color:#4BB543'> Test Success! </span>."
      ],
      "text/plain": [
       "<IPython.core.display.Markdown object>"
      ]
     },
     "metadata": {}
    },
    {
     "output_type": "display_data",
     "data": {
      "text/markdown": [
       "<span style='color:#4BB543'> Test Success! </span>."
      ],
      "text/plain": [
       "<IPython.core.display.Markdown object>"
      ]
     },
     "metadata": {}
    },
    {
     "output_type": "display_data",
     "data": {
      "text/markdown": [
       "<span style='color:#4BB543'> Test Success! </span>."
      ],
      "text/plain": [
       "<IPython.core.display.Markdown object>"
      ]
     },
     "metadata": {}
    },
    {
     "output_type": "display_data",
     "data": {
      "text/markdown": [
       "<span style='color:#4BB543'> Test Success! </span>."
      ],
      "text/plain": [
       "<IPython.core.display.Markdown object>"
      ]
     },
     "metadata": {}
    },
    {
     "output_type": "display_data",
     "data": {
      "text/markdown": [
       "<span style='color:#4BB543'> Test Success! </span>."
      ],
      "text/plain": [
       "<IPython.core.display.Markdown object>"
      ]
     },
     "metadata": {}
    }
   ],
   "metadata": {}
  }
 ],
 "metadata": {
  "orig_nbformat": 4,
  "language_info": {
   "name": "python",
   "version": "3.8.3",
   "mimetype": "text/x-python",
   "codemirror_mode": {
    "name": "ipython",
    "version": 3
   },
   "pygments_lexer": "ipython3",
   "nbconvert_exporter": "python",
   "file_extension": ".py"
  },
  "kernelspec": {
   "name": "python3",
   "display_name": "Python 3.8.3 64-bit"
  },
  "interpreter": {
   "hash": "2db524e06e9f5f4ffedc911c917cb75e12dbc923643829bf417064a77eb14d37"
  }
 },
 "nbformat": 4,
 "nbformat_minor": 2
}