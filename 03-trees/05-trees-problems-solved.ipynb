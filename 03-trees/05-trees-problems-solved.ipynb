{
 "cells": [
  {
   "cell_type": "code",
   "execution_count": 33,
   "source": [
    "# generic tree printer\n",
    "from collections import deque\n",
    "def print_tree(root):\n",
    "    res = []\n",
    "    q = deque([root])\n",
    "    while q:\n",
    "        row = []\n",
    "        for _ in range(len(q)):\n",
    "            node = q.popleft()\n",
    "            if not node:\n",
    "                row.append(\"#\")\n",
    "                continue\n",
    "            row.append(node.value)\n",
    "            q.append(node.left)\n",
    "            q.append(node.right)\n",
    "        res.append(row)\n",
    "    rows = len(res)\n",
    "    base = 2**(rows)\n",
    "    for r in range(rows):\n",
    "        for v in res[r]:\n",
    "            print(\".\" * (base // 2) , end = \"\")\n",
    "            print(v, end = \"\")\n",
    "            print(\".\" * ((base // 2) - 1) , end = \"\")\n",
    "        print(\"|\")\n",
    "        base //= 2"
   ],
   "outputs": [],
   "metadata": {}
  },
  {
   "cell_type": "code",
   "execution_count": 41,
   "source": [
    "# setup\n",
    "class Node: \n",
    "    def __init__(self, value): \n",
    "        self.value = value\n",
    "        self.right = None\n",
    "        self.left = None\n",
    "\n",
    "class Tree:\n",
    "    def __init__(self): \n",
    "        self.root = None\n",
    "    \n",
    "    def debug(self):\n",
    "      print_tree(self.root)\n",
    "\n",
    "    def insert(self, value):\n",
    "        if value == None:\n",
    "            return False\n",
    "\n",
    "        new_node = Node(value)\n",
    "        temp = self.root\n",
    "\n",
    "        if temp == None:\n",
    "            self.root = Node(value)\n",
    "            return True\n",
    "\n",
    "        while (True):\n",
    "            if new_node.value == temp.value: \n",
    "                return True\n",
    "            if new_node.value < temp.value:\n",
    "                if temp.left == None:\n",
    "                    temp.left = new_node\n",
    "                    return True\n",
    "                else:\n",
    "                    temp = temp.left\n",
    "\n",
    "            if new_node.value > temp.value:\n",
    "                if temp.right == None:\n",
    "                    temp.right = new_node\n",
    "                    return True\n",
    "                else:\n",
    "                    temp = temp.right\n",
    "\n",
    "arbol = Tree()\n",
    "arbol.insert(10)\n",
    "arbol.insert(5)\n",
    "arbol.insert(13)\n",
    "arbol.insert(3)\n",
    "arbol.insert(6)\n",
    "arbol.insert(15)\n",
    "arbol.insert(12)\n",
    "arbol.insert(7)\n",
    "arbol.debug()"
   ],
   "outputs": [
    {
     "output_type": "stream",
     "name": "stdout",
     "text": [
      "................10...............|\n",
      "........5...............13.......|\n",
      "....3.......6.......12.......15...|\n",
      "..#...#...#...7...#...#...#...#.|\n",
      ".#.#|\n"
     ]
    }
   ],
   "metadata": {}
  },
  {
   "cell_type": "markdown",
   "source": [
    "----\n",
    "#### Exercise: Diameter of Binary Tree\n",
    "\n",
    "Given a binary tree, return the length of the diameter of the tree.\n",
    "\n",
    "The diameter of a binary tree is the length of the longest path between any two nodes in a tree. This path **may or may not pass through the root**.\n",
    "\n",
    "The length of a path between two nodes is represented by the number of edges between them.\n",
    "\n",
    "<center>\n",
    "\n",
    "![''](../img/diamtree.jpg)\n",
    "\n",
    "</center>\n",
    "\n",
    "The longest path is 3: `[4,2,1,3]` or equivalently: `[5,2,1,3]`"
   ],
   "metadata": {}
  },
  {
   "cell_type": "code",
   "execution_count": 48,
   "source": [
    "tree = Tree()\n",
    "nodes = [5, 6, 2, 3, 1]\n",
    "\n",
    "for node in nodes: \n",
    "    tree.insert(node)\n",
    "\n",
    "class TreeStats:\n",
    "    def __init__(self, diameter, height):\n",
    "        self.diameter = diameter\n",
    "        self.height = height\n",
    "\n",
    "def findMaxDiameter(tree):\n",
    "    if tree == None:\n",
    "        return TreeStats(0,0)\n",
    "\n",
    "    # atravesar el arbol y sacar diametro y altura en el camino\n",
    "    leftTree = findMaxDiameter(tree.left)\n",
    "    rightTree = findMaxDiameter(tree.right)\n",
    "\n",
    "    # altura de ambos arboles\n",
    "    combinedHeight = leftTree.height + rightTree.height\n",
    "    maxHeight = max(leftTree.height, rightTree.height) + 1\n",
    "\n",
    "    # Diametro maximo entre los dos arboles. PERO  si la aultura del arbol es mayor\n",
    "    # simplemente usar la ultura como nuestro diametro maximo\n",
    "    maxDiameter = max(leftTree.diameter, rightTree.diameter)\n",
    "    maxDiameter = max(combinedHeight, maxDiameter)\n",
    "    \n",
    "    return TreeStats(maxDiameter, maxHeight)\n",
    "\n",
    "tree.debug()\n",
    "print(' El resultado es : ')\n",
    "print(findMaxDiameter(tree.root).diameter)"
   ],
   "outputs": [
    {
     "output_type": "stream",
     "name": "stdout",
     "text": [
      "........5.......|\n",
      "....2.......6...|\n",
      "..1...3...#...#.|\n",
      ".#.#.#.#|\n",
      "3\n"
     ]
    }
   ],
   "metadata": {}
  },
  {
   "cell_type": "markdown",
   "source": [
    "----\n",
    "#### Bin Tree Max Path Sum\n",
    "\n",
    "A **path** in a binary tree is a sequence of nodes where each pair of adjacent nodes in the sequence has an edge connecting them. A node can only appear in the sequence **at most once**. Note that the path does not need to pass through the root.\n",
    "\n",
    "The **path sum** of a path is the sum of the node's values in the path.\n",
    "\n",
    "Given a binary tree, return the _maximum_ **path sum** of any path.\n",
    "\n",
    "\n",
    "<center>\n",
    "\n",
    "![''](./Images/pathsum.jpg)\n",
    "\n",
    "</center>\n",
    "\n",
    "In the above tree, The optimal path is 15 -> 20 -> 7 with a path sum of 15 + 20 + 7 = 42.\n"
   ],
   "metadata": {}
  }
 ],
 "metadata": {
  "orig_nbformat": 4,
  "kernelspec": {
   "name": "python3",
   "display_name": "Python 3.8.8 64-bit"
  },
  "interpreter": {
   "hash": "e7370f93d1d0cde622a1f8e1c04877d8463912d04d973331ad4851f04de6915a"
  },
  "language_info": {
   "name": "python",
   "version": "3.8.8",
   "mimetype": "text/x-python",
   "codemirror_mode": {
    "name": "ipython",
    "version": 3
   },
   "pygments_lexer": "ipython3",
   "nbconvert_exporter": "python",
   "file_extension": ".py"
  }
 },
 "nbformat": 4,
 "nbformat_minor": 2
}