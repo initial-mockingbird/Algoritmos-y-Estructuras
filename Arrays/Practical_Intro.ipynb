{
 "cells": [
  {
   "cell_type": "code",
   "execution_count": null,
   "source": [
    "# Autor: Daniel Pinto\r\n",
    "# Clase Practica, Fin Semana 1\r\n",
    "# Fecha: 2021/09/23 YYYY/MM/DD\r\n",
    "from typing import List, TypeVar, Tuple, Any, Callable, Optional\r\n",
    "from hypothesis import given, strategies as st\r\n",
    "from IPython.display import Markdown, display\r\n",
    "from itertools import accumulate\r\n",
    "from functools import reduce\r\n",
    "\r\n",
    "def display_(s : str) -> None:\r\n",
    "    '''\r\n",
    "    A way to display strings with markdown \r\n",
    "    in jupyter.\r\n",
    "    '''\r\n",
    "    display(\r\n",
    "        Markdown(s)\r\n",
    "    )\r\n",
    "\r\n",
    "\r\n",
    "SUCCESS_COLOR = '#4BB543'\r\n",
    "ERROR_COLOR   = '#B00020'\r\n",
    "\r\n",
    "def color_text(s : str, color : str =SUCCESS_COLOR ) -> str:\r\n",
    "    return f\"<span style='color:{color}'> {s} </span>.\"\r\n",
    "\r\n",
    "\r\n",
    "a      = TypeVar('a')\r\n",
    "b      = TypeVar('b')\r\n",
    "c      = TypeVar('c')"
   ],
   "outputs": [],
   "metadata": {}
  },
  {
   "cell_type": "markdown",
   "source": [
    "# Exercise: Light, more light:\r\n",
    "\r\n",
    "There is man named ”mabu” for switching on-off light in our University. He switches on-off the lights\r\n",
    "in a corridor. Every bulb has its own toggle switch. That is, if it is pressed then the bulb turns on.\r\n",
    "Another press will turn it off. To save power consumption (or may be he is mad or something else)\r\n",
    "he does a peculiar thing. If in a corridor there is n bulbs, he walks along the corridor back and forth\r\n",
    "n times and in i-th walk he toggles only the switches whose serial is divisable by i. He does not press\r\n",
    "any switch when coming back to his initial position. A i-th walk is defined as going down the corridor\r\n",
    "(while doing the peculiar thing) and coming back again. Now you have to determine what is the final\r\n",
    "condition of the last bulb. Is it on or off?\r\n",
    "\r\n",
    "```\r\n",
    "Input: n <= 2**32 -1, for example n = 3\r\n",
    "Output: True/False, in the above example: False\r\n",
    "```"
   ],
   "metadata": {}
  },
  {
   "cell_type": "code",
   "execution_count": null,
   "source": [
    "# Ans\r\n",
    "\r\n",
    "def erasthostenes(n : int) -> List[int]:\r\n",
    "    #from math import sqrt, floor\r\n",
    "    #total_iterations    = floor(sqrt(n)) + 1\r\n",
    "    crib : List[bool]   = [True for _ in range(n)]\r\n",
    "    crib[0],crib[1]     = False, False\r\n",
    "    primes : List[int]  = []\r\n",
    "    for i in range(2,n+1):\r\n",
    "        if not crib[i]:\r\n",
    "            continue\r\n",
    "        primes.append(i)\r\n",
    "        for j in range(i**2,n,i):\r\n",
    "            crib[j] = False\r\n",
    "\r\n",
    "    return primes\r\n",
    "\r\n",
    "def erasthostenes_(n : int) -> List[int]:\r\n",
    "    crib : List[List[int]]   = [[] for _ in range(n+1)]\r\n",
    "    crib[0],crib[1]     = [-1], [-1]\r\n",
    "    for i in range(2,n+1):\r\n",
    "        if crib[i] == []:\r\n",
    "            for j in range(i,n+1,i):\r\n",
    "                crib[j].append(i)\r\n",
    "        \r\n",
    "    return crib[n]\r\n",
    "\r\n",
    "def getPower(n : int, p: int) -> int:\r\n",
    "    from math import floor, log \r\n",
    "    max_power = floor(log(n,p))\r\n",
    "    a   = 1\r\n",
    "    b   = max_power\r\n",
    "    mid = (max_power + a) // 2\r\n",
    "    while(True):\r\n",
    "        #input((a,mid,b))\r\n",
    "        aux = p**mid\r\n",
    "        res = n % aux\r\n",
    "        if a==b:\r\n",
    "            return mid\r\n",
    "        if a+1==b:\r\n",
    "            if (n % p**(mid+1) != 0):\r\n",
    "                return mid\r\n",
    "            else:\r\n",
    "                return mid+1\r\n",
    "        #if (res == 0) and (n % p**(mid+1) != 0):\r\n",
    "        #    return mid\r\n",
    "        if res > 0:\r\n",
    "            b = mid\r\n",
    "        if res == 0:\r\n",
    "            a = mid\r\n",
    "\r\n",
    "        mid = (a+b)//2\r\n",
    "\r\n",
    "\r\n",
    "def light_no_light(n : int) -> bool:\r\n",
    "    from math import prod\r\n",
    "    prime_divisors  : List[int] = erasthostenes_(n)\r\n",
    "    powers   : map[int] = map(lambda p: getPower(n,p), prime_divisors)\r\n",
    "    divisors :     int  = prod(map(lambda x: x+1,powers))\r\n",
    "    return divisors % 2 != 0\r\n",
    "\r\n",
    "#print(light_no_light(3))\r\n",
    "#print(light_no_light(6241))\r\n",
    "#print(light_no_light(8191))\r\n",
    "print(light_no_light(10**6-1))"
   ],
   "outputs": [],
   "metadata": {}
  },
  {
   "cell_type": "markdown",
   "source": [
    "# Exercise: Squares of a Sorted Array\r\n",
    "\r\n",
    "Given an integer array `nums` **sorted in non-decreasing order**, return an array of the squares of each number **sorted in non-decreasing order**.\r\n",
    "\r\n",
    "```\r\n",
    "Input: nums = [-4,-1,0,3,10]\r\n",
    "Output: [0,1,9,16,100]\r\n",
    "Explanation: After squaring, the array becomes [16,1,0,9,100].\r\n",
    "After sorting, it becomes [0,1,9,16,100].\r\n",
    "```"
   ],
   "metadata": {}
  },
  {
   "cell_type": "code",
   "execution_count": null,
   "source": [
    "# ans"
   ],
   "outputs": [],
   "metadata": {}
  },
  {
   "cell_type": "markdown",
   "source": [
    "# Takusu Strings\r\n",
    "\r\n",
    "A takusu string is:\r\n",
    "\r\n",
    "1. Composed of only 1s and 0s\r\n",
    "2. With the same number of 1s as 0s\r\n",
    "3. With no more than 2 consecutive 1s or 0s\r\n",
    "\r\n",
    "Generate all the takusu strings of length `n`:\r\n",
    "\r\n",
    "```\r\n",
    "Input: n = 3\r\n",
    "Output: [\"001\",\"010\",\"011\",\"100\",\"101\",\"110\"]\r\n",
    "```"
   ],
   "metadata": {}
  },
  {
   "cell_type": "code",
   "execution_count": null,
   "source": [
    "\r\n",
    "TString = Tuple[str,int]\r\n",
    "\r\n",
    "def takusuStrings(n : int) -> List[str]:\r\n",
    "    if n == 0:\r\n",
    "        return []\r\n",
    "    \r\n",
    "    tStrings : List[TString] = [(\"0\",-1),(\"1\",1)]\r\n",
    "    for i in range(n-1):\r\n",
    "        aux : List[TString] = []\r\n",
    "        max_diff = n-i\r\n",
    "        for (tString,count) in tStrings:\r\n",
    "            if abs(count) > max_diff:\r\n",
    "                continue\r\n",
    "            if tString[:2] != \"00\":\r\n",
    "                aux.append((\"0\"+tString,count-1))\r\n",
    "            if tString[:2] != \"11\":\r\n",
    "                aux.append((\"1\"+tString,count+1))\r\n",
    "        tStrings = [elem for elem in aux]\r\n",
    "    \r\n",
    "    return [string for (string,count) in tStrings if count == 0]\r\n",
    "\r\n",
    "print(takusuStrings(0))"
   ],
   "outputs": [],
   "metadata": {}
  },
  {
   "cell_type": "markdown",
   "source": [
    "# Non constructible change\r\n",
    "\r\n",
    "Given an array of positive integers representing the values of coins in your possession, write a function that returns the minimum amount of change (the minimum sum of money) that you cannot create. The given coins can have any positive integer value and aren’t necessarily unique (i.e., you can have multiple coins of the same value).\r\n",
    "\r\n",
    "For example, if you’re given coins = [1, 2, 5], the minimum amount of change that you can’t create is 4. If you’re given no coins, the minimum amount of change that you can’t create is 1.\r\n",
    "\r\n",
    "```\r\n",
    "Input: coins = [5, 7, 1, 1, 2, 3, 22]\r\n",
    "Output: 20\r\n",
    "```"
   ],
   "metadata": {}
  },
  {
   "cell_type": "code",
   "execution_count": null,
   "source": [
    "# Despues de sortear:\r\n",
    "# [1,1,2,3,5,7,22]\r\n",
    "# podemos aplicar programacion dinamica:\r\n",
    "# Vemos 1, podemos construir [1]\r\n",
    "# Vemos otro 1, podemos construir [1,2]\r\n",
    "# vemos 2, podemos construir: [1,2,2+1,2+2]    = [1,2,3,4] = [1..(2+2)]\r\n",
    "# vemos 3, podemos construir: [1,2,3,4,5,6,7]  = [1..4+3]\r\n",
    "# vemos 5, podemos construir: [1,2,3,4,5,6,7,8,9,10,11,12] = [1..7+5]\r\n",
    "# Y asi "
   ],
   "outputs": [],
   "metadata": {}
  },
  {
   "cell_type": "markdown",
   "source": [
    "# Exercise: 3sum\r\n",
    "\r\n",
    "Given an integer array nums, return all the triplets `[nums[i], nums[j], nums[k]]` such that `i != j, i != k`, and `j != k`, and `nums[i] + nums[j] + nums[k] == 0`.\r\n",
    "\r\n",
    "```\r\n",
    "Input: nums = [-1,0,1,2,-1,-4]\r\n",
    "Output: [[-1,-1,2],[-1,0,1]]\r\n",
    "```\r\n",
    "\r\n",
    "Notice that the solution set must not contain duplicate triplets."
   ],
   "metadata": {}
  },
  {
   "cell_type": "code",
   "execution_count": null,
   "source": [
    "# create all the possible pairs and then 2sum!\r\n",
    "# can we do better? how many items the answer has?"
   ],
   "outputs": [],
   "metadata": {}
  },
  {
   "cell_type": "markdown",
   "source": [
    "# Exercise: Print a given matrix in spiral form\r\n",
    "\r\n",
    "Given a 2D array, print it in spiral form. See the following examples.\r\n",
    "\r\n",
    "```\r\n",
    "Input:  1    2   3   4\r\n",
    "        5    6   7   8\r\n",
    "        9   10  11  12\r\n",
    "        13  14  15  16\r\n",
    "Output: 1 2 3 4 8 12 16 15 14 13 9 5 6 7 11 10 \r\n",
    "```"
   ],
   "metadata": {}
  },
  {
   "cell_type": "code",
   "execution_count": null,
   "source": [
    "# answer"
   ],
   "outputs": [],
   "metadata": {}
  },
  {
   "cell_type": "markdown",
   "source": [
    "# Exercise: 4sum:\r\n",
    "\r\n",
    "Given a numeric arra: `num`, Find four elements that sum to a given value"
   ],
   "metadata": {}
  },
  {
   "cell_type": "code",
   "execution_count": null,
   "source": [
    "#ans"
   ],
   "outputs": [],
   "metadata": {}
  },
  {
   "cell_type": "markdown",
   "source": [
    "# Exercise: Fibonacci Sum Decomposition\r\n",
    "\r\n",
    "Dado un entero `n`, descomponerlo en \r\n"
   ],
   "metadata": {}
  },
  {
   "cell_type": "code",
   "execution_count": null,
   "source": [
    "def fibonacci(n : int) -> List[int]:\r\n",
    "    res : List[int] = [-1 for _ in range(max(n,1))]\r\n",
    "    res[0] = 1\r\n",
    "    res[1] = 2\r\n",
    "    for i in range(2,n):\r\n",
    "        next_fib = res[i-1] + res[i-2]\r\n",
    "        if next_fib >= n:\r\n",
    "            break\r\n",
    "        res[i] = next_fib\r\n",
    "        \r\n",
    "    return [x for x in res if x >= 0]\r\n",
    "\r\n",
    "def decompose(n : int) -> List[int]:\r\n",
    "    return []"
   ],
   "outputs": [],
   "metadata": {}
  }
 ],
 "metadata": {
  "orig_nbformat": 4,
  "language_info": {
   "name": "python",
   "version": "3.9.5",
   "mimetype": "text/x-python",
   "codemirror_mode": {
    "name": "ipython",
    "version": 3
   },
   "pygments_lexer": "ipython3",
   "nbconvert_exporter": "python",
   "file_extension": ".py"
  },
  "kernelspec": {
   "name": "python3",
   "display_name": "Python 3.9.5 64-bit (windows store)"
  },
  "interpreter": {
   "hash": "33bd2d48148acb70238a67d4c395f81504d10d08e765c2e2f522770dc2fd3960"
  }
 },
 "nbformat": 4,
 "nbformat_minor": 2
}