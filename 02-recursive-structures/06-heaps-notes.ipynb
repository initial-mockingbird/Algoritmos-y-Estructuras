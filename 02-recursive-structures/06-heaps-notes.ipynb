{
 "cells": [
  {
   "cell_type": "markdown",
   "source": [
    "# Heaps \"Pilas\" Pre-Work\n",
    "\n",
    "#### Priority queues\n",
    "\n",
    "- Es una abstraccion de nuestros data types al igual que un queue normal.\n",
    "\n",
    "- Es bastante igual a un queue normal, pero con la modificacion que el elemento con mas prioridad es el primero que se saca.\n",
    "\n",
    "- Los priority queues usualmente son implementandos con Heaps pero tambien se pueden implementar directamente con un arbol balanceado.\n",
    "\n",
    "<img src=\"./img/prework_pikas.png\" width=\"300\">"
   ],
   "metadata": {}
  },
  {
   "cell_type": "markdown",
   "source": [
    "Algunas veces no necesitas decir cual es prioridad. Por ejemplo si estas implementando el Heap:\n",
    "\n",
    "- El valor puede ser un integro o float y se puede interpretar como su prioridad\n",
    "\n",
    "Por ejemplo la prioridad de 16 sera mayor de 12 porque 16 > 12 y no se va a necesitar una variable con su prioridad.\n",
    "\n",
    "#### Heap Sort es natural\n",
    "El concepto de arreglar el queue viene naturalmente implementando un Heap. \n",
    "\n",
    "- Removemos todos los items uno por uno del queue, y nos va a retornar el arreglo ordonado \n",
    " "
   ],
   "metadata": {}
  },
  {
   "cell_type": "markdown",
   "source": [
    "#### Que son Heaps ?\n",
    "- Son basicamente son Binary Tree's (Arboles binarios)\n",
    "- Los dos tipos de Heaps binarios son: Min Heap y Max Heap\n",
    "- Es completo, entonces tienen que estar balanceados\n",
    "- Metemos nuevos items en el siguiente espacio disponible\n",
    "- Aplicaciones: Dijktra's o Prim's algorithm (?)\n",
    "\n",
    "Construido por J W J Williams en 1964.\n",
    "\n",
    "#### Max Heap \n",
    "En el max heap las llaves del padre SIEMPRE seran mas grande\n",
    "iguales que sus hujos. La llave mas grande (max value) estara en el \"root\" del nodo.\n",
    "\n",
    "#### Min heap \n",
    "En el min heap el padre es mejor o igual que sus hijos. Significando que la llave minima esta en el \"root\" del nodo.\n",
    "\n",
    "#### Porque necesitamos Heaps ? \n",
    "Podemos acceder el valor maximo o el valor minimo en O(1).\n",
    "\n",
    "#### Heap Properties\n",
    "- \"Compleatness\":  Podemos construir un heap de izquierda a derecha en cada hilera.\n",
    "- \"2 Children\": Cada nodo tiene 2 hijos donde \n",
    "    - 1. Max heap. cada root sera mayor que sus hijos\n",
    "    - 2. Min heap. cada root sera menor que sus hijos\n",
    "\n",
    "<img src=\"./img/prework_max_min_heap.png\" width=\"500\">\n",
    "\n",
    "\n",
    "#### Representing heaps \n",
    "Un heap se puede representar en un arreglo, donde el root node comienza en 0 y despues cae de izquierda a derecha.\n",
    "\n",
    "En un maxheap puedes encontrar el elemento que esta conectado a un nodo con su idice y una formula sencilla:\n",
    "- Izquierda: ` 2 * index + 1 `\n",
    "- Derecha: ` 2 * index + 2`\n",
    "\n",
    "<img src=\"./img/prework_heaps_arreglos.png\" width=\"350\">\n",
    "\n",
    "Pero que pasa si queremos buscar el padre de un nodo ?\n",
    "Lo inverso! ` (index - 1) // 2  `\n",
    "\n",
    "#### Building a max heap \n",
    "La idea es chequear por una violacion de la propiedad del Max Heap. Donde los hijos no pueden ser mayores que su padre. Si pasa eso hacemos el swap. \n",
    "\n",
    "<img src=\"./img/prework_example_swap.png\" width=\"350\">\n",
    "\n",
    "`\n",
    "res = [200,100,64,12,16,46]\n",
    "`\n",
    "\n",
    "\n",
    "\n"
   ],
   "metadata": {}
  },
  {
   "cell_type": "markdown",
   "source": [
    "#### Quitar items de un heap \n",
    "- Quitando el \"root\" se puede hacer en ` O(logN) ` - time complexity \n",
    "- Si queremos quitar un item de forma arbitraria sera ` O(n) ` cuando hagamos el proceso de busqueda. Si lo queremos quitar sera ` O(logN) ` \n",
    "\n",
    "NOTA: Usualmente usamos heaps para agarrar el min y el max de un heap. de lo contrario podemos usar un arbol binario balanceado para poder encontrar nodos mas eficiente.\n",
    "\n"
   ],
   "metadata": {}
  }
 ],
 "metadata": {
  "orig_nbformat": 4,
  "language_info": {
   "name": "python"
  }
 },
 "nbformat": 4,
 "nbformat_minor": 2
}