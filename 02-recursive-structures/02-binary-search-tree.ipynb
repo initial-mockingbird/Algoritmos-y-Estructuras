{
 "cells": [
  {
   "cell_type": "code",
   "execution_count": 20,
   "source": [
    "import graphviz"
   ],
   "outputs": [],
   "metadata": {}
  },
  {
   "cell_type": "code",
   "execution_count": 18,
   "source": [
    "\"\"\"\r\n",
    "Trees:\r\n",
    "Es como una linkedlist pero tiene forma de un arbol.\r\n",
    "            Nodo  -> Parent \r\n",
    "            /   \\\r\n",
    "         Nodo     Nodo -> Child \r\n",
    "\r\n",
    "Pero arboles pueden estar puntados a multiples nodos, pero\r\n",
    "solamente lo usuaremos con dos\r\n",
    "\r\n",
    "Nota: cada nodo solo tiene un \"padre\"\r\n",
    "\"\"\""
   ],
   "outputs": [
    {
     "output_type": "execute_result",
     "data": {
      "text/plain": [
       "'\\nTrees:\\nEs como una linkedlist pero tiene forma de un arbol.\\n            Nodo  -> Parent \\n            /            Nodo     Nodo -> Child \\n\\nPero arboles pueden estar puntados a multiples nodos, pero\\nsolamente lo usuaremos con dos\\n\\nNota: cada nodo solo tiene un \"padre\"\\n'"
      ]
     },
     "metadata": {},
     "execution_count": 18
    }
   ],
   "metadata": {}
  },
  {
   "cell_type": "markdown",
   "source": [
    "Todo el punto de un Binary Search Tree es que esta organizado en:\r\n",
    "    - Valor menor como el nodo izquierdo\r\n",
    "    - Valor mayor en el nodo derecho\r\n",
    "\r\n",
    "Pero el que determina a que lado va, el valor del padre \r\n",
    "\r\n",
    "                40\r\n",
    "               /  \\\r\n",
    "             20    80 \r\n",
    "\r\n",
    "Cual es big-O de un arbol binario de busqueda?\r\n",
    "\r\n",
    "basicamente es 2^1 \r\n",
    "cada nodo tiene 2 posibles nodos \r\n",
    "1 nivel => 2^1\r\n",
    "2 nivel => 2^2\r\n",
    "3 nivel => 2^3\r\n",
    "4 nivel => 2^4\r\n",
    "\r\n",
    "Eso significa que es\r\n",
    "O(log N) => Porque se gana gracias a Divide and conquer \r\n",
    "\r\n",
    "pero cual es el peor caso?\r\n",
    "\r\n",
    "            40\r\n",
    "              \\\r\n",
    "              76\r\n",
    "                \\\r\n",
    "                80\r\n",
    "\r\n",
    "Donde el arbol termina siendo algo similiar a LinkedList \r\n",
    "(40) -> (76) -> (80) \r\n",
    "\r\n",
    "el peor caso seria \"O(n)\"\r\n",
    "\r\n",
    "LinkedList vs Binary Search Tree (BST)\r\n",
    "\r\n",
    "Method      | LinkedList      | Binary Search Tree  |\r\n",
    "----------- | -----------     | -----------         |\r\n",
    "Insert      | O(1)            | O(n)                |\r\n",
    "Lookup      | O(n)            | O(logN)             |\r\n",
    "Remove      | O(n)            | O(logN)             |\r\n",
    "\r\n",
    "\r\n"
   ],
   "metadata": {}
  },
  {
   "cell_type": "code",
   "execution_count": 25,
   "source": [
    "# Nuestro nodo \r\n",
    "class Node:\r\n",
    "    def __init__(self, value):\r\n",
    "        self.value = value \r\n",
    "        self.left = None \r\n",
    "        self.right = None\r\n",
    "\r\n",
    "# Binary Search Tree - Implementancion sin recursion\r\n",
    "class BST:\r\n",
    "    def __init__(self):\r\n",
    "        # Cabeza del arbol vacio\r\n",
    "        self.root = None\r\n",
    "\r\n",
    "    # Insertar un nodo en nuestro arbol \r\n",
    "    def insert(self, value):\r\n",
    "        nuevo_nodo = Node(value)\r\n",
    "        temporal = self.root\r\n",
    "\r\n",
    "        if temporal == None:\r\n",
    "            self.root = nuevo_nodo\r\n",
    "            return True\r\n",
    "        \r\n",
    "        while (True): \r\n",
    "            if nuevo_nodo.value == temporal.value:\r\n",
    "                return False \r\n",
    "\r\n",
    "            if nuevo_nodo.value < temporal.value:\r\n",
    "                if temporal.left == None:\r\n",
    "                    temporal.left = nuevo_nodo\r\n",
    "                    return True\r\n",
    "                temporal = temporal.left\r\n",
    "\r\n",
    "            else:\r\n",
    "                if temporal.right == None:\r\n",
    "                    temporal.right = nuevo_nodo\r\n",
    "                    return True \r\n",
    "                temporal = temporal.right\r\n",
    "\r\n",
    "            return False\r\n",
    "\r\n",
    "    # Contiene un valor en nuestro arbol\r\n",
    "    def contains(self, value):\r\n",
    "        temp = self.root\r\n",
    "        while temp != None:\r\n",
    "            if value < temp.value:\r\n",
    "                temp = temp.left\r\n",
    "            elif value > temp.value:\r\n",
    "                temp = temp.right\r\n",
    "            else:\r\n",
    "                return True \r\n",
    "        return False\r\n",
    "\r\n",
    "\r\n",
    "# Arbol vacio \r\n",
    "arbol = BST()\r\n",
    "print(arbol.root)\r\n",
    "\r\n",
    "print(' ----- ')\r\n",
    "arbol.insert(1)\r\n",
    "arbol.insert(0)\r\n",
    "arbol.insert(17)\r\n",
    "\r\n",
    "print(' ----- ')\r\n",
    "print(arbol.root.value)\r\n",
    "print(arbol.root.right.value)\r\n",
    "print(arbol.root.left.value)\r\n",
    "\r\n",
    "print(' ----- ')\r\n",
    "print(arbol.contains(3))\r\n",
    "print(arbol.contains(10))\r\n"
   ],
   "outputs": [
    {
     "output_type": "stream",
     "name": "stdout",
     "text": [
      "None\n",
      " ----- \n",
      " ----- \n",
      "3\n",
      "5\n",
      "2\n",
      " ----- \n",
      "True\n",
      "False\n"
     ]
    }
   ],
   "metadata": {}
  }
 ],
 "metadata": {
  "orig_nbformat": 4,
  "language_info": {
   "name": "python",
   "version": "3.8.3",
   "mimetype": "text/x-python",
   "codemirror_mode": {
    "name": "ipython",
    "version": 3
   },
   "pygments_lexer": "ipython3",
   "nbconvert_exporter": "python",
   "file_extension": ".py"
  },
  "kernelspec": {
   "name": "python3",
   "display_name": "Python 3.8.3 64-bit"
  },
  "interpreter": {
   "hash": "2db524e06e9f5f4ffedc911c917cb75e12dbc923643829bf417064a77eb14d37"
  }
 },
 "nbformat": 4,
 "nbformat_minor": 2
}