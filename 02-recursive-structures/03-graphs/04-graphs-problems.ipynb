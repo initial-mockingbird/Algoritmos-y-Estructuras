{
  "cells": [
    {
      "cell_type": "markdown",
      "source": [
        "# Exercise: Number of Islands\n",
        "\n",
        "Given an `m x n` 2D binary grid `grid` which represents a map of `'1'`s (land) and `'0'`s (water), return the number of islands.\n",
        "\n",
        "An **island** is surrounded by water and is formed by connecting adjacent lands horizontally or vertically. You may assume all four edges of the grid are all surrounded by water.\n",
        "\n",
        "# Examples:\n",
        "\n",
        "```\n",
        "Input: grid = [\n",
        "  [\"1\",\"1\",\"1\",\"1\",\"0\"],\n",
        "  [\"1\",\"1\",\"0\",\"1\",\"0\"],\n",
        "  [\"1\",\"1\",\"0\",\"0\",\"0\"],\n",
        "  [\"0\",\"0\",\"0\",\"0\",\"0\"]\n",
        "]\n",
        "Output: 1\n",
        "```\n",
        "\n",
        "```\n",
        "Input: grid = [\n",
        "  [\"1\",\"1\",\"0\",\"0\",\"0\"],\n",
        "  [\"1\",\"1\",\"0\",\"0\",\"0\"],\n",
        "  [\"0\",\"0\",\"1\",\"0\",\"0\"],\n",
        "  [\"0\",\"0\",\"0\",\"1\",\"1\"]\n",
        "]\n",
        "Output: 3\n",
        "```\n",
        "\n"
      ],
      "metadata": {}
    },
    {
      "cell_type": "code",
      "execution_count": 20,
      "source": [
        "\n",
        "test_grid = [\n",
        "  [\"1\",\"1\",\"0\",\"0\",\"0\"],\n",
        "  [\"1\",\"1\",\"0\",\"0\",\"0\"],\n",
        "  [\"0\",\"0\",\"1\",\"0\",\"0\"],\n",
        "  [\"0\",\"0\",\"0\",\"1\",\"1\"]\n",
        "]\n",
        "\n",
        "\n",
        "class IslandFinder:\n",
        "  def __init__(self, matrix): \n",
        "    self.matrix = matrix\n",
        "\n",
        "  def number_of_islands(self): \n",
        "    islands = 0\n",
        "\n",
        "    def dfs(x_cord, y_cord):\n",
        "      print(x_cord)\n",
        "      print(y_cord)\n",
        "\n",
        "      # Fuera del rango del eje X\n",
        "      if x_cord < 0 or x_cord > len(self.matrix[y_cord] - 1):\n",
        "        return 0\n",
        "\n",
        "      # Fuera del rango del eje Y\n",
        "      if y_cord < 0 or y_cord > len(self.matrix) - 1:\n",
        "        return 0\n",
        "\n",
        "      # Volvemos nuestra item 0\n",
        "      self.matrix[y_cord][x_cord] = 0\n",
        "\n",
        "      dfs(x_cord + 1, y_cord)\n",
        "      dfs(x_cord - 1, y_cord)\n",
        "      dfs(x_cord, y_cord + 1)\n",
        "      dfs(x_cord, y_cord - 1)\n",
        "\n",
        "      return 0\n",
        "\n",
        "\n",
        "\n",
        "    for y_cord in range(len(self.matrix)):\n",
        "      for x_cord in range(len(self.matrix[y_cord])):\n",
        "        if self.matrix[y_cord][x_cord] == \"1\": \n",
        "          islands = islands + 1 \n",
        "          dfs(x_cord, y_cord)\n",
        "\n",
        "\n",
        "new_island = IslandFinder(test_grid)\n",
        "new_island.number_of_islands()\n",
        "\n",
        "\n",
        "\n",
        "# Cada nodo va a tener una cordenada X/Y \n",
        "# Si los nodos adjacentes tienen un 1\n",
        "\n",
        "\n"
      ],
      "outputs": [
        {
          "output_type": "error",
          "ename": "TypeError",
          "evalue": "unsupported operand type(s) for -: 'list' and 'int'",
          "traceback": [
            "\u001b[0;31m---------------------------------------------------------------------------\u001b[0m",
            "\u001b[0;31mTypeError\u001b[0m                                 Traceback (most recent call last)",
            "\u001b[0;32m/tmp/ipykernel_602/3208509462.py\u001b[0m in \u001b[0;36m<module>\u001b[0;34m\u001b[0m\n\u001b[1;32m     44\u001b[0m \u001b[0;34m\u001b[0m\u001b[0m\n\u001b[1;32m     45\u001b[0m \u001b[0mnew_island\u001b[0m \u001b[0;34m=\u001b[0m \u001b[0mIslandFinder\u001b[0m\u001b[0;34m(\u001b[0m\u001b[0mtest_grid\u001b[0m\u001b[0;34m)\u001b[0m\u001b[0;34m\u001b[0m\u001b[0;34m\u001b[0m\u001b[0m\n\u001b[0;32m---> 46\u001b[0;31m \u001b[0mnew_island\u001b[0m\u001b[0;34m.\u001b[0m\u001b[0mnumber_of_islands\u001b[0m\u001b[0;34m(\u001b[0m\u001b[0;34m)\u001b[0m\u001b[0;34m\u001b[0m\u001b[0;34m\u001b[0m\u001b[0m\n\u001b[0m\u001b[1;32m     47\u001b[0m \u001b[0;34m\u001b[0m\u001b[0m\n\u001b[1;32m     48\u001b[0m \u001b[0;34m\u001b[0m\u001b[0m\n",
            "\u001b[0;32m/tmp/ipykernel_602/3208509462.py\u001b[0m in \u001b[0;36mnumber_of_islands\u001b[0;34m(self)\u001b[0m\n\u001b[1;32m     40\u001b[0m         \u001b[0;32mif\u001b[0m \u001b[0mself\u001b[0m\u001b[0;34m.\u001b[0m\u001b[0mmatrix\u001b[0m\u001b[0;34m[\u001b[0m\u001b[0my_cord\u001b[0m\u001b[0;34m]\u001b[0m\u001b[0;34m[\u001b[0m\u001b[0mx_cord\u001b[0m\u001b[0;34m]\u001b[0m \u001b[0;34m==\u001b[0m \u001b[0;34m\"1\"\u001b[0m\u001b[0;34m:\u001b[0m\u001b[0;34m\u001b[0m\u001b[0;34m\u001b[0m\u001b[0m\n\u001b[1;32m     41\u001b[0m           \u001b[0mislands\u001b[0m \u001b[0;34m=\u001b[0m \u001b[0mislands\u001b[0m \u001b[0;34m+\u001b[0m \u001b[0;36m1\u001b[0m\u001b[0;34m\u001b[0m\u001b[0;34m\u001b[0m\u001b[0m\n\u001b[0;32m---> 42\u001b[0;31m           \u001b[0mdfs\u001b[0m\u001b[0;34m(\u001b[0m\u001b[0mx_cord\u001b[0m\u001b[0;34m,\u001b[0m \u001b[0my_cord\u001b[0m\u001b[0;34m)\u001b[0m\u001b[0;34m\u001b[0m\u001b[0;34m\u001b[0m\u001b[0m\n\u001b[0m\u001b[1;32m     43\u001b[0m \u001b[0;34m\u001b[0m\u001b[0m\n\u001b[1;32m     44\u001b[0m \u001b[0;34m\u001b[0m\u001b[0m\n",
            "\u001b[0;32m/tmp/ipykernel_602/3208509462.py\u001b[0m in \u001b[0;36mdfs\u001b[0;34m(x_cord, y_cord)\u001b[0m\n\u001b[1;32m     17\u001b[0m \u001b[0;34m\u001b[0m\u001b[0m\n\u001b[1;32m     18\u001b[0m       \u001b[0;31m# Fuera del rango del eje X\u001b[0m\u001b[0;34m\u001b[0m\u001b[0;34m\u001b[0m\u001b[0m\n\u001b[0;32m---> 19\u001b[0;31m       \u001b[0;32mif\u001b[0m \u001b[0mx_cord\u001b[0m \u001b[0;34m<\u001b[0m \u001b[0;36m0\u001b[0m \u001b[0;32mor\u001b[0m \u001b[0mx_cord\u001b[0m \u001b[0;34m>\u001b[0m \u001b[0mlen\u001b[0m\u001b[0;34m(\u001b[0m\u001b[0mself\u001b[0m\u001b[0;34m.\u001b[0m\u001b[0mmatrix\u001b[0m\u001b[0;34m[\u001b[0m\u001b[0my_cord\u001b[0m\u001b[0;34m]\u001b[0m \u001b[0;34m-\u001b[0m \u001b[0;36m1\u001b[0m\u001b[0;34m)\u001b[0m\u001b[0;34m:\u001b[0m\u001b[0;34m\u001b[0m\u001b[0;34m\u001b[0m\u001b[0m\n\u001b[0m\u001b[1;32m     20\u001b[0m         \u001b[0;32mreturn\u001b[0m \u001b[0;36m0\u001b[0m\u001b[0;34m\u001b[0m\u001b[0;34m\u001b[0m\u001b[0m\n\u001b[1;32m     21\u001b[0m \u001b[0;34m\u001b[0m\u001b[0m\n",
            "\u001b[0;31mTypeError\u001b[0m: unsupported operand type(s) for -: 'list' and 'int'"
          ]
        }
      ],
      "metadata": {}
    }
  ],
  "metadata": {
    "orig_nbformat": 4,
    "language_info": {
      "name": "python",
      "version": "3.9.7",
      "mimetype": "text/x-python",
      "codemirror_mode": {
        "name": "ipython",
        "version": 3
      },
      "pygments_lexer": "ipython3",
      "nbconvert_exporter": "python",
      "file_extension": ".py"
    },
    "kernelspec": {
      "name": "python3",
      "display_name": "Python 3.9.7 64-bit"
    },
    "interpreter": {
      "hash": "e7370f93d1d0cde622a1f8e1c04877d8463912d04d973331ad4851f04de6915a"
    }
  },
  "nbformat": 4,
  "nbformat_minor": 2
}