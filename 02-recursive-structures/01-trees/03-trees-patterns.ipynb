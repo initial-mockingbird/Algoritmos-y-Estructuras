{
 "cells": [
  {
   "cell_type": "markdown",
   "source": [
    "# Tree Patterns \n",
    "----\n",
    "#### 1. Pattern: Tree Breadth First Search\n",
    "\n",
    "Este patron esta basado en Breadth First Search para atravesar el arbol.\n",
    "\n",
    "Cualquier problema que incluya atraversar un arbol en un caso nivel-por-nivel se puede solucionar de forma eficiente con este metodo.\n",
    "\n",
    "Vamos a usar un \"Queue\" para matener un record de todos los Nodos en un nivel antes de seguir al siguiente nivel. Esto sambien significa que la complejidad de espacio de nuestro algoritmo sera O(W), donde la \"W\" sera el maximo de nodos en un nivel."
   ],
   "metadata": {}
  },
  {
   "cell_type": "markdown",
   "source": [
    "#### Problem #1 | Binary Tree Level Order Traversal \n",
    "\n",
    "#### Problem Statement \n",
    "Given a binary tree, populate an array to represent its level-by-level traversal. You should populate the values of all nodes of each level from left to right in separate sub-arrays.\n",
    "\n",
    "<img src=\"../img/patterns_level_order_traversal.png\" width=\"400\">\n"
   ],
   "metadata": {}
  },
  {
   "cell_type": "code",
   "execution_count": 2,
   "source": [
    "# Setup\n",
    "class TreeNode:\n",
    "    def __init__(self, val):\n",
    "        self.val = val\n",
    "        self.left = None\n",
    "        self.right = None\n",
    "\n",
    "root = TreeNode(12)\n",
    "root.left = TreeNode(7)\n",
    "root.right = TreeNode(1)\n",
    "root.left.left = TreeNode(9)\n",
    "root.right.left = TreeNode(10)\n",
    "root.right.right = TreeNode(5)"
   ],
   "outputs": [],
   "metadata": {}
  },
  {
   "cell_type": "markdown",
   "source": [
    "#### Solucion\n",
    "ya que necesitamos atravezar todos los niveles antes de hacer append de nuestro arreglo, podemos usar BFS (Breadth First Search) para solucionar el problema.\n",
    "\n",
    "Tambien podemos usar una especia de \"Queue\" para atravezar el arbol. Pasos:\n",
    "\n",
    "1. Comienza por empujando el arbol del nodo a nuestro \"Queue\".\n",
    "2. Siguete moviendo hasta que el \"Queue\" este vacio. \n",
    "3. Cada vez que te muevas, comienza a contar la cantidad de elementos en el \"Queue\". vamos a llamar eso ` levelSize `.\n",
    "4. Removeremos los nodos del `levelSize` del queue y empujar su valor al arreglo.\n",
    "5. Despues de mover cada nodo del queue, insertaremos cada uno de sus hijos al queue.\n",
    "6. Si el queue no esta vacio, repetirir desde el paso 3.\n",
    "\n"
   ],
   "metadata": {}
  },
  {
   "cell_type": "code",
   "execution_count": 3,
   "source": [
    "def traverse(root):\n",
    "    # Creamos nuestro arreglo vacio\n",
    "    result = []\n",
    "    if root == None:\n",
    "        return []\n",
    "\n",
    "    # Creamos nuestro queue\n",
    "    queue = []\n",
    "    queue.append(root)\n",
    "\n",
    "    while queue:\n",
    "        # levelSize nos indica que nivel estamos\n",
    "        levelSize = len(queue)\n",
    "        \n",
    "        # current level es el nivel donde estamos\n",
    "        currentLevel = []\n",
    "\n",
    "        for _ in range(levelSize):\n",
    "            # Agarramos cada nodo de nuestro nivel y insertamos el siguiente nivel en el queue\n",
    "            node = queue[0]\n",
    "            currentLevel.append(node.val)\n",
    "\n",
    "            if node.left != None:\n",
    "                queue.append(node.left)\n",
    "\n",
    "            if node.right != None:\n",
    "                queue.append(node.right)\n",
    "\n",
    "            # Quitamos nuestro nivel del queue\n",
    "            queue.pop(0)\n",
    "\n",
    "        result.append(currentLevel)\n",
    "\n",
    "    return result\n",
    "\n",
    "print(\"Level order traversal: \" + str(traverse(root)))\n"
   ],
   "outputs": [
    {
     "output_type": "stream",
     "name": "stdout",
     "text": [
      "Level order traversal: [[12], [7, 1], [9, 10, 5]]\n"
     ]
    }
   ],
   "metadata": {}
  },
  {
   "cell_type": "markdown",
   "source": [
    "#### Time complexity \n",
    "La complejidad de tiempo de nuestro algoritmo es O(N), donde \"N\" es la cantidad de nodos en el arbol. El problema radica que estamos atravezando el arbol un nodo a la vez \n",
    "\n",
    "#### Space complexity \n",
    " O(N) porque el queue que estamos creando crece con la cantidad de nodos que le vayamos agregando"
   ],
   "metadata": {}
  },
  {
   "cell_type": "markdown",
   "source": [
    "\n",
    "#### Problem #2 | Reversed Binary Tree Level Order Traversal\n",
    "#### Problem statement\n",
    "Given a binary tree, populate an array to represent its level-by-level traversal in reverse order, i.e., the lowest level comes first. You should populate the values of all nodes in each level from left to right in separate sub-arrays."
   ],
   "metadata": {}
  },
  {
   "cell_type": "code",
   "execution_count": 1,
   "source": [
    "# Setup\n",
    "class TreeNode:\n",
    "    def __init__(self, val):\n",
    "        self.val = val\n",
    "        self.left = None\n",
    "        self.right = None\n",
    "\n",
    "root = TreeNode(12)\n",
    "root.left = TreeNode(7)\n",
    "root.right = TreeNode(1)\n",
    "root.left.left = TreeNode(9)\n",
    "root.right.left = TreeNode(10)\n",
    "root.right.right = TreeNode(5)"
   ],
   "outputs": [],
   "metadata": {}
  },
  {
   "cell_type": "markdown",
   "source": [
    "#### Solucion\n",
    "Podemos hacer lo mismo, pero hacemos prepend the todos los valores que tengamos en nuestro queue "
   ],
   "metadata": {}
  },
  {
   "cell_type": "code",
   "execution_count": null,
   "source": [
    "def inverseTraverse(tree): \n",
    "    response = []\n",
    "    if tree.root == None:\n",
    "        return []\n",
    "    # Create a queue\n",
    "    # Add our root to the queue\n",
    "    # While loop while the queue is empty\n",
    "    # levelNumber, this will the length of our level.\n",
    "    # each new element we add them to the queue \n",
    "    # prepend the response \n",
    "    \n",
    "    return response"
   ],
   "outputs": [],
   "metadata": {}
  }
 ],
 "metadata": {
  "orig_nbformat": 4,
  "language_info": {
   "name": "python",
   "version": "3.8.8",
   "mimetype": "text/x-python",
   "codemirror_mode": {
    "name": "ipython",
    "version": 3
   },
   "pygments_lexer": "ipython3",
   "nbconvert_exporter": "python",
   "file_extension": ".py"
  },
  "kernelspec": {
   "name": "python3",
   "display_name": "Python 3.8.8 64-bit"
  },
  "interpreter": {
   "hash": "e7370f93d1d0cde622a1f8e1c04877d8463912d04d973331ad4851f04de6915a"
  }
 },
 "nbformat": 4,
 "nbformat_minor": 2
}