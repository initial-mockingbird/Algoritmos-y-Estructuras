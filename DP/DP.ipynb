{
 "cells": [
  {
   "cell_type": "code",
   "execution_count": 2,
   "metadata": {},
   "outputs": [],
   "source": [
    "# Autor: Daniel Pinto\n",
    "# Introduccion a DP\n",
    "# Fecha: 2021/10/11 YYYY/MM/DD\n",
    "from typing import List, TypeVar, Tuple, Any, Callable, Optional, Generic, Dict\n",
    "from hypothesis import given, strategies as st\n",
    "from IPython.display import Markdown, display\n",
    "from dataclasses import dataclass, field\n",
    "from __future__ import annotations \n",
    "from copy import deepcopy\n",
    "from collections.abc import  Iterable\n",
    "import graphviz as gv\n",
    "from abc import ABCMeta, abstractmethod\n",
    "from math import inf\n",
    "\n",
    "def display_(s : str) -> None:\n",
    "    '''\n",
    "    A way to display strings with markdown \n",
    "    in jupyter.\n",
    "    '''\n",
    "    display(\n",
    "        Markdown(s)\n",
    "    )\n",
    "\n",
    "\n",
    "SUCCESS_COLOR = '#4BB543'\n",
    "ERROR_COLOR   = '#B00020'\n",
    "\n",
    "def color_text(s : str, color : str =SUCCESS_COLOR ) -> str:\n",
    "    return f\"<span style='color:{color}'> {s} </span>.\"\n",
    "\n",
    "\n",
    "a      = TypeVar('a')\n",
    "b      = TypeVar('b')\n",
    "c      = TypeVar('c')\n",
    "T      = TypeVar('T')"
   ]
  },
  {
   "cell_type": "markdown",
   "metadata": {},
   "source": [
    "# FARIDA - Princess Farida\n",
    "\n",
    "Once upon time there was a cute princess called Farida living in a castle with her father, mother and uncle. On the way to the castle there lived many monsters. Each one of them had some gold coins. Although they are monsters they will not hurt. Instead they will give you the gold coins, but if and only if you didn't take any coins from the monster directly before the current one. To marry princess Farida you have to pass all the monsters and collect as many coins as possible. Given the number of gold coins each monster has, calculate the maximum number of coins you can collect on your way to the castle."
   ]
  },
  {
   "cell_type": "code",
   "execution_count": 3,
   "metadata": {},
   "outputs": [
    {
     "name": "stdout",
     "output_type": "stream",
     "text": [
      "9\n"
     ]
    }
   ],
   "source": [
    "\n",
    "# @lru_cache()\n",
    "# Principio de localidad \n",
    "# Clausura -> Closure\n",
    "def dp_farida(total : int, monsters : List[int]) -> int:\n",
    "\n",
    "    # memoizar la ganancia que tengo en la posicion i, para cualquier i\n",
    "    mem : List[int] = [-1 for _ in range(total)]\n",
    "\n",
    "    def dp(i : int) -> int:\n",
    "\n",
    "        if i == total-1:\n",
    "            return monsters[i]\n",
    "        \n",
    "        if i >= total:\n",
    "            return 0\n",
    "        \n",
    "        if mem[i] != -1:\n",
    "            return mem[i]\n",
    "\n",
    "        # Decido tomar i y no i+1\n",
    "        mem[i] = max(mem[i], monsters[i] + dp(i+2) )\n",
    "        # Decido tomar i+1 y no i\n",
    "        mem[i] = max(mem[i], dp(i+1))\n",
    "\n",
    "        return mem[i]\n",
    "    \n",
    "    return dp(0)\n",
    "\n",
    "monsters = [1, 2, 3, 4, 5]\n",
    "total    = 5\n",
    "\n",
    "print( dp_farida(total, monsters))\n",
    "\n"
   ]
  },
  {
   "cell_type": "markdown",
   "metadata": {},
   "source": [
    "# Coin Change\n",
    "\n",
    "Given a value N, if we want to make change for N cents, and we have infinite supply of each of S = { S1, S2, .. , Sm} valued coins, how many ways can we make the change? The order of coins doesn’t matter.\n",
    "For example, for N = 4 and S = {1,2,3}, there are four solutions: {1,1,1,1},{1,1,2},{2,2},{1,3}. So output should be 4. For N = 10 and S = {2, 5, 3, 6}, there are five solutions: {2,2,2,2,2}, {2,2,3,3}, {2,2,6}, {2,3,5} and {5,5}. So the output should be 5."
   ]
  },
  {
   "cell_type": "code",
   "execution_count": 24,
   "metadata": {},
   "outputs": [
    {
     "name": "stdout",
     "output_type": "stream",
     "text": [
      "4\n",
      "----------------------\n",
      "5\n"
     ]
    }
   ],
   "source": [
    "# (c:cs) falta -> (c:cs) (falta-c)\n",
    "#              -> (cs)   (falta)\n",
    "\n",
    "# Teoria de Conjuntos + Logica (p ^ p-> q = q)\n",
    "# Topologia\n",
    "# Categorias -> Grafo: (v,v), (v,u) (u,w) -> (v,w)\n",
    "\n",
    "\n",
    "# 1 ->\n",
    "#     1 -> \n",
    "#          1\n",
    "#          2\n",
    "#     2\n",
    "def dp_change(n : int, s : List[int]) -> int:\n",
    "    mem : Dict[Tuple[int,int],int] = {} \n",
    "    l   : int       = len(s)\n",
    "    def dp(i : int, n_ : int = n) -> int:\n",
    "        if i >= l:\n",
    "            return 0\n",
    "        \n",
    "        val : int = s[i]\n",
    "\n",
    "        if n_ == 0:\n",
    "            return 1\n",
    "        if n_ < 0:\n",
    "            return 0\n",
    "        \n",
    "        if (i,n_-val) in mem:\n",
    "            mem[(i,n_)] = mem[(i,n_-val)]\n",
    "        else:\n",
    "            mem[(i,n_)] = dp(i,n_-val) \n",
    "        \n",
    "        if (i+1,n_) in mem:\n",
    "            mem[(i,n_)] += mem[(i+1,n_)]\n",
    "        else:\n",
    "            mem[(i,n_)] += dp(i+1,n_)\n",
    "\n",
    "        return dp(i,n_-val) + dp(i+1,n_)\n",
    "        \n",
    "    dp(0)\n",
    "\n",
    "    return mem[(0,n)]\n",
    "\n",
    "#4 [1,2,3]\n",
    "#                                   rec(0,4)\n",
    "#\n",
    "#                 rec(0,3)                                 rec(1,4) \n",
    "#\n",
    "#       rec(0,2)          rec(1,3)             rec(1,2)              rec(2,4)\n",
    "#\n",
    "#rec(0,1) rec(1,2)   rec(1,1) rec(2,3)    rec(1,0) rec(2,2)    rec(2,1)\n",
    "\n",
    "\n",
    "\n",
    "print(dp_change(4,[1,2,3]))\n",
    "print(\"----------------------\")\n",
    "print(dp_change(10,[2,5,3,6]))"
   ]
  },
  {
   "cell_type": "markdown",
   "metadata": {},
   "source": [
    "# Coin Change\n",
    "\n",
    "You are given an integer array coins representing coins of different denominations and an integer amount representing a total amount of money.\n",
    "\n",
    "Return the fewest number of coins that you need to make up that amount. If that amount of money cannot be made up by any combination of the coins, return -1.\n",
    "\n",
    "You may assume that you have an infinite number of each kind of coin."
   ]
  },
  {
   "cell_type": "code",
   "execution_count": 26,
   "metadata": {},
   "outputs": [
    {
     "name": "stdout",
     "output_type": "stream",
     "text": [
      "3\n"
     ]
    }
   ],
   "source": [
    "def min_change(n : int, s : List[int]):\n",
    "    s.sort(reverse=True)\n",
    "    mem : Dict[Tuple[int,int],int] = {}\n",
    "    l   : int       = len(s)\n",
    "\n",
    "    def dp(i : int, n_ : int = n) -> Optional[int]:\n",
    "        if i >= l:\n",
    "            return 0\n",
    "\n",
    "        if n_ == 0:\n",
    "            return 1\n",
    "        if n_ < 0:\n",
    "            return 0\n",
    "\n",
    "        if (res := dp(i,n_-s[i])) is not None:\n",
    "            return 1 + res\n",
    "        \n",
    "        res = dp(i+1,n_)\n",
    "        assert(res is not None)\n",
    "        return 1 + res\n",
    "    \n",
    "    return dp(0)\n",
    "\n",
    "print(min_change(11,[1,2,5]))\n",
    "\n",
    "# Prime counting function ~ log(log(n))\n",
    "# 3 * 5 * 7\n",
    "\n",
    "# Decompose Fibonacci \n",
    "# 5 \n",
    "\n",
    "# 1 2 3\n",
    "#     ^\n",
    "# ^\n",
    "# 10  7   4   1 -> solucion\n",
    "# 10 = 3*3 + 2\n",
    "# 3 + 3 + 3 + 1 -> 2 monedas"
   ]
  }
 ],
 "metadata": {
  "interpreter": {
   "hash": "33bd2d48148acb70238a67d4c395f81504d10d08e765c2e2f522770dc2fd3960"
  },
  "kernelspec": {
   "display_name": "Python 3.9.5 64-bit (windows store)",
   "name": "python3"
  },
  "language_info": {
   "codemirror_mode": {
    "name": "ipython",
    "version": 3
   },
   "file_extension": ".py",
   "mimetype": "text/x-python",
   "name": "python",
   "nbconvert_exporter": "python",
   "pygments_lexer": "ipython3",
   "version": "3.9.7"
  },
  "orig_nbformat": 4
 },
 "nbformat": 4,
 "nbformat_minor": 2
}
