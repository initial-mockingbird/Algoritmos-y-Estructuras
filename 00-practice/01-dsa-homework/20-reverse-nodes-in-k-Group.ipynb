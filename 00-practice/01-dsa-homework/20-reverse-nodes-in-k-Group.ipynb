{
 "cells": [
  {
   "cell_type": "markdown",
   "source": [
    "# Reverse Nodes in k-Group\r\n",
    "\r\n",
    "Given a linked list, reverse the nodes of a linked list k at a time and return its modified list.\r\n",
    "\r\n",
    "k is a positive integer and is less than or equal to the length of the linked list. If the number of nodes is not a multiple of k then left-out nodes, in the end, should remain as it is.\r\n",
    "\r\n",
    "You may not alter the values in the list's nodes, only nodes themselves may be changed.\r\n",
    "\r\n",
    "## Example 1:\r\n",
    "<center>\r\n",
    "\r\n",
    "![Example1](./img/reverse_ex1.jpg)\r\n",
    "\r\n",
    "</center>\r\n",
    "\r\n",
    "```\r\n",
    "Input: head = [1,2,3,4,5], k = 2\r\n",
    "Output: [2,1,4,3,5]\r\n",
    "```\r\n",
    "\r\n",
    "## Example 2:\r\n",
    "<center>\r\n",
    "\r\n",
    "![Example2](./img/reverse_ex2.jpg)\r\n",
    "\r\n",
    "</center>\r\n",
    "\r\n",
    "```\r\n",
    "Input: head = [1,2,3,4,5], k = 3\r\n",
    "Output: [3,2,1,4,5]\r\n",
    "```\r\n"
   ],
   "metadata": {}
  }
 ],
 "metadata": {
  "orig_nbformat": 4,
  "language_info": {
   "name": "python"
  }
 },
 "nbformat": 4,
 "nbformat_minor": 2
}