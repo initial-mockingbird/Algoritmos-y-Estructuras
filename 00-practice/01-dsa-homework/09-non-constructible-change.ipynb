{
 "cells": [
  {
   "cell_type": "markdown",
   "source": [
    "# Non constructible change\r\n",
    "\r\n",
    "Given an array of positive integers representing the values of coins in your possession, write a function that returns the minimum amount of change (the minimum sum of money) that you cannot create. The given coins can have any positive integer value and aren’t necessarily unique (i.e., you can have multiple coins of the same value).\r\n",
    "\r\n",
    "For example, if you’re given coins = [1, 2, 5], the minimum amount of change that you can’t create is 4. If you’re given no coins, the minimum amount of change that you can’t create is 1.\r\n",
    "\r\n",
    "```\r\n",
    "Input: coins = [5, 7, 1, 1, 2, 3, 22]\r\n",
    "Output: 20\r\n",
    "```"
   ],
   "metadata": {}
  },
  {
   "cell_type": "code",
   "execution_count": null,
   "source": [
    "# Despues de sortear:\r\n",
    "# [1,1,2,3,5,7,22]\r\n",
    "# podemos aplicar programacion dinamica:\r\n",
    "# Vemos 1, podemos construir [1]\r\n",
    "# Vemos otro 1, podemos construir [1,2]\r\n",
    "# vemos 2, podemos construir: [1,2,2+1,2+2]    = [1,2,3,4] = [1..(2+2)]\r\n",
    "# vemos 3, podemos construir: [1,2,3,4,5,6,7]  = [1..4+3]\r\n",
    "# vemos 5, podemos construir: [1,2,3,4,5,6,7,8,9,10,11,12] = [1..7+5]\r\n",
    "# Y asi "
   ],
   "outputs": [],
   "metadata": {}
  }
 ],
 "metadata": {
  "orig_nbformat": 4,
  "language_info": {
   "name": "python"
  }
 },
 "nbformat": 4,
 "nbformat_minor": 2
}