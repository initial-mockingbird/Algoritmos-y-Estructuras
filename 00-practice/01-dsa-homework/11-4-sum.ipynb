{
 "cells": [
  {
   "cell_type": "markdown",
   "source": [
    "# Exercise: 4sum:\r\n",
    "\r\n",
    "Given a numeric arra: `num`, Find four elements that sum to a given value"
   ],
   "metadata": {}
  },
  {
   "cell_type": "code",
   "execution_count": null,
   "source": [
    "# O(n^3)\r\n",
    "# 1-3\r\n",
    "# 2-2\r\n",
    "\r\n",
    "# (t1',t2')\r\n",
    "# a (t1,t2) == 0\r\n",
    "\r\n",
    "\r\n",
    "\r\n",
    "# n-sumas\r\n",
    "# O(n^n)\r\n",
    "# 1 - (n-1)\r\n",
    "# (n//2) (n//2)\r\n",
    "\r\n",
    "# \r\n",
    "\r\n",
    "\r\n"
   ],
   "outputs": [],
   "metadata": {}
  }
 ],
 "metadata": {
  "orig_nbformat": 4,
  "language_info": {
   "name": "python"
  }
 },
 "nbformat": 4,
 "nbformat_minor": 2
}