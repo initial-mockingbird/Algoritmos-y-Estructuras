{
 "cells": [
  {
   "cell_type": "markdown",
   "source": [
    "# Exercise: Print a given matrix in spiral form\r\n",
    "\r\n",
    "Given a 2D array, print it in spiral form. See the following examples.\r\n",
    "\r\n",
    "<center>\r\n",
    "\r\n",
    "![Spiral traversal](./Images/spiral.png)\r\n",
    "\r\n",
    "</center>\r\n",
    "\r\n",
    "```\r\n",
    "Input:  1    2   3   4\r\n",
    "        5    6   7   8\r\n",
    "        9   10  11  12\r\n",
    "        13  14  15  16\r\n",
    "Output: 1 2 3 4 8 12 16 15 14 13 9 5 6 7 11 10 \r\n",
    "```"
   ],
   "metadata": {}
  },
  {
   "cell_type": "code",
   "execution_count": null,
   "source": [
    "# answer\r\n",
    "val "
   ],
   "outputs": [],
   "metadata": {}
  }
 ],
 "metadata": {
  "orig_nbformat": 4,
  "language_info": {
   "name": "python"
  }
 },
 "nbformat": 4,
 "nbformat_minor": 2
}