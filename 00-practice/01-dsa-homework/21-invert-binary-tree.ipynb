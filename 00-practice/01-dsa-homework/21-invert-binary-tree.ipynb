{
 "cells": [
  {
   "cell_type": "markdown",
   "source": [
    "# Exercise: Invert a Binary Tree.\r\n",
    "\r\n",
    "An inverted binary tree is a binary tree in which every left node is swapped with its right sibling:\r\n",
    "\r\n",
    "<center>\r\n",
    "\r\n",
    "![Inverted Binary Tree](./img/invert_tree.jpg)\r\n",
    "\r\n",
    "</center>\r\n",
    "\r\n",
    "Invert a Binary Tree\r\n"
   ],
   "metadata": {}
  },
  {
   "cell_type": "code",
   "execution_count": 1,
   "source": [
    "class Node:\r\n",
    "\tdef __init__(self, value):\r\n",
    "\t\tself.value = value \r\n",
    "\t\tself.left = None\r\n",
    "\t\tself.right = None\r\n",
    "\r\n",
    "# Insertar normal \r\n",
    "# Insertar inverso\r\n",
    "\r\n",
    "class BST: \r\n",
    "\tdef __init__(self):\r\n",
    "\t\tself.root = None\r\n",
    "\t\r\n",
    "\tdef insert(self, value):\r\n",
    "\t\tnew_node = Node(value)\r\n",
    "\t\ttemp = self.root\r\n",
    "\t\tif temp == None:\r\n",
    "\t\t\tself.root = new_node\r\n",
    "\t\t\treturn True\r\n",
    "\t\twhile (True):\r\n",
    "\t\t\tif new_node.value == temp.value:\r\n",
    "\t\t\t\treturn False \r\n",
    "\t\t\tif new_node.value < temp.value:\r\n",
    "\t\t\t\tif temp.left == None:\r\n",
    "\t\t\t\t\ttemp.left = new_node\r\n",
    "\t\t\t\t\treturn True\r\n",
    "\t\t\t\ttemp = temp.left\r\n",
    "\t\t\telse:\r\n",
    "\t\t\t\tif temp.right == None:\r\n",
    "\t\t\t\t\ttemp.right = new_node\r\n",
    "\t\t\t\t\treturn True \r\n",
    "\t\t\t\ttemp = temp.right\r\n",
    "\r\n",
    "\tdef invertInsert(self, value):\r\n",
    "\t\tnew_node = Node(value)\r\n",
    "\t\ttemp = self.root\r\n",
    "\t\tif temp == None:\r\n",
    "\t\t\ttemp = new_node\r\n",
    "\r\n",
    "\t\twhile(True):\r\n",
    "\t\t\tif new_node.value == temp.value:\r\n",
    "\t\t\t\treturn False\r\n",
    "\t\t\tif new_node.value > temp.value:\r\n",
    "\t\t\t\tif temp.left == None:\r\n",
    "\t\t\t\t\ttemp.left = new_node\r\n",
    "\t\t\t\t\treturn True\r\n",
    "\t\t\t\ttemp = temp.left\r\n",
    "\t\t\tif new_node.value < temp.value:\r\n",
    "\t\t\t\tif temp.right == None:\r\n",
    "\t\t\t\t\ttemp.right = new_node\r\n",
    "\t\t\t\t\treturn True\r\n",
    "\t\t\t\ttemp = temp.right\r\n",
    "\r\n",
    "\r\n",
    "tree = BST()\r\n",
    "\r\n",
    "tree.insert(10)\r\n",
    "tree.insert(22)\r\n",
    "tree.insert(9)\r\n",
    "tree.insert(25)\r\n",
    "tree.insert(19)\r\n",
    "tree.insert(5)\r\n",
    "tree.insert(12)\r\n",
    "\r\n",
    "print(tree.root.value)\r\n",
    "print(tree.root.left.value)\r\n",
    "print(tree.root.right.value)\r\n",
    "\r\n",
    "print(\"------\")\r\n",
    "\"\"\"\r\n",
    "\t\t\tO\r\n",
    "\t\t/\t\t\\\r\n",
    "\t/\t  /\t   /    \\\r\n",
    "\r\n",
    "\"\"\"\r\n",
    "\r\n",
    "\r\n",
    "def invertBST(bst):\r\n",
    "\tif bst.root.right != None and bst.root.left != None:\r\n",
    "\r\n",
    "\t\tprint(\"yo\")\r\n",
    "\t\t# Swap derecho\r\n",
    "\t\tbst.root.left.right, bst.root.left.left = bst.root.left.left, bst.root.left.right\r\n",
    "\r\n",
    "\t\t# Swap izquierdo\r\n",
    "\t\tbst.root.left.right, bst.root.left.left = bst.root.left.left, bst.root.left.right\r\n",
    "\r\n",
    "\t\tinvertBST(bst.root.left, bst.root.right)\r\n",
    "\telse:\r\n",
    "\t\treturn True\r\n",
    "\r\n",
    "invertedBST = invertBST(tree)\r\n",
    "print(invertedBST)\r\n",
    "\r\n"
   ],
   "outputs": [
    {
     "output_type": "stream",
     "name": "stdout",
     "text": [
      "10\n",
      "9\n",
      "22\n",
      "------\n",
      "yo\n"
     ]
    },
    {
     "output_type": "error",
     "ename": "TypeError",
     "evalue": "invertBST() takes 1 positional argument but 2 were given",
     "traceback": [
      "\u001b[1;31m---------------------------------------------------------------------------\u001b[0m",
      "\u001b[1;31mTypeError\u001b[0m                                 Traceback (most recent call last)",
      "\u001b[1;32m~\\AppData\\Local\\Temp/ipykernel_35128/1764183339.py\u001b[0m in \u001b[0;36m<module>\u001b[1;34m\u001b[0m\n\u001b[0;32m     90\u001b[0m                 \u001b[1;32mreturn\u001b[0m \u001b[1;32mTrue\u001b[0m\u001b[1;33m\u001b[0m\u001b[1;33m\u001b[0m\u001b[0m\n\u001b[0;32m     91\u001b[0m \u001b[1;33m\u001b[0m\u001b[0m\n\u001b[1;32m---> 92\u001b[1;33m \u001b[0minvertedBST\u001b[0m \u001b[1;33m=\u001b[0m \u001b[0minvertBST\u001b[0m\u001b[1;33m(\u001b[0m\u001b[0mtree\u001b[0m\u001b[1;33m)\u001b[0m\u001b[1;33m\u001b[0m\u001b[1;33m\u001b[0m\u001b[0m\n\u001b[0m\u001b[0;32m     93\u001b[0m \u001b[0mprint\u001b[0m\u001b[1;33m(\u001b[0m\u001b[0minvertedBST\u001b[0m\u001b[1;33m)\u001b[0m\u001b[1;33m\u001b[0m\u001b[1;33m\u001b[0m\u001b[0m\n\u001b[0;32m     94\u001b[0m \u001b[1;33m\u001b[0m\u001b[0m\n",
      "\u001b[1;32m~\\AppData\\Local\\Temp/ipykernel_35128/1764183339.py\u001b[0m in \u001b[0;36minvertBST\u001b[1;34m(bst)\u001b[0m\n\u001b[0;32m     86\u001b[0m                 \u001b[0mbst\u001b[0m\u001b[1;33m.\u001b[0m\u001b[0mroot\u001b[0m\u001b[1;33m.\u001b[0m\u001b[0mleft\u001b[0m\u001b[1;33m.\u001b[0m\u001b[0mright\u001b[0m\u001b[1;33m,\u001b[0m \u001b[0mbst\u001b[0m\u001b[1;33m.\u001b[0m\u001b[0mroot\u001b[0m\u001b[1;33m.\u001b[0m\u001b[0mleft\u001b[0m\u001b[1;33m.\u001b[0m\u001b[0mleft\u001b[0m \u001b[1;33m=\u001b[0m \u001b[0mbst\u001b[0m\u001b[1;33m.\u001b[0m\u001b[0mroot\u001b[0m\u001b[1;33m.\u001b[0m\u001b[0mleft\u001b[0m\u001b[1;33m.\u001b[0m\u001b[0mleft\u001b[0m\u001b[1;33m,\u001b[0m \u001b[0mbst\u001b[0m\u001b[1;33m.\u001b[0m\u001b[0mroot\u001b[0m\u001b[1;33m.\u001b[0m\u001b[0mleft\u001b[0m\u001b[1;33m.\u001b[0m\u001b[0mright\u001b[0m\u001b[1;33m\u001b[0m\u001b[1;33m\u001b[0m\u001b[0m\n\u001b[0;32m     87\u001b[0m \u001b[1;33m\u001b[0m\u001b[0m\n\u001b[1;32m---> 88\u001b[1;33m                 \u001b[0minvertBST\u001b[0m\u001b[1;33m(\u001b[0m\u001b[0mbst\u001b[0m\u001b[1;33m.\u001b[0m\u001b[0mroot\u001b[0m\u001b[1;33m.\u001b[0m\u001b[0mleft\u001b[0m\u001b[1;33m,\u001b[0m \u001b[0mbst\u001b[0m\u001b[1;33m.\u001b[0m\u001b[0mroot\u001b[0m\u001b[1;33m.\u001b[0m\u001b[0mright\u001b[0m\u001b[1;33m)\u001b[0m\u001b[1;33m\u001b[0m\u001b[1;33m\u001b[0m\u001b[0m\n\u001b[0m\u001b[0;32m     89\u001b[0m         \u001b[1;32melse\u001b[0m\u001b[1;33m:\u001b[0m\u001b[1;33m\u001b[0m\u001b[1;33m\u001b[0m\u001b[0m\n\u001b[0;32m     90\u001b[0m                 \u001b[1;32mreturn\u001b[0m \u001b[1;32mTrue\u001b[0m\u001b[1;33m\u001b[0m\u001b[1;33m\u001b[0m\u001b[0m\n",
      "\u001b[1;31mTypeError\u001b[0m: invertBST() takes 1 positional argument but 2 were given"
     ]
    }
   ],
   "metadata": {}
  },
  {
   "cell_type": "code",
   "execution_count": null,
   "source": [],
   "outputs": [],
   "metadata": {}
  }
 ],
 "metadata": {
  "orig_nbformat": 4,
  "language_info": {
   "name": "python",
   "version": "3.8.3",
   "mimetype": "text/x-python",
   "codemirror_mode": {
    "name": "ipython",
    "version": 3
   },
   "pygments_lexer": "ipython3",
   "nbconvert_exporter": "python",
   "file_extension": ".py"
  },
  "kernelspec": {
   "name": "python3",
   "display_name": "Python 3.8.3 64-bit"
  },
  "interpreter": {
   "hash": "2db524e06e9f5f4ffedc911c917cb75e12dbc923643829bf417064a77eb14d37"
  }
 },
 "nbformat": 4,
 "nbformat_minor": 2
}