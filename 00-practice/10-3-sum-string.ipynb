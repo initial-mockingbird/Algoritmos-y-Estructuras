{
 "cells": [
  {
   "cell_type": "markdown",
   "source": [
    "# Exercise: 3sum\r\n",
    "\r\n",
    "Given an integer array nums, return all the triplets `[nums[i], nums[j], nums[k]]` such that `i != j, i != k`, and `j != k`, and `nums[i] + nums[j] + nums[k] == 0`.\r\n",
    "\r\n",
    "```\r\n",
    "Input: nums = [-1,0,1,2,-1,-4]\r\n",
    "Output: [[-1,-1,2],[-1,0,1]]\r\n",
    "```\r\n",
    "\r\n",
    "Notice that the solution set must not contain duplicate triplets."
   ],
   "metadata": {}
  },
  {
   "cell_type": "code",
   "execution_count": null,
   "source": [
    "# 2Sum\r\n",
    "# O(n**2)\r\n",
    "# -1  -> dicc[1] = -1\r\n",
    "#....\r\n",
    "# try: \r\n",
    "#   dicc[1]\r\n",
    "#   return 1\r\n",
    "# except:\r\n",
    "#   docc[1] = -1\r\n",
    "# \r\n",
    "\r\n",
    "# a + 2 -4 == 0\r\n",
    "# a + (2-4) = -(2-4) = -2 + 4 \r\n",
    "# a = +4 -2\r\n",
    "\r\n",
    "# n + n-1 + n-2 + n-3 ~ n^2\r\n",
    "# 1ro crear todas las tuplas de nuestro arreglo\r\n",
    "# \r\n",
    "def _3sum(nums : List[int]) -> List[Tuple[int,int,int]]:\r\n",
    "    n : int = len(nums)\r\n",
    "    tuplas : List[Tuple[int,int]] = []\r\n",
    "    dicc : dict[int,Tuple[int,int]] = {}\r\n",
    "    res : List[Tuple[int,int,int]] = []\r\n",
    "\r\n",
    "\r\n",
    "    for i in range(n):\r\n",
    "        for j in range(i+1,n):\r\n",
    "            tuplas.append((nums[i],nums[j]) )\r\n",
    "\r\n",
    "    for (a,b) in tuplas:\r\n",
    "        dicc[-(a+b)] = (a,b)\r\n",
    "    \r\n",
    "    for num in nums:\r\n",
    "        try:\r\n",
    "            dicc[num]\r\n",
    "            (a,b) = dicc[num]\r\n",
    "            res.append((a,b,num))\r\n",
    "        except:\r\n",
    "            pass\r\n",
    "\r\n",
    "    return res\r\n",
    "\r\n",
    "nums = [-1,0,1,2,-1,-4]\r\n",
    "print(_3sum(nums))\r\n",
    "#  [[-1,-1,2],[-1,0,1]]"
   ],
   "outputs": [
    {
     "output_type": "stream",
     "name": "stdout",
     "text": [
      "[(2, -1, -1), (1, -1, 0), (0, -1, 1), (2, -4, 2), (2, -1, -1)]\n"
     ]
    }
   ],
   "metadata": {}
  }
 ],
 "metadata": {
  "orig_nbformat": 4,
  "language_info": {
   "name": "python"
  }
 },
 "nbformat": 4,
 "nbformat_minor": 2
}