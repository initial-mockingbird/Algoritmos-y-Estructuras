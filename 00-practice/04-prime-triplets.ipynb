{
 "cells": [
  {
   "cell_type": "code",
   "execution_count": null,
   "source": [
    "# Given a number N, return a all the triplet where A * B + C = N\r\n",
    "\r\n",
    "# N = 20\r\n",
    "# Create this triplet -> ( A, B, C)\r\n",
    "# Find all the posible solutions -> ( A * B + C) = N\r\n",
    "\r\n",
    "# 1 2 3 4 5 6 7 8 9\r\n",
    "# ^     |   |\r\n",
    "#       ^   |\r\n",
    "#           ^\r\n",
    "\r\n",
    "def tripplets(n):\r\n",
    "    array = []\r\n",
    "\r\n",
    "    for c in range(n): \r\n",
    "\r\n",
    "        for a in range(n):\r\n",
    "            if c == a:\r\n",
    "                pass\r\n",
    "\r\n",
    "            for b in range(n):\r\n",
    "                if b == c:\r\n",
    "                    pass\r\n",
    "\r\n",
    "                if b == a:\r\n",
    "                    pass\r\n",
    "\r\n",
    "                if c + a * b == n:\r\n",
    "                    array.append((a, b, c))\r\n",
    "    return array\r\n",
    "\r\n",
    "print('Each triplet should be (a * b + c) == N ')\r\n",
    "print(tripplets(10))\r\n"
   ],
   "outputs": [],
   "metadata": {}
  }
 ],
 "metadata": {
  "orig_nbformat": 4,
  "language_info": {
   "name": "python"
  }
 },
 "nbformat": 4,
 "nbformat_minor": 2
}