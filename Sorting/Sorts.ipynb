{
 "cells": [
  {
   "cell_type": "code",
   "execution_count": 75,
   "metadata": {},
   "outputs": [],
   "source": [
    "# Autor: Daniel Pinto\n",
    "# DP & greediness\n",
    "# Fecha: 2021/10/14 YYYY/MM/DD\n",
    "from typing import List, TypeVar, Tuple, Any, Callable, Optional, Generic, Dict\n",
    "from hypothesis import given, strategies as st\n",
    "from IPython.display import Markdown, display\n",
    "from dataclasses import dataclass, field\n",
    "from __future__ import annotations \n",
    "from copy import deepcopy\n",
    "from collections.abc import  Iterable\n",
    "import graphviz as gv\n",
    "from abc import ABCMeta, abstractmethod\n",
    "from math import inf\n",
    "\n",
    "def display_(s : str) -> None:\n",
    "    '''\n",
    "    A way to display strings with markdown \n",
    "    in jupyter.\n",
    "    '''\n",
    "    display(\n",
    "        Markdown(s)\n",
    "    )\n",
    "\n",
    "\n",
    "SUCCESS_COLOR = '#4BB543'\n",
    "ERROR_COLOR   = '#B00020'\n",
    "\n",
    "def color_text(s : str, color : str =SUCCESS_COLOR ) -> str:\n",
    "    return f\"<span style='color:{color}'> {s} </span>.\"\n",
    "\n",
    "\n",
    "a      = TypeVar('a')\n",
    "b      = TypeVar('b')\n",
    "c      = TypeVar('c')\n",
    "T      = TypeVar('T')"
   ]
  },
  {
   "cell_type": "markdown",
   "metadata": {},
   "source": [
    "# Selection Sort\n",
    "\n",
    "Dado un arreglo `arr`, selection sort crea un arreglo ordenado `ord` de la siguiente forma:\n",
    "\n",
    "* `ord[0]   = min(arr)`\n",
    "* `ord[i+1] = min(arr // ord[0:i])` \n",
    "\n",
    "Es decir, en cada iteracion inserta el proximo elemento minimo.\n",
    "\n",
    "$$\n",
    "\\sum_{i=0}^n (n-i) \\sim n^2\n",
    "$$\n"
   ]
  },
  {
   "cell_type": "code",
   "execution_count": 76,
   "metadata": {},
   "outputs": [
    {
     "name": "stdout",
     "output_type": "stream",
     "text": [
      "[0, 1, 1, 2, 3, 3, 5, 5, 7, 9]\n"
     ]
    }
   ],
   "source": [
    "# [0,1,2,5,9,20]\n",
    "# \\theta n^2\n",
    "# O(n^2) -> O(n) \n",
    "# [5,4,3,2]\n",
    "# [1,2]\n",
    "# s\n",
    "# Version in place:\n",
    "def Selection_sort(xs : List[a]):\n",
    "    for i in range(len(xs)):\n",
    "        min_so_far = i\n",
    "        for j in range(i,len(xs)):\n",
    "            if xs[j] < xs[min_so_far]:\n",
    "                min_so_far = j\n",
    "        xs[i], xs[min_so_far] = xs[min_so_far], xs[i]\n",
    "\n",
    "xs = [5,3,9,0,1,5,2,1,3,7]\n",
    "Selection_sort(xs)\n",
    "print(xs)\n"
   ]
  },
  {
   "cell_type": "markdown",
   "metadata": {},
   "source": [
    "# Quicksort\n",
    "\n",
    "Sea $a,b$, $a \\leq b$ dos posiciones cualquiera del arreglo `arr`, quicksort sortea el subarreglo `arr[a:b+1]` de la siguiente manera:\n",
    "\n",
    "1. Si `arr` es de longitud 1 o 0, esta ordenado por definicion\n",
    "2. Si `arr` es de longitud 2, se ordena de forma trivial\n",
    "3. Si `arr` es de longitud 3 o mas, entonces dejemos que $a \\leq i \\leq b$ sea un indice cualquiera. Particionaremos el arreglo en dos mitades: `arr[a:i]` tendra todos los elementos que sean **menores o iguales**  a `arr[i]`, y `arr[i:b+1]` tendra todos los elementos que sean **mayores** a `arr[i]`.\n",
    "4. Ordenamos ambas mitades usando quicksort"
   ]
  },
  {
   "cell_type": "code",
   "execution_count": 78,
   "metadata": {},
   "outputs": [
    {
     "name": "stdout",
     "output_type": "stream",
     "text": [
      "[0, 1, 2, 3, 5, 6, 9, 11]\n"
     ]
    }
   ],
   "source": [
    "# n^2\n",
    "# n*log(n)\n",
    "# n \n",
    "# [5,3,9,0,1,5,2,1,3,7]\n",
    "# pivot = 5\n",
    "# l = [5,3,0,1,2,1,3] -> [0,1,1,2,3,3,5] \n",
    "# r = [9,7]           -> [7,9]\n",
    "\n",
    "# l [] \n",
    "# r resto de los elementos\n",
    "# particion\n",
    "# [0,1,1,2,3,3,5] 5 [7,9]\n",
    "\n",
    "# InPlace\n",
    "# Stable\n",
    "\n",
    "def Quicksort(xs : List[a], start : int = 0, end : int = len(xs) - 1):\n",
    "    \n",
    "    def partition(start_ : int, end_:int):\n",
    "        # Hoare \n",
    "        # [3,5,9,0,1,5,9,7,2,1,3,7]\n",
    "        #      ^     ^     ^\n",
    "        #     pre         pos\n",
    "        # [3,5,2,0,1,5,9,7,9,1,3,7]\n",
    "        #      ^           ^\n",
    "        #\n",
    "        pivot_i : int = (start_ + end_) // 2\n",
    "        pivot   : a   = xs[pivot_i]\n",
    "        i : int = start_ - 1\n",
    "        j = end_   + 1\n",
    "\n",
    "        while(True):\n",
    "            while (i := i+1) and (xs[i] < pivot):\n",
    "                pass \n",
    "            while (j := j-1) and (xs[j] > pivot):\n",
    "                    pass \n",
    "            if i >= j:\n",
    "                return j\n",
    "            \n",
    "            xs[i], xs[j] = xs[j], xs[i]\n",
    "\n",
    "    \n",
    "    \n",
    "    if start >= 0 and end >= 0 and start < end:\n",
    "        p = partition(start,end)\n",
    "        Quicksort(xs,start,p)\n",
    "        Quicksort(xs,p+1,end)\n",
    "\n",
    "xs = [1,3,9,0,6,5,11,2]\n",
    "Quicksort(xs)\n",
    "print(xs)\n"
   ]
  },
  {
   "cell_type": "markdown",
   "metadata": {},
   "source": [
    "# Radix Sort\n",
    "\n",
    "Radix sort solo trabaja en los enteros, pero funciona de una manera bastante interesante, si `xs=[170, 45, 75, 90, 2, 802, 2, 66]` entonces:\n",
    "\n",
    "* Sortea `xs` de acuerdo el digito menos significativo (LSD): `xs=[{170, 90}, {2, 802, 2}, {45, 75}, {66}]`\n",
    "* Sortea `xs` de acuerdo al **segundo** LSD: `xs=[{02, 802, 02}, {45}, {66}, {170, 75}, {90}]`\n",
    "* Sortea `xs` de acuerdo al **tercer**  LSD: `xs=[{002, 002, 045, 066, 075, 090}, {170}, {802}]`\n",
    "* `xs=[0002, 0002, 0045, 0066, 0075, 0090, 0170, 0802}]`\n",
    "* El mayor digito tenia solo 3 cifras, asi que paramos: `xs = 2,2,45,66,75,90,170,802`\n"
   ]
  },
  {
   "cell_type": "code",
   "execution_count": null,
   "metadata": {},
   "outputs": [
    {
     "name": "stdout",
     "output_type": "stream",
     "text": [
      "[0, 1, 2, 3, 5, 6, 9, 10, 11, 20, 21, 25]\n"
     ]
    }
   ],
   "source": [
    "def concat(xss : Iterable[Iterable[Any]]) -> Iterable[Any]:\n",
    "    for xs in xss:\n",
    "        for x in xs:\n",
    "            yield x    \n",
    "\n",
    "\n",
    "\n",
    "def Radix(xs : List[int], digit : int = 0) -> List[int]:\n",
    "\n",
    "    xss : List[List[int]] = [[] for _ in range(10)]\n",
    "    change : bool = False\n",
    "    for number in xs:\n",
    "        index : int = (number // 10**digit) % 10\n",
    "        xss[index].append(number)\n",
    "        if index != 0:\n",
    "            change = True    \n",
    "    \n",
    "    xs = list(concat(xss))\n",
    "\n",
    "    if change:\n",
    "        return Radix(xs,digit+1)\n",
    "    else:\n",
    "        return xs\n",
    "\n",
    "xs = [1,3,10,9,0,6,5,11,2,25,20,21,]\n",
    "print(Radix(xs))"
   ]
  },
  {
   "cell_type": "markdown",
   "metadata": {},
   "source": [
    "# Merge Sort\n",
    "\n",
    "Merge sort funciona de la siguiente manera:\n",
    "\n",
    "* Todo Arreglo vacio o con un elemento esta ordenado\n",
    "* Si `l` y `r` son dos arreglos ordenados, entonces `merge(l,r)` es un arreglo ordenado\n",
    "* Si `arr` es un arreglo no ordenado, entonces aplicamos mergesort a ambas mitades del arreglo y las unimos con `merge`\n"
   ]
  },
  {
   "cell_type": "code",
   "execution_count": 80,
   "metadata": {},
   "outputs": [
    {
     "name": "stdout",
     "output_type": "stream",
     "text": [
      "[1, 1, 2, 2, 3]\n"
     ]
    }
   ],
   "source": [
    "\n",
    "# merge([0,5,6] [1,4,7])\n",
    "# = [0,1,4,5,7]\n",
    "# Tienes n listas ordenas, mergearlas en una lista ordenada\n",
    "# heap.push(x) \n",
    "\n",
    "\n",
    "def MergeSort(xs : List[a], start : int = 0, end : int = len(xs) -1):\n",
    "    def merge(x : int, y : int, mid : int):\n",
    "        left  : List[a] = [xs[i] for i in range(start,mid+1)]\n",
    "        right : List[a] = [xs[i] for i in range(mid+1,end+1)]\n",
    "        for i in range(start,end+1):\n",
    "            if left == []:\n",
    "                left = right\n",
    "            if right == []:\n",
    "                right = left\n",
    "            \n",
    "            if left[0] <= right[0]:\n",
    "                xs[i] = left[0]\n",
    "                left.pop(0)\n",
    "            else:\n",
    "                xs[i] = right[0]\n",
    "                right.pop(0)\n",
    "\n",
    "    if (start>=end):\n",
    "        return\n",
    "    if (start+1==end):\n",
    "        xs[start],xs[end] = min(xs[start],xs[end]), max(xs[start],xs[end])\n",
    "        return\n",
    "    \n",
    "    mid : int = (start+end) // 2\n",
    "    MergeSort(xs,start,mid)\n",
    "    MergeSort(xs,mid+1,end)\n",
    "    merge(start,mid+1, mid)\n",
    "\n",
    "    \n",
    "\n",
    "xs = [2,1,3,1,2]\n",
    "MergeSort(xs)\n",
    "print(xs)\n",
    "\n"
   ]
  },
  {
   "cell_type": "markdown",
   "metadata": {},
   "source": [
    "# Minimum Window Substring\n",
    "\n",
    "Given two strings `s` and `t` of lengths `m` and `n` respectively, return the **minimum window substring** of `s` such that every character in `t` (including duplicates) is included in the window. If there is no such substring, return the empty string \"\".\n",
    "\n",
    "The testcases will be generated such that the answer is unique.\n",
    "\n",
    "A substring is a contiguous sequence of characters within the string.\n",
    "\n",
    "```\n",
    "Input: \n",
    "    s = \"ADOBECODEBANC\", \n",
    "    t = \"ABC\"\n",
    "\n",
    "Output: \"BANC\"\n",
    "Explanation: The minimum window substring \"BANC\" includes 'A', 'B', and 'C' from string t.\n",
    "```\n",
    "\n",
    "```\n",
    "Input: \n",
    "    s = \"a\", \n",
    "    t = \"aa\"\n",
    "Output: \"\"\n",
    "Explanation: Both 'a's from t must be included in the window.\n",
    "Since the largest window of s only has one 'a', return empty string.\n",
    "\n",
    "```\n"
   ]
  },
  {
   "cell_type": "code",
   "execution_count": null,
   "metadata": {},
   "outputs": [],
   "source": [
    "#BCA\n",
    "\n",
    "# Array List?\n",
    "# Dynamic Array?\n",
    "\n",
    "'''\n",
    "\n",
    "0 3 5 9 10 12 \n",
    "A B C B A   C\n",
    "\n",
    "sol_min = inf\n",
    "{ABC}\n",
    "         0 A {(A,0)}               | {A:0, B:1, C:1}\n",
    "0        3 B {(A,0),(B,3)}         | {A:0, B:0, C:1}\n",
    "3        5 C {(A,0),(B,2),(C,5)}   | {A:0, B:0, C:0} -> solMin: min(|0-5|,inf) = 5\n",
    "5 }      9 B {(B,2),(C,5),(B,9)}   | {A:1,B:-1, C:0} -> Se puede modificar para que popee el B mas antiguo\n",
    "        10 A {(C,5),(B,9),(A,10)}  | {A:0, B:0, C:0} -> solMin: min(|5-10|,5) = 5\n",
    "        12 C {(B,9),(A,10),(C,12)} | {A:0, B:0, C:0} -> solMin: min(|9-12|,5) = 3\n",
    "'''"
   ]
  },
  {
   "cell_type": "markdown",
   "metadata": {},
   "source": [
    "# Regular Expression Matcher\n",
    "\n",
    "Dada una expresion regular `p` compuesta de los siguientes patrones: \n",
    "\n",
    "* `x*` matchea 0 o mas veces el patron `x`\n",
    "* `.`  matchea cualquier caracter 1 sola vez\n",
    "\n",
    "Determine si un string `s` matchea `p`\n"
   ]
  },
  {
   "cell_type": "code",
   "execution_count": 81,
   "metadata": {},
   "outputs": [],
   "source": [
    "# aaav\n",
    "# a*av\n",
    "\n",
    "#  avavde\n",
    "# (avd)*jds(va)*\n",
    "\n",
    "#   /\\         /\\\n",
    "#   \\/         \\/\n",
    "#   av ->  -> av\n",
    "\n",
    "\n",
    "\n",
    "# \n",
    "# DFA: Deterministic Finite Automaton # DFS\n",
    "# NFA: Non-Deterministic Finite Automaton #BFS\n",
    "#  ------           ------\n",
    "#  |    |           |    |\n",
    "#  v    |           v    |\n",
    "# (a -> v) -> . -> (a -> v)\n",
    "\n",
    "# NFA"
   ]
  },
  {
   "cell_type": "markdown",
   "metadata": {},
   "source": [
    "# Making File Names Unique\n",
    "\n",
    "Given an array of strings `names` of size `n`. You will create `n` folders in your file system such that, at the `i`th minute, you will create a folder with the name `names[i]`.\n",
    "\n",
    "Since two files cannot have the same name, if you enter a folder name which is previously used, the system will have a suffix addition to its name in the form of `(k)`, where, `k` is the smallest positive integer such that the obtained name remains unique.\n",
    "\n",
    "Return an array of strings of length n where ans[i] is the actual name the system will assign to the ith folder when you create it.\n",
    "\n",
    "```\n",
    "Input: \n",
    "    names = [\"gta\",\"gta(1)\",\"gta\",\"avalon\"]\n",
    "Output: \n",
    "    [\"gta\",\"gta(1)\",\"gta(2)\",\"avalon\"]\n",
    "Explanation: Let's see how the file system creates folder names:\n",
    "\"gta\" --> not assigned before, remains \"gta\"\n",
    "\"gta(1)\" --> not assigned before, remains \"gta(1)\"\n",
    "\"gta\" --> the name is reserved, system adds (k), since \"gta(1)\" is also reserved, systems put k = 2. it becomes \"gta(2)\"\n",
    "\"avalon\" --> not assigned before, remains \"avalon\"\n",
    "```\n",
    "\n",
    "\n",
    "```\n",
    "Input: \n",
    "    names = [\"kaido\",\"kaido(1)\",\"kaido\",\"kaido(1)\"]\n",
    "Output: \n",
    "    [\"kaido\",\"kaido(1)\",\"kaido(2)\",\"kaido(1)(1)\"]\n",
    "Explanation: Please note that system adds the suffix (k) to current name even it contained the same suffix before.\n",
    "\n",
    "```"
   ]
  },
  {
   "cell_type": "code",
   "execution_count": null,
   "metadata": {},
   "outputs": [],
   "source": [
    "#sol\n",
    "\n",
    "# g\n",
    "# t\n",
    "# a <-> v -> l -> o -> n\n",
    "# ( \n",
    "# 1\n",
    "# )   \n"
   ]
  },
  {
   "cell_type": "markdown",
   "metadata": {},
   "source": [
    "# Valid Ip Addresses\n",
    "\n",
    "Given a string containing only digits, restore it by returning all possible valid IP address combinations.\n",
    "\n",
    "A valid IP address must be in the form of A.B.C.D, where A,B,C and D are numbers from 0-255. The numbers cannot be 0 prefixed unless they are 0.\n",
    "\n",
    "```\n",
    "Input: \n",
    "    s = \"25525511135\"\n",
    "Output:\n",
    "     [\"255.255.11.135\", \"255.255.111.35\"]\n",
    "\n",
    "```"
   ]
  },
  {
   "cell_type": "code",
   "execution_count": null,
   "metadata": {},
   "outputs": [],
   "source": [
    "#0-255.0-255.0-255.0-255\n",
    "# 25.52.55.111\n",
    "# 192.168.1.1\n",
    "# 8.8.8.8\n",
    "\n",
    "# 12016\n",
    "# 12.0.1.6\n",
    "# 1.20.1.6\n",
    "\n",
    "# 12016 -> 1.\n",
    "#       -> 1\n",
    "\n",
    "# NFA\n",
    "# [0-255].[0-255].[0-255].[0-255]"
   ]
  }
 ],
 "metadata": {
  "interpreter": {
   "hash": "33bd2d48148acb70238a67d4c395f81504d10d08e765c2e2f522770dc2fd3960"
  },
  "kernelspec": {
   "display_name": "Python 3.9.7 64-bit (windows store)",
   "name": "python3"
  },
  "language_info": {
   "codemirror_mode": {
    "name": "ipython",
    "version": 3
   },
   "file_extension": ".py",
   "mimetype": "text/x-python",
   "name": "python",
   "nbconvert_exporter": "python",
   "pygments_lexer": "ipython3",
   "version": "3.9.7"
  },
  "orig_nbformat": 4
 },
 "nbformat": 4,
 "nbformat_minor": 2
}
