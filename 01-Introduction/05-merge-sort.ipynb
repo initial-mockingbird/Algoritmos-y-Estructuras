{
 "cells": [
  {
   "cell_type": "code",
   "execution_count": null,
   "source": [],
   "outputs": [],
   "metadata": {}
  },
  {
   "cell_type": "markdown",
   "source": [
    "# Ejercicio: Merge sort\r\n",
    "\r\n",
    "El algoritmo merge sort es quizas el ejemplo clasico de divida y conquista, funciona de la siguiente manera:\r\n",
    "\r\n",
    "\r\n",
    "## Divide: \r\n",
    "1. Todo arreglo con 0 o 1 elementos esta ordenado\r\n",
    "2. Dado un arreglo `arr` de tamaño `n`, aplicamos `conquer` al resultado de hacer divide a cada mitad del arreglo\r\n",
    "\r\n",
    "## Conquer:\r\n",
    "1. Dado dos arreglos `arr_l` y `arr_r` ordenados, los combinamos en tiempo lineal para obtener un arreglo `arr` ordenado.\r\n",
    "\r\n"
   ],
   "metadata": {}
  },
  {
   "cell_type": "code",
   "execution_count": null,
   "source": [
    "def merge_sort(arr : List[int]) -> None:\r\n",
    "\r\n",
    "\r\n",
    "    def combine(l : List[int], r : List[int]) -> List[int]:\r\n",
    "        pass\r\n",
    "\r\n",
    "\r\n",
    "    def divide(a : int, b:int) -> None:\r\n",
    "        pass\r\n",
    "\r\n",
    "def is_sorted_test(sort : Callable[[List[int]], None]) -> None:\r\n",
    "    '''\r\n",
    "    Dada una funcion para sortear un arreglo in place, determina si es correcta\r\n",
    "    verificando el invariante:\r\n",
    "\r\n",
    "    \r\n",
    "     \r\n",
    "    '''\r\n",
    "    @given(ys = st.lists(st.integers()))\r\n",
    "    def _is_sorted_test(ys : Any):\r\n",
    "        from copy import deepcopy\r\n",
    "        xs : List[int] = list(ys)\r\n",
    "        zs : List[int] = deepcopy(xs)\r\n",
    "        n  : int       = len(xs)\r\n",
    "        sort(xs)\r\n",
    "\r\n",
    "        \r\n",
    "        # Arreglo esta sorteado si y solo si\r\n",
    "        # para todo indice i: 0<= i < n-1\r\n",
    "        # xs[i] <= xs[i+1]\r\n",
    "        for i in range(n-1):\r\n",
    "            try:\r\n",
    "                assert(xs[i] <= xs[i+1])\r\n",
    "            except Exception as e:\r\n",
    "                display_( color_text(\"Test Failed!\",color=ERROR_COLOR) + \"<br><br>\" +\r\n",
    "                    f\"El elemento en el indice ${i}$: ${xs[i]}$<br>\" + \r\n",
    "                    f\"es mayor que el elementl en el indice ${i+1}$: ${xs[i+1]}$ <br>\" + \r\n",
    "                    f\"arr: {zs} <br>\" + \r\n",
    "                    f\"after: {xs}\"\r\n",
    "                    \r\n",
    "                    )\r\n",
    "                return\r\n",
    "        \r\n",
    "        #display_(color_text(\"Test Success!\",color=SUCCESS_COLOR))\r\n",
    "\r\n",
    "    _is_sorted_test()\r\n",
    "\r\n",
    "is_sorted_test(merge_sort)\r\n",
    "    \r\n",
    "\r\n",
    "\r\n"
   ],
   "outputs": [],
   "metadata": {}
  }
 ],
 "metadata": {
  "orig_nbformat": 4,
  "language_info": {
   "name": "python"
  }
 },
 "nbformat": 4,
 "nbformat_minor": 2
}