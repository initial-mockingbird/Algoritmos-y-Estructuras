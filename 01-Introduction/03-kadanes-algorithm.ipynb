{
 "cells": [
  {
   "cell_type": "code",
   "execution_count": null,
   "source": [],
   "outputs": [],
   "metadata": {}
  },
  {
   "cell_type": "markdown",
   "source": [
    "# Ejercicio: Revisitando Max sum array sum: Kadane's Algorithm\r\n",
    "\r\n",
    "Notemos que el problema del sub arreglo maximo lo podemos simplificar aun mas, sea `arr = [1,2,-3,-4,1,10]` entonces, trabajaremos recorriendo el arreglo:\r\n",
    "\r\n",
    "- `i=0` inicialmente el arreglo esta compuesto de solo 1, entonces nuestra suma maxima por ahora sera: `max_sum=1`, y nuestra suma acumulada: `acc_sum=1`\r\n",
    "- `i=1` luego descubrimos el 2, por lo tanto aumentamos nuestra suma acumulada: `acc_sum += 2 = 3`, y como descubrimos un nuevo maximo, lo actualizamos: `max_sum=3`\r\n",
    "- `i=2` Luego descubrimos al -3, aumentando nuestra suma acumulada: `acc_sum += -3 = 0`, esto no es un nuevo maximo asi que proseguimos\r\n",
    "- `i=3`, descubrimos -4, lo que hace que nuestra suma acumulada sea: `acc_sum=-4`, fijemonos que ahora la suma es negativa, eso quiere decir que no importa cual sea el numero que le prosigue,\r\n",
    "  si le sumamos lo que llevamos acumulado siempre va a decrementar su valor, por lo tanto lo mejor que podemos hacer es resetear `acc_sum`, simbolizando que si hay una nueva mejor suma, esta va a estar a la derecha de la vieja\r\n",
    "- `i=4`, descubrimos 1, actualizando: `acc_sum=1`\r\n",
    "- `i=5`, descubrimos 10, lo que convierte: `acc_sum=11`, y como es mayor que nuestra mejor suma actual, la actualizamos: `max_sum=11`\r\n",
    "\r\n",
    "Claramente, la complejidad de este algoritmo es lineal, veamos una posible implementacion:\r\n"
   ],
   "metadata": {}
  },
  {
   "cell_type": "code",
   "execution_count": null,
   "source": [
    "def _kadane(arr: List[float]) -> Tuple[float,int,int]:\r\n",
    "    if arr == []:\r\n",
    "        return (0,-1,-1)\r\n",
    "\r\n",
    "    acc_sum : float = 0\r\n",
    "    max_sum : float = 0\r\n",
    "    n       : int   = len(arr)\r\n",
    "    a       : int   = 0\r\n",
    "    b       : int   = 0\r\n",
    "\r\n",
    "\r\n",
    "    for i in range(n):\r\n",
    "        acc_sum += arr[i]\r\n",
    "        if acc_sum > max_sum:\r\n",
    "            max_sum = acc_sum\r\n",
    "            b       = i\r\n",
    "        if acc_sum < 0:\r\n",
    "            acc_sum = 0\r\n",
    "            a       = i\r\n",
    "\r\n",
    "    \r\n",
    "    if all([x < 0 for x in arr]):\r\n",
    "        return max([(x,i,i) for (x,i) in zip(arr,range(n))]) \r\n",
    "\r\n",
    "    return (max_sum,a,b)\r\n",
    "\r\n",
    "\r\n",
    "\r\n",
    "\r\n",
    "sum_array_test(_kadane)\r\n",
    "#print(_kadane([-1,-5,-3,-2]) )"
   ],
   "outputs": [],
   "metadata": {}
  }
 ],
 "metadata": {
  "orig_nbformat": 4,
  "language_info": {
   "name": "python"
  }
 },
 "nbformat": 4,
 "nbformat_minor": 2
}