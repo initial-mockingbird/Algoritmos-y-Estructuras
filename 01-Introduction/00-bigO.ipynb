{
 "cells": [
  {
   "cell_type": "code",
   "execution_count": null,
   "source": [
    "# Autor: Daniel Pinto\r\n",
    "# Introduccion a la notacion asintotica\r\n",
    "# Fecha: 2021/09/23 YYYY/MM/DD\r\n",
    "\r\n",
    "from typing import List, TypeVar, Tuple, Any, Callable\r\n",
    "from hypothesis import given, strategies as st\r\n",
    "from IPython.display import Markdown, display\r\n",
    "\r\n",
    "def display_(s : str) -> None:\r\n",
    "    '''\r\n",
    "    A way to display strings with markdown \r\n",
    "    in jupyter.\r\n",
    "    '''\r\n",
    "    display(\r\n",
    "        Markdown(s)\r\n",
    "    )\r\n",
    "\r\n",
    "SUCCESS_COLOR = '#4BB543'\r\n",
    "ERROR_COLOR   = '#B00020'\r\n",
    "\r\n",
    "def color_text(s : str, color : str =SUCCESS_COLOR ) -> str:\r\n",
    "    return f\"<span style='color:{color}'> {s} </span>.\"\r\n",
    "a      = TypeVar('a')\r\n",
    "b      = TypeVar('b')\r\n",
    "c      = TypeVar('c')"
   ],
   "outputs": [],
   "metadata": {}
  },
  {
   "cell_type": "markdown",
   "source": [
    "# Big $O$ notation\r\n",
    "\r\n",
    "\r\n",
    "- Es una forma de calcular el **numero de operaciones** que un algoritmo realiza\r\n",
    "  \r\n",
    "- Analiza el numero de operaciones en **el peor de los casos**\r\n",
    "  \r\n",
    "- En caso de que el peor de los casos se ejecute en la misma cantidad de operaciones que en el mejor de los casos, lo llamamos $\\Theta$ (theta)\r\n",
    "notation.\r\n",
    "\r\n",
    "- Tambien existe el _average case complexity_ para estudiar el caso promedio, pero este es sorprendentemente dificil de calcular (por cuestion de probabilidades: como se distribuye la data?)\r\n",
    "\r\n",
    "- Muchas veces es referido como _time complexity_, sin embargo algoritmos con complejidades superiores **no siempre son mas lentos** que algoritmos con complejidades inferiores\r\n",
    "  \r\n",
    "- Asi que, aunque es una buena herramienta para estimar que puede ser mas eficiente, **benchmarking** siempre sera necesario."
   ],
   "metadata": {}
  },
  {
   "cell_type": "markdown",
   "source": [
    "# Un ejemplo basico: `for loops`\r\n",
    "\r\n",
    "Consideremos el siguiente script de python que suma los primeros `n` numeros:"
   ],
   "metadata": {}
  },
  {
   "cell_type": "code",
   "execution_count": null,
   "source": [
    "# Algoritmo a.\r\n",
    "def suma() -> None:\r\n",
    "    n     = 10\r\n",
    "    sum_n = 0\r\n",
    "\r\n",
    "    for i in range(n+1):\r\n",
    "        sum_n = sum_n + i\r\n",
    "\r\n",
    "    display_(f\"La suma de los primeros ${n}$ numeros es: ${sum_n}$\")\r\n",
    "    #x = 2\r\n",
    "if __name__==\"__main__\":\r\n",
    "    suma()\r\n"
   ],
   "outputs": [],
   "metadata": {}
  },
  {
   "cell_type": "markdown",
   "source": [
    "Notemos que la funcion main realiza:\r\n",
    "\r\n",
    "\r\n",
    "```python\r\n",
    "# Algoritmo a.\r\n",
    "def main():\r\n",
    "    n     = 10                                  <- 1\r\n",
    "    sum_n = 0                                   <- 2\r\n",
    "\r\n",
    "    for i in range(n):                          <- n +2\r\n",
    "        sum_n = sum_n + i                       <- n + n + 2 = 2n+2\r\n",
    "\r\n",
    "    print(\r\n",
    "        f\"La suma de los primeros {n} numeros es: {sum_n}\" <- 2n+3\r\n",
    "        )\r\n",
    "\r\n",
    "if __name__==\"__main__\":\r\n",
    "    main()\r\n",
    "\r\n",
    "```\r\n",
    "\r\n",
    "$2n+3$ operaciones, por lo tanto su complejidad en tiempo es de: $O(2n+3)$"
   ],
   "metadata": {}
  },
  {
   "cell_type": "markdown",
   "source": [
    "\r\n",
    "Si adicionalmente quisieramos calcular tanto la suma como el producto:"
   ],
   "metadata": {}
  },
  {
   "cell_type": "code",
   "execution_count": null,
   "source": [
    "# Algoritmo b.\r\n",
    "def suma_producto() -> None:\r\n",
    "    n      = 10                                  #<- 1\r\n",
    "    sum_n  = 0                                   #<- 2\r\n",
    "    prod_n = 1                                   #<- 3\r\n",
    "\r\n",
    "    for i in range(1,n):                         #<- n +3\r\n",
    "        sum_n  = sum_n  + i                      #<- n + n + 3  = 2n+3\r\n",
    "        prod_n = prod_n * i                      #<- 2n + 3 + n = 3n+3\r\n",
    "\r\n",
    "    display_(\r\n",
    "        f\"La suma de los primeros ${n}$ numeros es: ${sum_n}$\" #<- 3n+4\r\n",
    "        )\r\n",
    "    \r\n",
    "    display_(\r\n",
    "        f\"El producto de los primeros ${n}$ numeros es: ${prod_n}$\" #<- 3n+5\r\n",
    "        )\r\n",
    "\r\n",
    "\r\n",
    "if __name__==\"__main__\":\r\n",
    "    suma_producto()\r\n"
   ],
   "outputs": [],
   "metadata": {}
  },
  {
   "cell_type": "markdown",
   "source": [
    "En este caso, la complejidad es $O(3n+5)$"
   ],
   "metadata": {}
  },
  {
   "cell_type": "markdown",
   "source": [
    "\r\n",
    "# Comparando funciones bajo la notacion $O$\r\n",
    "\r\n",
    "Finisimo, ya tenemos como sacar la complejidad de algoritmos simples con ciclos, y no solo eso, sino sabemos contar exactamente cuantas operaciones hacen. Sin embargo, hay una pregunta interesante que surge una vez ya sabemos el numero de pasos: cual algoritmo se comporta mejor?\r\n",
    "\r\n",
    "\r\n",
    "En el caso anterior, parece ser que el `Algoritmo a.` tiene una menor complejidad que el `Algoritmo b.`, lo cual parece razonable, pero que pasa si tengo dos algoritmos con complejidades: $O_1 = O(n+1)$ y $O_2 = O(n+2)$? Es un poco exagerado decir que el primer algoritmo es mejor ya que hace solo 1 operacion mas, si esa operacion es un o-logico (`||`) la diferencia en tiempo es **menor** a un ciclo de cpu, basicamente poseen el mismo tiempo. Por lo tanto, necesitamos introducir algunas nociones para determinar esto."
   ],
   "metadata": {}
  },
  {
   "cell_type": "markdown",
   "source": [
    "# La matematica del asunto\r\n",
    "\r\n",
    "Sean $f(n)$ y $g(n)$ dos funciones, entonces decimos que $f$ _domina asintoticamente a_ $g$ si y solo si:\r\n",
    "\r\n",
    "\r\n",
    "$$\r\n",
    "\\lim_{n \\rightarrow \\infty} \\dfrac{g(n)}{f(n)} = k, \\ k \\in \\mathbb{R}\r\n",
    "$$\r\n",
    "\r\n",
    "En nuestro ejemplo anterior:\r\n",
    "\r\n",
    "$$\r\n",
    "\\lim_{n \\rightarrow \\infty} \\dfrac{2n+3}{3n+5} = \\dfrac{2}{3} \\in \\mathbb{R}\r\n",
    "$$\r\n",
    "\r\n",
    "\r\n",
    "Esto se traduce a: $O(g(n)) = O(f(n))$, es importante resaltar que este operador **no** es simetrico, por ejemplo, sea $f(n) = n^2$ y sea $g(n) = n$, entonces:\r\n",
    "\r\n",
    "\r\n",
    "$$\r\n",
    "\\lim_{n \\rightarrow \\infty} \\dfrac{3n+5}{2n+3} = \\dfrac{3}{2} \\in \\mathbb{R}\r\n",
    "$$\r\n",
    "\r\n",
    "$$\r\n",
    "\\lim_{n \\rightarrow \\infty} \\dfrac{n}{n^2} = 0 \\in \\mathbb{R}\r\n",
    "$$\r\n",
    "\r\n",
    "Es decir: $O(n) = O(n^2)$, pero:\r\n",
    "\r\n",
    "$$\r\n",
    "\\lim_{n \\rightarrow \\infty} \\dfrac{n^2}{n} = \\infty \\not \\in \\mathbb{R}\r\n",
    "$$\r\n",
    "\r\n",
    "Por lo tanto: $O(n^2) \\not = O(n)$"
   ],
   "metadata": {}
  },
  {
   "cell_type": "markdown",
   "source": [
    "\r\n",
    "# Jerarquia Asintoticas y Propiedades:\r\n",
    "\r\n",
    "### Jerarquia:\r\n",
    "\r\n",
    "\r\n",
    "<center>\r\n",
    "\r\n",
    "|    Nombre   \t|    Notacion    \t|\r\n",
    "|:-----------:\t|:--------------:\t|\r\n",
    "| Constante   \t| $O(1)$         \t|\r\n",
    "| Log-Log     \t| $O(log(log(n)$ \t|\r\n",
    "| Logaritmico \t| $O(log(n))$    \t|\r\n",
    "| Lineal      \t| $O(n)$         \t|\r\n",
    "| Lineal-Log  \t| $O(n\\ log(n))$  \t|\r\n",
    "| Cuadratico  \t| $O(n^2)$       \t|\r\n",
    "| Cubico      \t| $O(n^3)$       \t|\r\n",
    "| Polinomico  \t| $O(poly(n))$   \t|\r\n",
    "| Exponencial \t| $O(2^n)$       \t|\r\n",
    "| Factorial   \t| $O(n!)$        \t|\r\n",
    "\r\n",
    "</center>\r\n",
    "\r\n",
    "\r\n",
    "### Propiedades:\r\n",
    "\r\n",
    "- $O(k \\ f(n)) = O(f(n))$\r\n",
    "  \r\n",
    "- $O(f(n) + g(n)) = O(max \\ f(n) \\ g(n))$\r\n",
    "  \r\n",
    "- $O(f(n) * g(n)) = O(f(n)) * O(g(n))$\r\n"
   ],
   "metadata": {}
  },
  {
   "cell_type": "markdown",
   "source": [
    "# Ejercicio: Suma de matrices\r\n",
    "\r\n",
    "\r\n",
    "Analicemos la complejidad de un algoritmo para sumar matrices:"
   ],
   "metadata": {}
  },
  {
   "cell_type": "code",
   "execution_count": null,
   "source": [
    "# Por simplicidad definiremos una matriz como una lista de listas\r\n",
    "Matrix    = List[List[a]]\r\n",
    "\r\n",
    "def sum_matrix_(M : Matrix[float], N : Matrix[float], size : Tuple[int,int] ) -> Matrix[float]:\r\n",
    "    (n_row,n_col) = size\r\n",
    "    res : Matrix[float] = []\r\n",
    "    for i in range(n_row): # n\r\n",
    "        row : List[float] = [] # n\r\n",
    "        for j in range(n_col): # n*m\r\n",
    "            row.append(M[i][j] + N[i][j]) # n*m\r\n",
    "        res.append(row) # n\r\n",
    "    return res\r\n",
    "\r\n",
    "# O(3n + 2n*m) ~ O(N*M)\r\n",
    "\r\n",
    "\r\n",
    "def sum_matrix(M : Matrix[float], N : Matrix[float], size : Tuple[int,int] ) -> Matrix[float] :\r\n",
    "    (n,m) = size\r\n",
    "    res  : Matrix[float]  = [[0 for _ in range(m)] for _ in range(n)]\r\n",
    "\r\n",
    "    # Para cada indice: 0<= i < #rows\r\n",
    "    for i in range(n):\r\n",
    "        # Para cada indice: 0<=j < #cols\r\n",
    "        for j in range(m):\r\n",
    "            res[i][j] = M[i][j] + N[i][j]\r\n",
    "    return res\r\n",
    "\r\n",
    "def print_num_matrix(M : Matrix[float]) -> None:\r\n",
    "    '''\r\n",
    "    Dada una matriz de numeros\r\n",
    "    la impre de manera bonita con los numeros\r\n",
    "    alineados a la derecha.\r\n",
    "    '''\r\n",
    "    maxNum : float = max(\r\n",
    "            list(\r\n",
    "            map (lambda row: max(row),M)\r\n",
    "            )\r\n",
    "        )\r\n",
    "    \r\n",
    "    digits : int = len(str(maxNum))\r\n",
    "\r\n",
    "    for row in M:\r\n",
    "        print(list(map(lambda n: f\"{n:>{digits}}\"  ,row)))\r\n",
    "\r\n",
    "\r\n",
    "if __name__==\"__main__\":\r\n",
    "    N : Matrix[float] = [ [0,1,2]\r\n",
    "                        , [3,4,5]\r\n",
    "                        , [6,7,8]\r\n",
    "                        ]\r\n",
    "\r\n",
    "    M : Matrix[float] = [ [ 2, 4, 6]\r\n",
    "                        , [ 8,10,12]\r\n",
    "                        , [14,16,18]\r\n",
    "                        ]\r\n",
    "\r\n",
    "    display_(\"$N+M$ is:\")\r\n",
    "    print_num_matrix(sum_matrix_(N,M,(3,3)))\r\n"
   ],
   "outputs": [],
   "metadata": {}
  },
  {
   "cell_type": "markdown",
   "source": [
    "Cual es la complejidad si:\r\n",
    "\r\n",
    "1. $N=M$? ~$O(N^2)$\r\n",
    "2. $N \\not = M$? ~$O(NM)$"
   ],
   "metadata": {}
  }
 ],
 "metadata": {
  "orig_nbformat": 4,
  "language_info": {
   "name": "python",
   "version": "3.9.5",
   "mimetype": "text/x-python",
   "codemirror_mode": {
    "name": "ipython",
    "version": 3
   },
   "pygments_lexer": "ipython3",
   "nbconvert_exporter": "python",
   "file_extension": ".py"
  },
  "kernelspec": {
   "name": "python3",
   "display_name": "Python 3.9.5 64-bit (windows store)"
  },
  "interpreter": {
   "hash": "33bd2d48148acb70238a67d4c395f81504d10d08e765c2e2f522770dc2fd3960"
  }
 },
 "nbformat": 4,
 "nbformat_minor": 2
}