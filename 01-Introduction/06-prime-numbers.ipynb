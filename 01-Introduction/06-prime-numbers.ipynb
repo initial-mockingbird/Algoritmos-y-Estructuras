{
 "cells": [
  {
   "cell_type": "code",
   "execution_count": 35,
   "source": [
    "primeNumbers = [2, 3, 5, 7, 11]\n",
    "primeCount16 = [0 for i in range(len(primeNumbers))]\n",
    "primeCount20 = [0 for i in range(len(primeNumbers))]"
   ],
   "outputs": [],
   "metadata": {}
  },
  {
   "cell_type": "code",
   "execution_count": 36,
   "source": [
    "number = 20\n",
    "for i in range(len(primeNumbers)):\n",
    "    while number % primeNumbers[i] == 0:\n",
    "        number = number / primeNumbers[i]\n",
    "        primeCount20[i] += 1\n",
    "\n",
    "number = 16\n",
    "for i in range(len(primeNumbers)):\n",
    "    while number % primeNumbers[i] == 0:\n",
    "        number = number / primeNumbers[i]\n",
    "        primeCount16[i] += 1\n"
   ],
   "outputs": [],
   "metadata": {}
  },
  {
   "cell_type": "code",
   "execution_count": 38,
   "source": [
    "primeCount20"
   ],
   "outputs": [
    {
     "output_type": "execute_result",
     "data": {
      "text/plain": [
       "[2, 0, 1, 0, 0]"
      ]
     },
     "metadata": {},
     "execution_count": 38
    }
   ],
   "metadata": {}
  },
  {
   "cell_type": "code",
   "execution_count": 41,
   "source": [
    "primeCount16"
   ],
   "outputs": [
    {
     "output_type": "execute_result",
     "data": {
      "text/plain": [
       "[4, 0, 0, 0, 0]"
      ]
     },
     "metadata": {},
     "execution_count": 41
    }
   ],
   "metadata": {}
  },
  {
   "cell_type": "code",
   "execution_count": 39,
   "source": [
    "gcd = 1\n",
    "for i in range(len(primeNumbers)):\n",
    "    gcd *= primeNumbers[i]**(min(primeCount20[i], primeCount16[i]))"
   ],
   "outputs": [],
   "metadata": {}
  },
  {
   "cell_type": "code",
   "execution_count": 42,
   "source": [
    "lcm = 1\n",
    "for i in range(len(primeNumbers)):\n",
    "    lcm *= primeNumbers[i]**(max(primeCount20[i], primeCount16[i]))"
   ],
   "outputs": [],
   "metadata": {}
  },
  {
   "cell_type": "code",
   "execution_count": 46,
   "source": [
    "assert lcm*gcd == 16*20, \"Test didn't pass\""
   ],
   "outputs": [],
   "metadata": {}
  },
  {
   "cell_type": "code",
   "execution_count": 5,
   "source": [
    "primeNumbers =     [2, 3, 5]\n",
    "2^4 * 3^0 * 5^1 = 80 #LCM\n",
    "\n",
    "2^2 * 3^0 * 5^0  = 4 # GCD\n",
    "primeFactorsOf16 = [4, 0, 0]\n",
    "primeFactorsOf20 = [2, 0, 1]\n"
   ],
   "outputs": [],
   "metadata": {}
  },
  {
   "cell_type": "code",
   "execution_count": 6,
   "source": [
    "prime = []\n",
    "for primeNumber in primeNumbers:\n",
    "    count = 0\n",
    "    while(n % primeNumber == 0):\n",
    "        n = n/primeNumber\n",
    "        count += 1   \n",
    "\n",
    "    prime.append(count)     \n"
   ],
   "outputs": [],
   "metadata": {}
  },
  {
   "cell_type": "code",
   "execution_count": 7,
   "source": [],
   "outputs": [
    {
     "output_type": "execute_result",
     "data": {
      "text/plain": [
       "[4, 0, 0, 0, 0]"
      ]
     },
     "metadata": {},
     "execution_count": 7
    }
   ],
   "metadata": {}
  },
  {
   "cell_type": "code",
   "execution_count": 6,
   "source": [
    "number = 40 \n",
    "divisors = []\n",
    "\n",
    "# for i in range(1,number+1):\n",
    "#     if number % i == 0:\n",
    "#         divisors.append(i)\n",
    "#         divisors.append(number/i)\n",
    "\n",
    "i = 1\n",
    "\n",
    "while i*i <= number:\n",
    "    if number % i == 0:\n",
    "        divisors.append(i)\n",
    "        divisors.append(number//i)\n",
    "    i += 1\n",
    "divisors.sort()\n",
    "divisors\n",
    "\n"
   ],
   "outputs": [
    {
     "output_type": "stream",
     "name": "stdout",
     "text": [
      "Each triplet should be (a * b + c) == N \n",
      "[(2, 10, 0), (4, 5, 0), (5, 4, 0), (10, 2, 0), (1, 19, 1), (19, 1, 1), (1, 18, 2), (2, 9, 2), (3, 6, 2), (6, 3, 2), (9, 2, 2), (18, 1, 2), (1, 17, 3), (17, 1, 3), (1, 16, 4), (2, 8, 4), (4, 4, 4), (8, 2, 4), (16, 1, 4), (1, 15, 5), (3, 5, 5), (5, 3, 5), (15, 1, 5), (1, 14, 6), (2, 7, 6), (7, 2, 6), (14, 1, 6), (1, 13, 7), (13, 1, 7), (1, 12, 8), (2, 6, 8), (3, 4, 8), (4, 3, 8), (6, 2, 8), (12, 1, 8), (1, 11, 9), (11, 1, 9), (1, 10, 10), (2, 5, 10), (5, 2, 10), (10, 1, 10), (1, 9, 11), (3, 3, 11), (9, 1, 11), (1, 8, 12), (2, 4, 12), (4, 2, 12), (8, 1, 12), (1, 7, 13), (7, 1, 13), (1, 6, 14), (2, 3, 14), (3, 2, 14), (6, 1, 14), (1, 5, 15), (5, 1, 15), (1, 4, 16), (2, 2, 16), (4, 1, 16), (1, 3, 17), (3, 1, 17), (1, 2, 18), (2, 1, 18), (1, 1, 19)]\n"
     ]
    }
   ],
   "metadata": {}
  },
  {
   "cell_type": "code",
   "execution_count": 49,
   "source": [
    "divisors"
   ],
   "outputs": [
    {
     "output_type": "execute_result",
     "data": {
      "text/plain": [
       "[1, 2, 4, 5, 8, 10, 20, 40]"
      ]
     },
     "metadata": {},
     "execution_count": 49
    }
   ],
   "metadata": {}
  },
  {
   "cell_type": "code",
   "execution_count": null,
   "source": [
    "1*40\n",
    "2*20\n",
    "4*10\n",
    "5*8\n",
    "\n",
    "\n",
    "8*5\n",
    "10*4\n",
    "20*2\n",
    "40*1\n",
    "\n",
    "1*36\n",
    "2*18\n",
    "3*12\n",
    "4*9\n",
    "6*6\n"
   ],
   "outputs": [],
   "metadata": {}
  },
  {
   "cell_type": "code",
   "execution_count": null,
   "source": [
    "\n",
    "input:\n",
    "12345\n",
    "1, 2, 5, 10, 100\n",
    "output:\n",
    "15"
   ],
   "outputs": [],
   "metadata": {}
  },
  {
   "cell_type": "code",
   "execution_count": 19,
   "source": [
    "notes = [100, 10, 5, 2, 1]\n",
    "money = 12345\n",
    "count_notes = [0 for _ in range(len(notes))]"
   ],
   "outputs": [],
   "metadata": {}
  },
  {
   "cell_type": "code",
   "execution_count": 21,
   "source": [
    "i = 0\n",
    "it = 0\n",
    "for note in notes:\n",
    "    count_notes[i] += money // note\n",
    "    money = money % note       \n",
    "    i += 1\n"
   ],
   "outputs": [],
   "metadata": {}
  },
  {
   "cell_type": "code",
   "execution_count": 24,
   "source": [
    "i = 0\n",
    "while money:\n",
    "    count_notes[i] += money // notes[i]\n",
    "    money = money % notes[i]\n",
    "    i += 1"
   ],
   "outputs": [],
   "metadata": {}
  },
  {
   "cell_type": "code",
   "execution_count": 25,
   "source": [
    "count_notes"
   ],
   "outputs": [
    {
     "output_type": "execute_result",
     "data": {
      "text/plain": [
       "[123, 4, 1, 0, 0]"
      ]
     },
     "metadata": {},
     "execution_count": 25
    }
   ],
   "metadata": {}
  },
  {
   "cell_type": "code",
   "execution_count": 23,
   "source": [
    "it"
   ],
   "outputs": [
    {
     "output_type": "execute_result",
     "data": {
      "text/plain": [
       "5"
      ]
     },
     "metadata": {},
     "execution_count": 23
    }
   ],
   "metadata": {}
  },
  {
   "cell_type": "code",
   "execution_count": 9,
   "source": [
    "23//10"
   ],
   "outputs": [
    {
     "output_type": "execute_result",
     "data": {
      "text/plain": [
       "2"
      ]
     },
     "metadata": {},
     "execution_count": 9
    }
   ],
   "metadata": {}
  },
  {
   "cell_type": "code",
   "execution_count": 10,
   "source": [
    "cache = {}\n",
    "def find_busiest_period(data):\n",
    "\n",
    "\n",
    "  max_key = None\n",
    "  max_value = 0\n",
    "  \n",
    "  for res in cache.keys():\n",
    "    if max_value < cache[res]: \n",
    "      max_value = cache[res]\n",
    "      max_key = res\n",
    "\n",
    "  return max_key\n"
   ],
   "outputs": [
    {
     "output_type": "stream",
     "name": "stdout",
     "text": [
      "\n",
      "{1487799425: 0}\n",
      "\n",
      "{1487799425: 21}\n",
      "\n",
      "{1487799425: 17, 1487901318: 0}\n"
     ]
    },
    {
     "output_type": "execute_result",
     "data": {
      "text/plain": [
       "1487799425"
      ]
     },
     "metadata": {},
     "execution_count": 10
    }
   ],
   "metadata": {}
  }
 ],
 "metadata": {
  "orig_nbformat": 4,
  "language_info": {
   "name": "python",
   "version": "3.9.7",
   "mimetype": "text/x-python",
   "codemirror_mode": {
    "name": "ipython",
    "version": 3
   },
   "pygments_lexer": "ipython3",
   "nbconvert_exporter": "python",
   "file_extension": ".py"
  },
  "kernelspec": {
   "name": "python3",
   "display_name": "Python 3.9.7 64-bit"
  },
  "interpreter": {
   "hash": "e7370f93d1d0cde622a1f8e1c04877d8463912d04d973331ad4851f04de6915a"
  }
 },
 "nbformat": 4,
 "nbformat_minor": 2
}