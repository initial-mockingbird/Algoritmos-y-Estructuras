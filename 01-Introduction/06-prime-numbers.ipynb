{
 "cells": [
  {
   "cell_type": "code",
   "execution_count": 35,
   "source": [
    "primeNumbers = [2, 3, 5, 7, 11]\r\n",
    "primeCount16 = [0 for i in range(len(primeNumbers))]\r\n",
    "primeCount20 = [0 for i in range(len(primeNumbers))]"
   ],
   "outputs": [],
   "metadata": {}
  },
  {
   "cell_type": "code",
   "execution_count": 36,
   "source": [
    "number = 20\r\n",
    "for i in range(len(primeNumbers)):\r\n",
    "    while number % primeNumbers[i] == 0:\r\n",
    "        number = number / primeNumbers[i]\r\n",
    "        primeCount20[i] += 1\r\n",
    "\r\n",
    "number = 16\r\n",
    "for i in range(len(primeNumbers)):\r\n",
    "    while number % primeNumbers[i] == 0:\r\n",
    "        number = number / primeNumbers[i]\r\n",
    "        primeCount16[i] += 1\r\n"
   ],
   "outputs": [],
   "metadata": {}
  },
  {
   "cell_type": "code",
   "execution_count": 38,
   "source": [
    "primeCount20"
   ],
   "outputs": [
    {
     "output_type": "execute_result",
     "data": {
      "text/plain": [
       "[2, 0, 1, 0, 0]"
      ]
     },
     "metadata": {},
     "execution_count": 38
    }
   ],
   "metadata": {}
  },
  {
   "cell_type": "code",
   "execution_count": 41,
   "source": [
    "primeCount16"
   ],
   "outputs": [
    {
     "output_type": "execute_result",
     "data": {
      "text/plain": [
       "[4, 0, 0, 0, 0]"
      ]
     },
     "metadata": {},
     "execution_count": 41
    }
   ],
   "metadata": {}
  },
  {
   "cell_type": "code",
   "execution_count": 39,
   "source": [
    "gcd = 1\r\n",
    "for i in range(len(primeNumbers)):\r\n",
    "    gcd *= primeNumbers[i]**(min(primeCount20[i], primeCount16[i]))"
   ],
   "outputs": [],
   "metadata": {}
  },
  {
   "cell_type": "code",
   "execution_count": 42,
   "source": [
    "lcm = 1\r\n",
    "for i in range(len(primeNumbers)):\r\n",
    "    lcm *= primeNumbers[i]**(max(primeCount20[i], primeCount16[i]))"
   ],
   "outputs": [],
   "metadata": {}
  },
  {
   "cell_type": "code",
   "execution_count": 46,
   "source": [
    "assert lcm*gcd == 16*20, \"Test didn't pass\""
   ],
   "outputs": [],
   "metadata": {}
  },
  {
   "cell_type": "code",
   "execution_count": 5,
   "source": [
    "primeNumbers =     [2, 3, 5]\r\n",
    "2^4 * 3^0 * 5^1 = 80 #LCM\r\n",
    "\r\n",
    "2^2 * 3^0 * 5^0  = 4 # GCD\r\n",
    "primeFactorsOf16 = [4, 0, 0]\r\n",
    "primeFactorsOf20 = [2, 0, 1]\r\n"
   ],
   "outputs": [],
   "metadata": {}
  },
  {
   "cell_type": "code",
   "execution_count": 6,
   "source": [
    "prime = []\r\n",
    "for primeNumber in primeNumbers:\r\n",
    "    count = 0\r\n",
    "    while(n % primeNumber == 0):\r\n",
    "        n = n/primeNumber\r\n",
    "        count += 1   \r\n",
    "\r\n",
    "    prime.append(count)     \r\n"
   ],
   "outputs": [],
   "metadata": {}
  },
  {
   "cell_type": "code",
   "execution_count": 7,
   "source": [],
   "outputs": [
    {
     "output_type": "execute_result",
     "data": {
      "text/plain": [
       "[4, 0, 0, 0, 0]"
      ]
     },
     "metadata": {},
     "execution_count": 7
    }
   ],
   "metadata": {}
  },
  {
   "cell_type": "code",
   "execution_count": 6,
   "source": [
    "number = 40 \r\n",
    "divisors = []\r\n",
    "\r\n",
    "# for i in range(1,number+1):\r\n",
    "#     if number % i == 0:\r\n",
    "#         divisors.append(i)\r\n",
    "#         divisors.append(number/i)\r\n",
    "\r\n",
    "i = 1\r\n",
    "\r\n",
    "while i*i <= number:\r\n",
    "    if number % i == 0:\r\n",
    "        divisors.append(i)\r\n",
    "        divisors.append(number//i)\r\n",
    "    i += 1\r\n",
    "divisors.sort()\r\n",
    "divisors\r\n",
    "\r\n"
   ],
   "outputs": [
    {
     "output_type": "stream",
     "name": "stdout",
     "text": [
      "Each triplet should be (a * b + c) == N \n",
      "[(2, 10, 0), (4, 5, 0), (5, 4, 0), (10, 2, 0), (1, 19, 1), (19, 1, 1), (1, 18, 2), (2, 9, 2), (3, 6, 2), (6, 3, 2), (9, 2, 2), (18, 1, 2), (1, 17, 3), (17, 1, 3), (1, 16, 4), (2, 8, 4), (4, 4, 4), (8, 2, 4), (16, 1, 4), (1, 15, 5), (3, 5, 5), (5, 3, 5), (15, 1, 5), (1, 14, 6), (2, 7, 6), (7, 2, 6), (14, 1, 6), (1, 13, 7), (13, 1, 7), (1, 12, 8), (2, 6, 8), (3, 4, 8), (4, 3, 8), (6, 2, 8), (12, 1, 8), (1, 11, 9), (11, 1, 9), (1, 10, 10), (2, 5, 10), (5, 2, 10), (10, 1, 10), (1, 9, 11), (3, 3, 11), (9, 1, 11), (1, 8, 12), (2, 4, 12), (4, 2, 12), (8, 1, 12), (1, 7, 13), (7, 1, 13), (1, 6, 14), (2, 3, 14), (3, 2, 14), (6, 1, 14), (1, 5, 15), (5, 1, 15), (1, 4, 16), (2, 2, 16), (4, 1, 16), (1, 3, 17), (3, 1, 17), (1, 2, 18), (2, 1, 18), (1, 1, 19)]\n"
     ]
    }
   ],
   "metadata": {}
  },
  {
   "cell_type": "code",
   "execution_count": 49,
   "source": [
    "divisors"
   ],
   "outputs": [
    {
     "output_type": "execute_result",
     "data": {
      "text/plain": [
       "[1, 2, 4, 5, 8, 10, 20, 40]"
      ]
     },
     "metadata": {},
     "execution_count": 49
    }
   ],
   "metadata": {}
  },
  {
   "cell_type": "code",
   "execution_count": null,
   "source": [
    "1*40\r\n",
    "2*20\r\n",
    "4*10\r\n",
    "5*8\r\n",
    "\r\n",
    "\r\n",
    "8*5\r\n",
    "10*4\r\n",
    "20*2\r\n",
    "40*1\r\n",
    "\r\n",
    "1*36\r\n",
    "2*18\r\n",
    "3*12\r\n",
    "4*9\r\n",
    "6*6\r\n"
   ],
   "outputs": [],
   "metadata": {}
  },
  {
   "cell_type": "code",
   "execution_count": null,
   "source": [
    "\r\n",
    "input:\r\n",
    "12345\r\n",
    "1, 2, 5, 10, 100\r\n",
    "output:\r\n",
    "15"
   ],
   "outputs": [],
   "metadata": {}
  },
  {
   "cell_type": "code",
   "execution_count": 19,
   "source": [
    "notes = [100, 10, 5, 2, 1]\r\n",
    "money = 12345\r\n",
    "count_notes = [0 for _ in range(len(notes))]"
   ],
   "outputs": [],
   "metadata": {}
  },
  {
   "cell_type": "code",
   "execution_count": 21,
   "source": [
    "i = 0\r\n",
    "it = 0\r\n",
    "for note in notes:\r\n",
    "    count_notes[i] += money // note\r\n",
    "    money = money % note       \r\n",
    "    i += 1\r\n"
   ],
   "outputs": [],
   "metadata": {}
  },
  {
   "cell_type": "code",
   "execution_count": 24,
   "source": [
    "i = 0\r\n",
    "while money:\r\n",
    "    count_notes[i] += money // notes[i]\r\n",
    "    money = money % notes[i]\r\n",
    "    i += 1"
   ],
   "outputs": [],
   "metadata": {}
  },
  {
   "cell_type": "code",
   "execution_count": 25,
   "source": [
    "count_notes"
   ],
   "outputs": [
    {
     "output_type": "execute_result",
     "data": {
      "text/plain": [
       "[123, 4, 1, 0, 0]"
      ]
     },
     "metadata": {},
     "execution_count": 25
    }
   ],
   "metadata": {}
  },
  {
   "cell_type": "code",
   "execution_count": 23,
   "source": [
    "it"
   ],
   "outputs": [
    {
     "output_type": "execute_result",
     "data": {
      "text/plain": [
       "5"
      ]
     },
     "metadata": {},
     "execution_count": 23
    }
   ],
   "metadata": {}
  },
  {
   "cell_type": "code",
   "execution_count": 9,
   "source": [
    "23//10"
   ],
   "outputs": [
    {
     "output_type": "execute_result",
     "data": {
      "text/plain": [
       "2"
      ]
     },
     "metadata": {},
     "execution_count": 9
    }
   ],
   "metadata": {}
  }
 ],
 "metadata": {
  "orig_nbformat": 4,
  "language_info": {
   "name": "python",
   "version": "3.8.3",
   "mimetype": "text/x-python",
   "codemirror_mode": {
    "name": "ipython",
    "version": 3
   },
   "pygments_lexer": "ipython3",
   "nbconvert_exporter": "python",
   "file_extension": ".py"
  },
  "kernelspec": {
   "name": "python3",
   "display_name": "Python 3.8.3 64-bit"
  },
  "interpreter": {
   "hash": "2db524e06e9f5f4ffedc911c917cb75e12dbc923643829bf417064a77eb14d37"
  }
 },
 "nbformat": 4,
 "nbformat_minor": 2
}